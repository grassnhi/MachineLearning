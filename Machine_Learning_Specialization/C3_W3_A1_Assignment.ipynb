{
 "cells": [
  {
   "cell_type": "markdown",
   "metadata": {},
   "source": [
    "# Deep Q-Learning - Lunar Lander\n",
    "\n",
    "In this assignment, you will train an agent to land a lunar lander safely on a landing pad on the surface of the moon.\n",
    "\n",
    "\n",
    "# Outline\n",
    "- [ 1 - Import Packages <img align=\"Right\" src=\"./images/lunar_lander.gif\" width = 60% >](#1)\n",
    "- [ 2 - Hyperparameters](#2)\n",
    "- [ 3 - The Lunar Lander Environment](#3)\n",
    "  - [ 3.1 Action Space](#3.1)\n",
    "  - [ 3.2 Observation Space](#3.2)\n",
    "  - [ 3.3 Rewards](#3.3)\n",
    "  - [ 3.4 Episode Termination](#3.4)\n",
    "- [ 4 - Load the Environment](#4)\n",
    "- [ 5 - Interacting with the Gym Environment](#5)\n",
    "    - [ 5.1 Exploring the Environment's Dynamics](#5.1)\n",
    "- [ 6 - Deep Q-Learning](#6)\n",
    "  - [ 6.1 Target Network](#6.1)\n",
    "    - [ Exercise 1](#ex01)\n",
    "  - [ 6.2 Experience Replay](#6.2)\n",
    "- [ 7 - Deep Q-Learning Algorithm with Experience Replay](#7)\n",
    "  - [ Exercise 2](#ex02)\n",
    "- [ 8 - Update the Network Weights](#8)\n",
    "- [ 9 - Train the Agent](#9)\n",
    "- [ 10 - See the Trained Agent In Action](#10)\n",
    "- [ 11 - Congratulations!](#11)\n",
    "- [ 12 - References](#12)\n"
   ]
  },
  {
   "cell_type": "markdown",
   "metadata": {},
   "source": [
    "_**NOTE:** To prevent errors from the autograder, you are not allowed to edit or delete non-graded cells in this lab. Please also refrain from adding any new cells. \n",
    "**Once you have passed this assignment** and want to experiment with any of the non-graded code, you may follow the instructions at the bottom of this notebook._"
   ]
  },
  {
   "cell_type": "markdown",
   "metadata": {},
   "source": [
    "<a name=\"1\"></a>\n",
    "## 1 - Import Packages\n",
    "\n",
    "We'll make use of the following packages:\n",
    "- `numpy` is a package for scientific computing in python.\n",
    "- `deque` will be our data structure for our memory buffer.\n",
    "- `namedtuple` will be used to store the experience tuples.\n",
    "- The `gym` toolkit is a collection of environments that can be used to test reinforcement learning algorithms. We should note that in this notebook we are using `gym` version `0.24.0`.\n",
    "- `PIL.Image` and `pyvirtualdisplay` are needed to render the Lunar Lander environment.\n",
    "- We will use several modules from the `tensorflow.keras` framework for building deep learning models.\n",
    "- `utils` is a module that contains helper functions for this assignment. You do not need to modify the code in this file.\n",
    "\n",
    "Run the cell below to import all the necessary packages."
   ]
  },
  {
   "cell_type": "code",
   "execution_count": 1,
   "metadata": {
    "deletable": false,
    "editable": false,
    "id": "KYbOPKRtfQOr"
   },
   "outputs": [],
   "source": [
    "import time\n",
    "from collections import deque, namedtuple\n",
    "\n",
    "import gym\n",
    "import numpy as np\n",
    "import PIL.Image\n",
    "import tensorflow as tf\n",
    "import utils\n",
    "\n",
    "from pyvirtualdisplay import Display\n",
    "from tensorflow.keras import Sequential\n",
    "from tensorflow.keras.layers import Dense, Input\n",
    "from tensorflow.keras.losses import MSE\n",
    "from tensorflow.keras.optimizers import Adam"
   ]
  },
  {
   "cell_type": "code",
   "execution_count": 2,
   "metadata": {
    "deletable": false,
    "editable": false
   },
   "outputs": [],
   "source": [
    "# Set up a virtual display to render the Lunar Lander environment.\n",
    "Display(visible=0, size=(840, 480)).start();\n",
    "\n",
    "# Set the random seed for TensorFlow\n",
    "tf.random.set_seed(utils.SEED)"
   ]
  },
  {
   "cell_type": "markdown",
   "metadata": {},
   "source": [
    "<a name=\"2\"></a>\n",
    "## 2 - Hyperparameters\n",
    "\n",
    "Run the cell below to set the hyperparameters."
   ]
  },
  {
   "cell_type": "code",
   "execution_count": 3,
   "metadata": {
    "deletable": false,
    "editable": false
   },
   "outputs": [],
   "source": [
    "MEMORY_SIZE = 100_000     # size of memory buffer\n",
    "GAMMA = 0.995             # discount factor\n",
    "ALPHA = 1e-3              # learning rate  \n",
    "NUM_STEPS_FOR_UPDATE = 4  # perform a learning update every C time steps"
   ]
  },
  {
   "cell_type": "markdown",
   "metadata": {},
   "source": [
    "<a name=\"3\"></a>\n",
    "## 3 - The Lunar Lander Environment\n",
    "\n",
    "In this notebook we will be using [OpenAI's Gym Library](https://www.gymlibrary.dev/). The Gym library provides a wide variety of environments for reinforcement learning. To put it simply, an environment represents a problem or task to be solved. In this notebook, we will try to solve the Lunar Lander environment using reinforcement learning.\n",
    "\n",
    "The goal of the Lunar Lander environment is to land the lunar lander safely on the landing pad on the surface of the moon. The landing pad is designated by two flag poles and its center is at coordinates `(0,0)` but the lander is also allowed to land outside of the landing pad. The lander starts at the top center of the environment with a random initial force applied to its center of mass and has infinite fuel. The environment is considered solved if you get `200` points. \n",
    "\n",
    "<br>\n",
    "<br>\n",
    "<figure>\n",
    "  <img src = \"images/lunar_lander.gif\" width = 40%>\n",
    "      <figcaption style = \"text-align: center; font-style: italic\">Fig 1. Lunar Lander Environment.</figcaption>\n",
    "</figure>\n",
    "\n",
    "\n",
    "\n",
    "<a name=\"3.1\"></a>\n",
    "### 3.1 Action Space\n",
    "\n",
    "The agent has four discrete actions available:\n",
    "\n",
    "* Do nothing.\n",
    "* Fire right engine.\n",
    "* Fire main engine.\n",
    "* Fire left engine.\n",
    "\n",
    "Each action has a corresponding numerical value:\n",
    "\n",
    "```python\n",
    "Do nothing = 0\n",
    "Fire right engine = 1\n",
    "Fire main engine = 2\n",
    "Fire left engine = 3\n",
    "```\n",
    "\n",
    "<a name=\"3.2\"></a>\n",
    "### 3.2 Observation Space\n",
    "\n",
    "The agent's observation space consists of a state vector with 8 variables:\n",
    "\n",
    "* Its $(x,y)$ coordinates. The landing pad is always at coordinates $(0,0)$.\n",
    "* Its linear velocities $(\\dot x,\\dot y)$.\n",
    "* Its angle $\\theta$.\n",
    "* Its angular velocity $\\dot \\theta$.\n",
    "* Two booleans, $l$ and $r$, that represent whether each leg is in contact with the ground or not.\n",
    "\n",
    "<a name=\"3.3\"></a>\n",
    "### 3.3 Rewards\n",
    "\n",
    "After every step, a reward is granted. The total reward of an episode is the sum of the rewards for all the steps within that episode.\n",
    "\n",
    "For each step, the reward:\n",
    "- is increased/decreased the closer/further the lander is to the landing pad.\n",
    "- is increased/decreased the slower/faster the lander is moving.\n",
    "- is decreased the more the lander is tilted (angle not horizontal).\n",
    "- is increased by 10 points for each leg that is in contact with the ground.\n",
    "- is decreased by 0.03 points each frame a side engine is firing.\n",
    "- is decreased by 0.3 points each frame the main engine is firing.\n",
    "\n",
    "The episode receives an additional reward of -100 or +100 points for crashing or landing safely respectively.\n",
    "\n",
    "<a name=\"3.4\"></a>\n",
    "### 3.4 Episode Termination\n",
    "\n",
    "An episode ends (i.e the environment enters a terminal state) if:\n",
    "\n",
    "* The lunar lander crashes (i.e if the body of the lunar lander comes in contact with the surface of the moon).\n",
    "\n",
    "* The absolute value of the lander's $x$-coordinate is greater than 1 (i.e. it goes beyond the left or right border)\n",
    "\n",
    "You can check out the [Open AI Gym documentation](https://www.gymlibrary.dev/environments/box2d/lunar_lander/) for a full description of the environment. "
   ]
  },
  {
   "cell_type": "markdown",
   "metadata": {},
   "source": [
    "<a name=\"4\"></a>\n",
    "## 4 - Load the Environment\n",
    "\n",
    "We start by loading the `LunarLander-v2` environment from the `gym` library by using the `.make()` method. `LunarLander-v2` is the latest version of the Lunar Lander environment and you can read about its version history in the [Open AI Gym documentation](https://www.gymlibrary.dev/environments/box2d/lunar_lander/#version-history)."
   ]
  },
  {
   "cell_type": "code",
   "execution_count": 4,
   "metadata": {
    "deletable": false,
    "editable": false,
    "id": "ILVMYKewfR0n"
   },
   "outputs": [],
   "source": [
    "env = gym.make('LunarLander-v2')"
   ]
  },
  {
   "cell_type": "markdown",
   "metadata": {},
   "source": [
    "Once we load the environment we use the `.reset()` method to reset the environment to the initial state. The lander starts at the top center of the environment and we can render the first frame of the environment by using the `.render()` method."
   ]
  },
  {
   "cell_type": "code",
   "execution_count": 5,
   "metadata": {
    "deletable": false,
    "editable": false
   },
   "outputs": [
    {
     "data": {
      "image/png": "[encoded data removed]",
      "text/plain": [
       "<PIL.Image.Image image mode=RGB size=600x400 at 0x7A61C80814D0>"
      ]
     },
     "execution_count": 5,
     "metadata": {},
     "output_type": "execute_result"
    }
   ],
   "source": [
    "env.reset()\n",
    "PIL.Image.fromarray(env.render(mode='rgb_array'))"
   ]
  },
  {
   "cell_type": "markdown",
   "metadata": {},
   "source": [
    "In order to build our neural network later on we need to know the size of the state vector and the number of valid actions. We can get this information from our environment by using the `.observation_space.shape` and `action_space.n` methods, respectively."
   ]
  },
  {
   "cell_type": "code",
   "execution_count": 6,
   "metadata": {
    "deletable": false,
    "editable": false,
    "id": "x3fdqdG4CUu2"
   },
   "outputs": [
    {
     "name": "stdout",
     "output_type": "stream",
     "text": [
      "State Shape: (8,)\n",
      "Number of actions: 4\n"
     ]
    }
   ],
   "source": [
    "state_size = env.observation_space.shape\n",
    "num_actions = env.action_space.n\n",
    "\n",
    "print('State Shape:', state_size)\n",
    "print('Number of actions:', num_actions)"
   ]
  },
  {
   "cell_type": "markdown",
   "metadata": {},
   "source": [
    "<a name=\"5\"></a>\n",
    "## 5 - Interacting with the Gym Environment\n",
    "\n",
    "The Gym library implements the standard “agent-environment loop” formalism:\n",
    "\n",
    "<br>\n",
    "<center>\n",
    "<video src = \"./videos/rl_formalism.m4v\" width=\"840\" height=\"480\" controls autoplay loop poster=\"./images/rl_formalism.png\"> </video>\n",
    "<figcaption style = \"text-align:center; font-style:italic\">Fig 2. Agent-environment Loop Formalism.</figcaption>\n",
    "</center>\n",
    "<br>\n",
    "\n",
    "In the standard “agent-environment loop” formalism, an agent interacts with the environment in discrete time steps $t=0,1,2,...$. At each time step $t$, the agent uses a policy $\\pi$ to select an action $A_t$ based on its observation of the environment's state $S_t$. The agent receives a numerical reward $R_t$ and on the next time step, moves to a new state $S_{t+1}$.\n",
    "\n",
    "<a name=\"5.1\"></a>\n",
    "### 5.1 Exploring the Environment's Dynamics\n",
    "\n",
    "In Open AI's Gym environments, we use the `.step()` method to run a single time step of the environment's dynamics. In the version of `gym` that we are using the `.step()` method accepts an action and returns four values:\n",
    "\n",
    "* `observation` (**object**): an environment-specific object representing your observation of the environment. In the Lunar Lander environment this corresponds to a numpy array containing the positions and velocities of the lander as described in section [3.2 Observation Space](#3.2).\n",
    "\n",
    "\n",
    "* `reward` (**float**): amount of reward returned as a result of taking the given action. In the Lunar Lander environment this corresponds to a float of type `numpy.float64` as described in section [3.3 Rewards](#3.3).\n",
    "\n",
    "\n",
    "* `done` (**boolean**): When done is `True`, it indicates the episode has terminated and it’s time to reset the environment. \n",
    "\n",
    "\n",
    "* `info` (**dictionary**): diagnostic information useful for debugging. We won't be using this variable in this notebook but it is shown here for completeness.\n",
    "\n",
    "To begin an episode, we need to reset the environment to an initial state. We do this by using the `.reset()` method. "
   ]
  },
  {
   "cell_type": "code",
   "execution_count": 7,
   "metadata": {
    "deletable": false,
    "editable": false
   },
   "outputs": [],
   "source": [
    "# Reset the environment and get the initial state.\n",
    "current_state = env.reset()"
   ]
  },
  {
   "cell_type": "markdown",
   "metadata": {},
   "source": [
    "Once the environment is reset, the agent can start taking actions in the environment by using the `.step()` method. Note that the agent can only take one action per time step. \n",
    "\n",
    "In the cell below you can select different actions and see how the returned values change depending on the action taken. Remember that in this environment the agent has four discrete actions available and we specify them in code by using their corresponding numerical value:\n",
    "\n",
    "```python\n",
    "Do nothing = 0\n",
    "Fire right engine = 1\n",
    "Fire main engine = 2\n",
    "Fire left engine = 3\n",
    "```"
   ]
  },
  {
   "cell_type": "code",
   "execution_count": 8,
   "metadata": {
    "deletable": false
   },
   "outputs": [
    {
     "data": {
      "text/html": [
       "<style  type=\"text/css\" >\n",
       "    #T_28c3d524_0713_11ef_a791_0242ac120110 th {\n",
       "          border: 1px solid grey;\n",
       "          text-align: center;\n",
       "    }    #T_28c3d524_0713_11ef_a791_0242ac120110 tbody td {\n",
       "          border: 1px solid grey;\n",
       "          text-align: center;\n",
       "    }    #T_28c3d524_0713_11ef_a791_0242ac120110row0_col0 {\n",
       "            background-color :  grey;\n",
       "        }    #T_28c3d524_0713_11ef_a791_0242ac120110row1_col1 {\n",
       "            background-color :  grey;\n",
       "        }    #T_28c3d524_0713_11ef_a791_0242ac120110row1_col2 {\n",
       "            background-color :  grey;\n",
       "        }    #T_28c3d524_0713_11ef_a791_0242ac120110row1_col3 {\n",
       "            background-color :  grey;\n",
       "        }    #T_28c3d524_0713_11ef_a791_0242ac120110row1_col4 {\n",
       "            background-color :  grey;\n",
       "        }    #T_28c3d524_0713_11ef_a791_0242ac120110row1_col5 {\n",
       "            background-color :  grey;\n",
       "        }    #T_28c3d524_0713_11ef_a791_0242ac120110row1_col6 {\n",
       "            background-color :  grey;\n",
       "        }    #T_28c3d524_0713_11ef_a791_0242ac120110row1_col7 {\n",
       "            background-color :  grey;\n",
       "        }    #T_28c3d524_0713_11ef_a791_0242ac120110row1_col8 {\n",
       "            background-color :  grey;\n",
       "        }    #T_28c3d524_0713_11ef_a791_0242ac120110row1_col9 {\n",
       "            background-color :  grey;\n",
       "        }    #T_28c3d524_0713_11ef_a791_0242ac120110row1_col10 {\n",
       "            background-color :  grey;\n",
       "        }    #T_28c3d524_0713_11ef_a791_0242ac120110row1_col11 {\n",
       "            background-color :  grey;\n",
       "        }    #T_28c3d524_0713_11ef_a791_0242ac120110row2_col0 {\n",
       "            background-color :  grey;\n",
       "        }    #T_28c3d524_0713_11ef_a791_0242ac120110row3_col1 {\n",
       "            background-color :  grey;\n",
       "        }    #T_28c3d524_0713_11ef_a791_0242ac120110row3_col2 {\n",
       "            background-color :  grey;\n",
       "        }    #T_28c3d524_0713_11ef_a791_0242ac120110row3_col3 {\n",
       "            background-color :  grey;\n",
       "        }    #T_28c3d524_0713_11ef_a791_0242ac120110row3_col4 {\n",
       "            background-color :  grey;\n",
       "        }    #T_28c3d524_0713_11ef_a791_0242ac120110row3_col5 {\n",
       "            background-color :  grey;\n",
       "        }    #T_28c3d524_0713_11ef_a791_0242ac120110row3_col6 {\n",
       "            background-color :  grey;\n",
       "        }    #T_28c3d524_0713_11ef_a791_0242ac120110row3_col7 {\n",
       "            background-color :  grey;\n",
       "        }    #T_28c3d524_0713_11ef_a791_0242ac120110row3_col8 {\n",
       "            background-color :  grey;\n",
       "        }    #T_28c3d524_0713_11ef_a791_0242ac120110row3_col9 {\n",
       "            background-color :  grey;\n",
       "        }    #T_28c3d524_0713_11ef_a791_0242ac120110row3_col10 {\n",
       "            background-color :  grey;\n",
       "        }    #T_28c3d524_0713_11ef_a791_0242ac120110row3_col11 {\n",
       "            background-color :  grey;\n",
       "        }    #T_28c3d524_0713_11ef_a791_0242ac120110row4_col1 {\n",
       "            background-color :  grey;\n",
       "        }    #T_28c3d524_0713_11ef_a791_0242ac120110row4_col2 {\n",
       "            background-color :  grey;\n",
       "        }    #T_28c3d524_0713_11ef_a791_0242ac120110row4_col3 {\n",
       "            background-color :  grey;\n",
       "        }    #T_28c3d524_0713_11ef_a791_0242ac120110row4_col4 {\n",
       "            background-color :  grey;\n",
       "        }    #T_28c3d524_0713_11ef_a791_0242ac120110row4_col5 {\n",
       "            background-color :  grey;\n",
       "        }    #T_28c3d524_0713_11ef_a791_0242ac120110row4_col6 {\n",
       "            background-color :  grey;\n",
       "        }    #T_28c3d524_0713_11ef_a791_0242ac120110row4_col7 {\n",
       "            background-color :  grey;\n",
       "        }    #T_28c3d524_0713_11ef_a791_0242ac120110row4_col8 {\n",
       "            background-color :  grey;\n",
       "        }    #T_28c3d524_0713_11ef_a791_0242ac120110row4_col9 {\n",
       "            background-color :  grey;\n",
       "        }    #T_28c3d524_0713_11ef_a791_0242ac120110row4_col10 {\n",
       "            background-color :  grey;\n",
       "        }    #T_28c3d524_0713_11ef_a791_0242ac120110row4_col11 {\n",
       "            background-color :  grey;\n",
       "        }</style><table id=\"T_28c3d524_0713_11ef_a791_0242ac120110\" ><thead>    <tr>        <th class=\"blank level0\" ></th>        <th class=\"col_heading level0 col0\" ></th>        <th class=\"col_heading level0 col1\" colspan=8>State Vector</th>        <th class=\"col_heading level0 col9\" colspan=3>Derived from the State Vector (the closer to zero, the better)</th>    </tr>    <tr>        <th class=\"blank level1\" ></th>        <th class=\"col_heading level1 col0\" ></th>        <th class=\"col_heading level1 col1\" colspan=2>Coordinate</th>        <th class=\"col_heading level1 col3\" colspan=2>Velocity</th>        <th class=\"col_heading level1 col5\" colspan=2>Tilting</th>        <th class=\"col_heading level1 col7\" colspan=2>Ground contact</th>        <th class=\"col_heading level1 col9\" >Distance from landing pad</th>        <th class=\"col_heading level1 col10\" >Velocity</th>        <th class=\"col_heading level1 col11\" >Tilting Angle (absolute value)</th>    </tr>    <tr>        <th class=\"blank level2\" ></th>        <th class=\"col_heading level2 col0\" ></th>        <th class=\"col_heading level2 col1\" >X (Horizontal)</th>        <th class=\"col_heading level2 col2\" >Y (Vertical)</th>        <th class=\"col_heading level2 col3\" >X (Horizontal)</th>        <th class=\"col_heading level2 col4\" >Y (Vertical)</th>        <th class=\"col_heading level2 col5\" >Angle</th>        <th class=\"col_heading level2 col6\" >Angular Velocity</th>        <th class=\"col_heading level2 col7\" >Left Leg?</th>        <th class=\"col_heading level2 col8\" >Right Leg?</th>        <th class=\"col_heading level2 col9\" ></th>        <th class=\"col_heading level2 col10\" ></th>        <th class=\"col_heading level2 col11\" ></th>    </tr></thead><tbody>\n",
       "                <tr>\n",
       "                        <th id=\"T_28c3d524_0713_11ef_a791_0242ac120110level0_row0\" class=\"row_heading level0 row0\" >Current State</th>\n",
       "                        <td id=\"T_28c3d524_0713_11ef_a791_0242ac120110row0_col0\" class=\"data row0 col0\" ></td>\n",
       "                        <td id=\"T_28c3d524_0713_11ef_a791_0242ac120110row0_col1\" class=\"data row0 col1\" >0.001919</td>\n",
       "                        <td id=\"T_28c3d524_0713_11ef_a791_0242ac120110row0_col2\" class=\"data row0 col2\" >1.422301</td>\n",
       "                        <td id=\"T_28c3d524_0713_11ef_a791_0242ac120110row0_col3\" class=\"data row0 col3\" >0.194400</td>\n",
       "                        <td id=\"T_28c3d524_0713_11ef_a791_0242ac120110row0_col4\" class=\"data row0 col4\" >0.505814</td>\n",
       "                        <td id=\"T_28c3d524_0713_11ef_a791_0242ac120110row0_col5\" class=\"data row0 col5\" >-0.002217</td>\n",
       "                        <td id=\"T_28c3d524_0713_11ef_a791_0242ac120110row0_col6\" class=\"data row0 col6\" >-0.044034</td>\n",
       "                        <td id=\"T_28c3d524_0713_11ef_a791_0242ac120110row0_col7\" class=\"data row0 col7\" >False</td>\n",
       "                        <td id=\"T_28c3d524_0713_11ef_a791_0242ac120110row0_col8\" class=\"data row0 col8\" >False</td>\n",
       "                        <td id=\"T_28c3d524_0713_11ef_a791_0242ac120110row0_col9\" class=\"data row0 col9\" >1.422302</td>\n",
       "                        <td id=\"T_28c3d524_0713_11ef_a791_0242ac120110row0_col10\" class=\"data row0 col10\" >0.541885</td>\n",
       "                        <td id=\"T_28c3d524_0713_11ef_a791_0242ac120110row0_col11\" class=\"data row0 col11\" >0.002217</td>\n",
       "            </tr>\n",
       "            <tr>\n",
       "                        <th id=\"T_28c3d524_0713_11ef_a791_0242ac120110level0_row1\" class=\"row_heading level0 row1\" >Action</th>\n",
       "                        <td id=\"T_28c3d524_0713_11ef_a791_0242ac120110row1_col0\" class=\"data row1 col0\" >Do nothing</td>\n",
       "                        <td id=\"T_28c3d524_0713_11ef_a791_0242ac120110row1_col1\" class=\"data row1 col1\" ></td>\n",
       "                        <td id=\"T_28c3d524_0713_11ef_a791_0242ac120110row1_col2\" class=\"data row1 col2\" ></td>\n",
       "                        <td id=\"T_28c3d524_0713_11ef_a791_0242ac120110row1_col3\" class=\"data row1 col3\" ></td>\n",
       "                        <td id=\"T_28c3d524_0713_11ef_a791_0242ac120110row1_col4\" class=\"data row1 col4\" ></td>\n",
       "                        <td id=\"T_28c3d524_0713_11ef_a791_0242ac120110row1_col5\" class=\"data row1 col5\" ></td>\n",
       "                        <td id=\"T_28c3d524_0713_11ef_a791_0242ac120110row1_col6\" class=\"data row1 col6\" ></td>\n",
       "                        <td id=\"T_28c3d524_0713_11ef_a791_0242ac120110row1_col7\" class=\"data row1 col7\" ></td>\n",
       "                        <td id=\"T_28c3d524_0713_11ef_a791_0242ac120110row1_col8\" class=\"data row1 col8\" ></td>\n",
       "                        <td id=\"T_28c3d524_0713_11ef_a791_0242ac120110row1_col9\" class=\"data row1 col9\" ></td>\n",
       "                        <td id=\"T_28c3d524_0713_11ef_a791_0242ac120110row1_col10\" class=\"data row1 col10\" ></td>\n",
       "                        <td id=\"T_28c3d524_0713_11ef_a791_0242ac120110row1_col11\" class=\"data row1 col11\" ></td>\n",
       "            </tr>\n",
       "            <tr>\n",
       "                        <th id=\"T_28c3d524_0713_11ef_a791_0242ac120110level0_row2\" class=\"row_heading level0 row2\" >Next State</th>\n",
       "                        <td id=\"T_28c3d524_0713_11ef_a791_0242ac120110row2_col0\" class=\"data row2 col0\" ></td>\n",
       "                        <td id=\"T_28c3d524_0713_11ef_a791_0242ac120110row2_col1\" class=\"data row2 col1\" >0.003839</td>\n",
       "                        <td id=\"T_28c3d524_0713_11ef_a791_0242ac120110row2_col2\" class=\"data row2 col2\" >1.433103</td>\n",
       "                        <td id=\"T_28c3d524_0713_11ef_a791_0242ac120110row2_col3\" class=\"data row2 col3\" >0.194137</td>\n",
       "                        <td id=\"T_28c3d524_0713_11ef_a791_0242ac120110row2_col4\" class=\"data row2 col4\" >0.480094</td>\n",
       "                        <td id=\"T_28c3d524_0713_11ef_a791_0242ac120110row2_col5\" class=\"data row2 col5\" >-0.004393</td>\n",
       "                        <td id=\"T_28c3d524_0713_11ef_a791_0242ac120110row2_col6\" class=\"data row2 col6\" >-0.043519</td>\n",
       "                        <td id=\"T_28c3d524_0713_11ef_a791_0242ac120110row2_col7\" class=\"data row2 col7\" >False</td>\n",
       "                        <td id=\"T_28c3d524_0713_11ef_a791_0242ac120110row2_col8\" class=\"data row2 col8\" >False</td>\n",
       "                        <td id=\"T_28c3d524_0713_11ef_a791_0242ac120110row2_col9\" class=\"data row2 col9\" >1.433108</td>\n",
       "                        <td id=\"T_28c3d524_0713_11ef_a791_0242ac120110row2_col10\" class=\"data row2 col10\" >0.517860</td>\n",
       "                        <td id=\"T_28c3d524_0713_11ef_a791_0242ac120110row2_col11\" class=\"data row2 col11\" >0.004393</td>\n",
       "            </tr>\n",
       "            <tr>\n",
       "                        <th id=\"T_28c3d524_0713_11ef_a791_0242ac120110level0_row3\" class=\"row_heading level0 row3\" >Reward</th>\n",
       "                        <td id=\"T_28c3d524_0713_11ef_a791_0242ac120110row3_col0\" class=\"data row3 col0\" >1.104326</td>\n",
       "                        <td id=\"T_28c3d524_0713_11ef_a791_0242ac120110row3_col1\" class=\"data row3 col1\" ></td>\n",
       "                        <td id=\"T_28c3d524_0713_11ef_a791_0242ac120110row3_col2\" class=\"data row3 col2\" ></td>\n",
       "                        <td id=\"T_28c3d524_0713_11ef_a791_0242ac120110row3_col3\" class=\"data row3 col3\" ></td>\n",
       "                        <td id=\"T_28c3d524_0713_11ef_a791_0242ac120110row3_col4\" class=\"data row3 col4\" ></td>\n",
       "                        <td id=\"T_28c3d524_0713_11ef_a791_0242ac120110row3_col5\" class=\"data row3 col5\" ></td>\n",
       "                        <td id=\"T_28c3d524_0713_11ef_a791_0242ac120110row3_col6\" class=\"data row3 col6\" ></td>\n",
       "                        <td id=\"T_28c3d524_0713_11ef_a791_0242ac120110row3_col7\" class=\"data row3 col7\" ></td>\n",
       "                        <td id=\"T_28c3d524_0713_11ef_a791_0242ac120110row3_col8\" class=\"data row3 col8\" ></td>\n",
       "                        <td id=\"T_28c3d524_0713_11ef_a791_0242ac120110row3_col9\" class=\"data row3 col9\" ></td>\n",
       "                        <td id=\"T_28c3d524_0713_11ef_a791_0242ac120110row3_col10\" class=\"data row3 col10\" ></td>\n",
       "                        <td id=\"T_28c3d524_0713_11ef_a791_0242ac120110row3_col11\" class=\"data row3 col11\" ></td>\n",
       "            </tr>\n",
       "            <tr>\n",
       "                        <th id=\"T_28c3d524_0713_11ef_a791_0242ac120110level0_row4\" class=\"row_heading level0 row4\" >Episode Terminated</th>\n",
       "                        <td id=\"T_28c3d524_0713_11ef_a791_0242ac120110row4_col0\" class=\"data row4 col0\" >False</td>\n",
       "                        <td id=\"T_28c3d524_0713_11ef_a791_0242ac120110row4_col1\" class=\"data row4 col1\" ></td>\n",
       "                        <td id=\"T_28c3d524_0713_11ef_a791_0242ac120110row4_col2\" class=\"data row4 col2\" ></td>\n",
       "                        <td id=\"T_28c3d524_0713_11ef_a791_0242ac120110row4_col3\" class=\"data row4 col3\" ></td>\n",
       "                        <td id=\"T_28c3d524_0713_11ef_a791_0242ac120110row4_col4\" class=\"data row4 col4\" ></td>\n",
       "                        <td id=\"T_28c3d524_0713_11ef_a791_0242ac120110row4_col5\" class=\"data row4 col5\" ></td>\n",
       "                        <td id=\"T_28c3d524_0713_11ef_a791_0242ac120110row4_col6\" class=\"data row4 col6\" ></td>\n",
       "                        <td id=\"T_28c3d524_0713_11ef_a791_0242ac120110row4_col7\" class=\"data row4 col7\" ></td>\n",
       "                        <td id=\"T_28c3d524_0713_11ef_a791_0242ac120110row4_col8\" class=\"data row4 col8\" ></td>\n",
       "                        <td id=\"T_28c3d524_0713_11ef_a791_0242ac120110row4_col9\" class=\"data row4 col9\" ></td>\n",
       "                        <td id=\"T_28c3d524_0713_11ef_a791_0242ac120110row4_col10\" class=\"data row4 col10\" ></td>\n",
       "                        <td id=\"T_28c3d524_0713_11ef_a791_0242ac120110row4_col11\" class=\"data row4 col11\" ></td>\n",
       "            </tr>\n",
       "    </tbody></table>"
      ],
      "text/plain": [
       "<pandas.io.formats.style.Styler at 0x7a625912d250>"
      ]
     },
     "metadata": {},
     "output_type": "display_data"
    }
   ],
   "source": [
    "# Select an action\n",
    "action = 0\n",
    "\n",
    "# Run a single time step of the environment's dynamics with the given action.\n",
    "next_state, reward, done, _ = env.step(action)\n",
    "\n",
    "# Display table with values.\n",
    "utils.display_table(current_state, action, next_state, reward, done)\n",
    "\n",
    "# Replace the `current_state` with the state after the action is taken\n",
    "current_state = next_state"
   ]
  },
  {
   "cell_type": "markdown",
   "metadata": {},
   "source": [
    "In practice, when we train the agent we use a loop to allow the agent to take many consecutive actions during an episode."
   ]
  },
  {
   "cell_type": "markdown",
   "metadata": {},
   "source": [
    "<a name=\"6\"></a>\n",
    "## 6 - Deep Q-Learning\n",
    "\n",
    "In cases where both the state and action space are discrete we can estimate the action-value function iteratively by using the Bellman equation:\n",
    "\n",
    "$$\n",
    "Q_{i+1}(s,a) = R + \\gamma \\max_{a'}Q_i(s',a')\n",
    "$$\n",
    "\n",
    "This iterative method converges to the optimal action-value function $Q^*(s,a)$ as $i\\to\\infty$. This means that the agent just needs to gradually explore the state-action space and keep updating the estimate of $Q(s,a)$ until it converges to the optimal action-value function $Q^*(s,a)$. However, in cases where the state space is continuous it becomes practically impossible to explore the entire state-action space. Consequently, this also makes it practically impossible to gradually estimate $Q(s,a)$ until it converges to $Q^*(s,a)$.\n",
    "\n",
    "In the Deep $Q$-Learning, we solve this problem by using a neural network to estimate the action-value function $Q(s,a)\\approx Q^*(s,a)$. We call this neural network a $Q$-Network and it can be trained by adjusting its weights at each iteration to minimize the mean-squared error in the Bellman equation.\n",
    "\n",
    "Unfortunately, using neural networks in reinforcement learning to estimate action-value functions has proven to be highly unstable. Luckily, there's a couple of techniques that can be employed to avoid instabilities. These techniques consist of using a ***Target Network*** and ***Experience Replay***. We will explore these two techniques in the following sections."
   ]
  },
  {
   "cell_type": "markdown",
   "metadata": {},
   "source": [
    "<a name=\"6.1\"></a>\n",
    "### 6.1 Target Network\n",
    "\n",
    "We can train the $Q$-Network by adjusting it's weights at each iteration to minimize the mean-squared error in the Bellman equation, where the target values are given by:\n",
    "\n",
    "$$\n",
    "y = R + \\gamma \\max_{a'}Q(s',a';w)\n",
    "$$\n",
    "\n",
    "where $w$ are the weights of the $Q$-Network. This means that we are adjusting the weights $w$ at each iteration to minimize the following error:\n",
    "\n",
    "$$\n",
    "\\overbrace{\\underbrace{R + \\gamma \\max_{a'}Q(s',a'; w)}_{\\rm {y~target}} - Q(s,a;w)}^{\\rm {Error}}\n",
    "$$\n",
    "\n",
    "Notice that this forms a problem because the $y$ target is changing on every iteration. Having a constantly moving target can lead to oscillations and instabilities. To avoid this, we can create\n",
    "a separate neural network for generating the $y$ targets. We call this separate neural network the **target $\\hat Q$-Network** and it will have the same architecture as the original $Q$-Network. By using the target $\\hat Q$-Network, the above error becomes:\n",
    "\n",
    "$$\n",
    "\\overbrace{\\underbrace{R + \\gamma \\max_{a'}\\hat{Q}(s',a'; w^-)}_{\\rm {y~target}} - Q(s,a;w)}^{\\rm {Error}}\n",
    "$$\n",
    "\n",
    "where $w^-$ and $w$ are the weights of the target $\\hat Q$-Network and $Q$-Network, respectively.\n",
    "\n",
    "In practice, we will use the following algorithm: every $C$ time steps we will use the $\\hat Q$-Network to generate the $y$ targets and update the weights of the target $\\hat Q$-Network using the weights of the $Q$-Network. We will update the weights $w^-$ of the the target $\\hat Q$-Network using a **soft update**. This means that we will update the weights $w^-$ using the following rule:\n",
    " \n",
    "$$\n",
    "w^-\\leftarrow \\tau w + (1 - \\tau) w^-\n",
    "$$\n",
    "\n",
    "where $\\tau\\ll 1$. By using the soft update, we are ensuring that the target values, $y$, change slowly, which greatly improves the stability of our learning algorithm."
   ]
  },
  {
   "cell_type": "markdown",
   "metadata": {},
   "source": [
    "<a name=\"ex01\"></a>\n",
    "### Exercise 1\n",
    "\n",
    "In this exercise you will create the $Q$ and target $\\hat Q$ networks and set the optimizer. Remember that the Deep $Q$-Network (DQN) is a neural network that approximates the action-value function $Q(s,a)\\approx Q^*(s,a)$. It does this by learning how to map states to $Q$ values.\n",
    "\n",
    "To solve the Lunar Lander environment, we are going to employ a DQN with the following architecture:\n",
    "\n",
    "* An `Input` layer that takes `state_size` as input.\n",
    "\n",
    "* A `Dense` layer with `64` units and a `relu` activation function.\n",
    "\n",
    "* A `Dense` layer with `64` units and a `relu` activation function.\n",
    "\n",
    "* A `Dense` layer with `num_actions` units and a `linear` activation function. This will be the output layer of our network.\n",
    "\n",
    "\n",
    "In the cell below you should create the $Q$-Network and the target $\\hat Q$-Network using the model architecture described above. Remember that both the $Q$-Network and the target $\\hat Q$-Network have the same architecture.\n",
    "\n",
    "Lastly, you should set `Adam` as the optimizer with a learning rate equal to `ALPHA`. Recall that `ALPHA` was defined in the [Hyperparameters](#2) section. We should note that for this exercise you should use the already imported packages:\n",
    "```python\n",
    "from tensorflow.keras.layers import Dense, Input\n",
    "from tensorflow.keras.optimizers import Adam\n",
    "```"
   ]
  },
  {
   "cell_type": "code",
   "execution_count": 10,
   "metadata": {
    "deletable": false
   },
   "outputs": [],
   "source": [
    "# UNQ_C1\n",
    "# GRADED CELL\n",
    "\n",
    "# Create the Q-Network\n",
    "q_network = Sequential([\n",
    "    ### START CODE HERE ### \n",
    "    Input(shape=state_size),                      \n",
    "    Dense(units=64, activation='relu'),            \n",
    "    Dense(units=64, activation='relu'),            \n",
    "    Dense(units=num_actions, activation='linear'),\n",
    "    ### END CODE HERE ### \n",
    "    ])\n",
    "\n",
    "# Create the target Q^-Network\n",
    "target_q_network = Sequential([\n",
    "    ### START CODE HERE ### \n",
    "    Input(shape=state_size),                      \n",
    "    Dense(units=64, activation='relu'),            \n",
    "    Dense(units=64, activation='relu'),            \n",
    "    Dense(units=num_actions, activation='linear'),\n",
    "    ### END CODE HERE ###\n",
    "    ])\n",
    "\n",
    "### START CODE HERE ### \n",
    "optimizer = Adam(learning_rate=ALPHA)\n",
    "### END CODE HERE ###"
   ]
  },
  {
   "cell_type": "code",
   "execution_count": 11,
   "metadata": {
    "deletable": false,
    "editable": false
   },
   "outputs": [
    {
     "name": "stdout",
     "output_type": "stream",
     "text": [
      "\u001b[92mAll tests passed!\n",
      "\u001b[92mAll tests passed!\n",
      "\u001b[92mAll tests passed!\n"
     ]
    }
   ],
   "source": [
    "# UNIT TEST\n",
    "from public_tests import *\n",
    "\n",
    "test_network(q_network)\n",
    "test_network(target_q_network)\n",
    "test_optimizer(optimizer, ALPHA) "
   ]
  },
  {
   "cell_type": "markdown",
   "metadata": {},
   "source": [
    "<details>\n",
    "  <summary><font size=\"3\" color=\"darkgreen\"><b>Click for hints</b></font></summary>\n",
    "    \n",
    "```python\n",
    "# Create the Q-Network\n",
    "q_network = Sequential([\n",
    "    Input(shape=state_size),                      \n",
    "    Dense(units=64, activation='relu'),            \n",
    "    Dense(units=64, activation='relu'),            \n",
    "    Dense(units=num_actions, activation='linear'),\n",
    "    ])\n",
    "\n",
    "# Create the target Q^-Network\n",
    "target_q_network = Sequential([\n",
    "    Input(shape=state_size),                       \n",
    "    Dense(units=64, activation='relu'),            \n",
    "    Dense(units=64, activation='relu'),            \n",
    "    Dense(units=num_actions, activation='linear'), \n",
    "    ])\n",
    "\n",
    "optimizer = Adam(learning_rate=ALPHA)                                  \n",
    "``` "
   ]
  },
  {
   "cell_type": "markdown",
   "metadata": {},
   "source": [
    "<a name=\"6.2\"></a>\n",
    "### 6.2 Experience Replay\n",
    "\n",
    "When an agent interacts with the environment, the states, actions, and rewards the agent experiences are sequential by nature. If the agent tries to learn from these consecutive experiences it can run into problems due to the strong correlations between them. To avoid this, we employ a technique known as **Experience Replay** to generate uncorrelated experiences for training our agent. Experience replay consists of storing the agent's experiences (i.e the states, actions, and rewards the agent receives) in a memory buffer and then sampling a random mini-batch of experiences from the buffer to do the learning. The experience tuples $(S_t, A_t, R_t, S_{t+1})$ will be added to the memory buffer at each time step as the agent interacts with the environment.\n",
    "\n",
    "For convenience, we will store the experiences as named tuples."
   ]
  },
  {
   "cell_type": "code",
   "execution_count": 12,
   "metadata": {
    "deletable": false,
    "editable": false
   },
   "outputs": [],
   "source": [
    "# Store experiences as named tuples\n",
    "experience = namedtuple(\"Experience\", field_names=[\"state\", \"action\", \"reward\", \"next_state\", \"done\"])"
   ]
  },
  {
   "cell_type": "markdown",
   "metadata": {},
   "source": [
    "By using experience replay we avoid problematic correlations, oscillations and instabilities. In addition, experience replay also allows the agent to potentially use the same experience in multiple weight updates, which increases data efficiency."
   ]
  },
  {
   "cell_type": "markdown",
   "metadata": {},
   "source": [
    "<a name=\"7\"></a>\n",
    "## 7 - Deep Q-Learning Algorithm with Experience Replay\n",
    "\n",
    "Now that we know all the techniques that we are going to use, we can put them together to arrive at the Deep Q-Learning Algorithm With Experience Replay.\n",
    "<br>\n",
    "<br>\n",
    "<figure>\n",
    "  <img src = \"images/deep_q_algorithm.png\" width = 90% style = \"border: thin silver solid; padding: 0px\">\n",
    "      <figcaption style = \"text-align: center; font-style: italic\">Fig 3. Deep Q-Learning with Experience Replay.</figcaption>\n",
    "</figure>"
   ]
  },
  {
   "cell_type": "markdown",
   "metadata": {},
   "source": [
    "<a name=\"ex02\"></a>\n",
    "### Exercise 2\n",
    "\n",
    "In this exercise you will implement line ***12*** of the algorithm outlined in *Fig 3* above and you will also compute the loss between the $y$ targets and the $Q(s,a)$ values. In the cell below, complete the `compute_loss` function by setting the $y$ targets equal to:\n",
    "\n",
    "$$\n",
    "\\begin{equation}\n",
    "    y_j =\n",
    "    \\begin{cases}\n",
    "      R_j & \\text{if episode terminates at step  } j+1\\\\\n",
    "      R_j + \\gamma \\max_{a'}\\hat{Q}(s_{j+1},a') & \\text{otherwise}\\\\\n",
    "    \\end{cases}       \n",
    "\\end{equation}\n",
    "$$\n",
    "\n",
    "Here are a couple of things to note:\n",
    "\n",
    "* The `compute_loss` function takes in a mini-batch of experience tuples. This mini-batch of experience tuples is unpacked to extract the `states`, `actions`, `rewards`, `next_states`, and `done_vals`. You should keep in mind that these variables are *TensorFlow Tensors* whose size will depend on the mini-batch size. For example, if the mini-batch size is `64` then both `rewards` and `done_vals` will be TensorFlow Tensors with `64` elements.\n",
    "\n",
    "\n",
    "* Using `if/else` statements to set the $y$ targets will not work when the variables are tensors with many elements. However, notice that you can use the `done_vals` to implement the above in a single line of code. To do this, recall that the `done` variable is a Boolean variable that takes the value `True` when an episode terminates at step $j+1$ and it is `False` otherwise. Taking into account that a Boolean value of `True` has the numerical value of `1` and a Boolean value of `False` has the numerical value of `0`, you can use the factor `(1 - done_vals)` to implement the above in a single line of code. Here's a hint: notice that `(1 - done_vals)` has a value of `0` when `done_vals` is `True` and a value of `1` when `done_vals` is `False`. \n",
    "\n",
    "Lastly, compute the loss by calculating the Mean-Squared Error (`MSE`) between the `y_targets` and the `q_values`. To calculate the mean-squared error you should use the already imported package `MSE`:\n",
    "```python\n",
    "from tensorflow.keras.losses import MSE\n",
    "```"
   ]
  },
  {
   "cell_type": "code",
   "execution_count": 20,
   "metadata": {
    "deletable": false
   },
   "outputs": [],
   "source": [
    "# UNQ_C2\n",
    "# GRADED FUNCTION: calculate_loss\n",
    "\n",
    "def compute_loss(experiences, gamma, q_network, target_q_network):\n",
    "    \"\"\" \n",
    "    Calculates the loss.\n",
    "    \n",
    "    Args:\n",
    "      experiences: (tuple) tuple of [\"state\", \"action\", \"reward\", \"next_state\", \"done\"] namedtuples\n",
    "      gamma: (float) The discount factor.\n",
    "      q_network: (tf.keras.Sequential) Keras model for predicting the q_values\n",
    "      target_q_network: (tf.keras.Sequential) Keras model for predicting the targets\n",
    "          \n",
    "    Returns:\n",
    "      loss: (TensorFlow Tensor(shape=(0,), dtype=int32)) the Mean-Squared Error between\n",
    "            the y targets and the Q(s,a) values.\n",
    "    \"\"\"\n",
    "\n",
    "    # Unpack the mini-batch of experience tuples\n",
    "    states, actions, rewards, next_states, done_vals = experiences\n",
    "    \n",
    "    # Compute max Q^(s,a)\n",
    "    max_qsa = tf.reduce_max(target_q_network(next_states), axis=-1)\n",
    "    \n",
    "    # Set y = R if episode terminates, otherwise set y = R + γ max Q^(s,a).\n",
    "    ### START CODE HERE ### \n",
    "    y_targets = rewards + (gamma * max_qsa * (1 - done_vals))\n",
    "    ### END CODE HERE ###\n",
    "    \n",
    "    # Get the q_values and reshape to match y_targets\n",
    "    q_values = q_network(states)\n",
    "    q_values = tf.gather_nd(q_values, tf.stack([tf.range(q_values.shape[0]),\n",
    "                                                tf.cast(actions, tf.int32)], axis=1))\n",
    "        \n",
    "    # Compute the loss\n",
    "    ### START CODE HERE ### \n",
    "    loss = MSE(y_targets, q_values) \n",
    "    ### END CODE HERE ### \n",
    "    \n",
    "    return loss"
   ]
  },
  {
   "cell_type": "code",
   "execution_count": 21,
   "metadata": {
    "deletable": false,
    "editable": false
   },
   "outputs": [
    {
     "name": "stdout",
     "output_type": "stream",
     "text": [
      "\u001b[92mAll tests passed!\n"
     ]
    }
   ],
   "source": [
    "# UNIT TEST    \n",
    "test_compute_loss(compute_loss)"
   ]
  },
  {
   "cell_type": "markdown",
   "metadata": {},
   "source": [
    "<details>\n",
    "  <summary><font size=\"3\" color=\"darkgreen\"><b>Click for hints</b></font></summary>\n",
    "    \n",
    "```python\n",
    "def compute_loss(experiences, gamma, q_network, target_q_network):\n",
    "    \"\"\" \n",
    "    Calculates the loss.\n",
    "    \n",
    "    Args:\n",
    "      experiences: (tuple) tuple of [\"state\", \"action\", \"reward\", \"next_state\", \"done\"] namedtuples\n",
    "      gamma: (float) The discount factor.\n",
    "      q_network: (tf.keras.Sequential) Keras model for predicting the q_values\n",
    "      target_q_network: (tf.keras.Sequential) Keras model for predicting the targets\n",
    "          \n",
    "    Returns:\n",
    "      loss: (TensorFlow Tensor(shape=(0,), dtype=int32)) the Mean-Squared Error between\n",
    "            the y targets and the Q(s,a) values.\n",
    "    \"\"\"\n",
    "\n",
    "    \n",
    "    # Unpack the mini-batch of experience tuples\n",
    "    states, actions, rewards, next_states, done_vals = experiences\n",
    "    \n",
    "    # Compute max Q^(s,a)\n",
    "    max_qsa = tf.reduce_max(target_q_network(next_states), axis=-1)\n",
    "    \n",
    "    # Set y = R if episode terminates, otherwise set y = R + γ max Q^(s,a).\n",
    "    y_targets = rewards + (gamma * max_qsa * (1 - done_vals))\n",
    "    \n",
    "    # Get the q_values\n",
    "    q_values = q_network(states)\n",
    "    q_values = tf.gather_nd(q_values, tf.stack([tf.range(q_values.shape[0]),\n",
    "                                                tf.cast(actions, tf.int32)], axis=1))\n",
    "    \n",
    "    # Calculate the loss\n",
    "    loss = MSE(y_targets, q_values)\n",
    "    \n",
    "    return loss\n",
    "\n",
    "``` \n",
    "    "
   ]
  },
  {
   "cell_type": "markdown",
   "metadata": {},
   "source": [
    "<a name=\"8\"></a>\n",
    "## 8 - Update the Network Weights\n",
    "\n",
    "We will use the `agent_learn` function below to implement lines ***12 -14*** of the algorithm outlined in [Fig 3](#7). The `agent_learn` function will update the weights of the $Q$ and target $\\hat Q$ networks using a custom training loop. Because we are using a custom training loop we need to retrieve the gradients via a `tf.GradientTape` instance, and then call `optimizer.apply_gradients()` to update the weights of our $Q$-Network. Note that we are also using the `@tf.function` decorator to increase performance. Without this decorator our training will take twice as long. If you would like to know more about how to increase performance with `@tf.function` take a look at the [TensorFlow documentation](https://www.tensorflow.org/guide/function).\n",
    "\n",
    "The last line of this function updates the weights of the target $\\hat Q$-Network using a [soft update](#6.1). If you want to know how this is implemented in code we encourage you to take a look at the `utils.update_target_network` function in the `utils` module."
   ]
  },
  {
   "cell_type": "code",
   "execution_count": 22,
   "metadata": {
    "deletable": false,
    "editable": false
   },
   "outputs": [],
   "source": [
    "@tf.function\n",
    "def agent_learn(experiences, gamma):\n",
    "    \"\"\"\n",
    "    Updates the weights of the Q networks.\n",
    "    \n",
    "    Args:\n",
    "      experiences: (tuple) tuple of [\"state\", \"action\", \"reward\", \"next_state\", \"done\"] namedtuples\n",
    "      gamma: (float) The discount factor.\n",
    "    \n",
    "    \"\"\"\n",
    "    \n",
    "    # Calculate the loss\n",
    "    with tf.GradientTape() as tape:\n",
    "        loss = compute_loss(experiences, gamma, q_network, target_q_network)\n",
    "\n",
    "    # Get the gradients of the loss with respect to the weights.\n",
    "    gradients = tape.gradient(loss, q_network.trainable_variables)\n",
    "    \n",
    "    # Update the weights of the q_network.\n",
    "    optimizer.apply_gradients(zip(gradients, q_network.trainable_variables))\n",
    "\n",
    "    # update the weights of target q_network\n",
    "    utils.update_target_network(q_network, target_q_network)"
   ]
  },
  {
   "cell_type": "markdown",
   "metadata": {},
   "source": [
    "<a name=\"9\"></a>\n",
    "## 9 - Train the Agent\n",
    "\n",
    "We are now ready to train our agent to solve the Lunar Lander environment. In the cell below we will implement the algorithm in [Fig 3](#7) line by line (please note that we have included the same algorithm below for easy reference. This will prevent you from scrolling up and down the notebook):\n",
    "\n",
    "* **Line 1**: We initialize the `memory_buffer` with a capacity of $N =$ `MEMORY_SIZE`. Notice that we are using a `deque` as the data structure for our `memory_buffer`.\n",
    "\n",
    "\n",
    "* **Line 2**: We skip this line since we already initialized the `q_network` in [Exercise 1](#ex01).\n",
    "\n",
    "\n",
    "* **Line 3**: We initialize the `target_q_network` by setting its weights to be equal to those of the `q_network`.\n",
    "\n",
    "\n",
    "* **Line 4**: We start the outer loop. Notice that we have set $M =$ `num_episodes = 2000`. This number is reasonable because the agent should be able to solve the Lunar Lander environment in less than `2000` episodes using this notebook's default parameters.\n",
    "\n",
    "\n",
    "* **Line 5**: We use the `.reset()` method to reset the environment to the initial state and get the initial state.\n",
    "\n",
    "\n",
    "* **Line 6**: We start the inner loop. Notice that we have set $T =$ `max_num_timesteps = 1000`. This means that the episode will automatically terminate if the episode hasn't terminated after `1000` time steps.\n",
    "\n",
    "\n",
    "* **Line 7**: The agent observes the current `state` and chooses an `action` using an $\\epsilon$-greedy policy. Our agent starts out using a value of $\\epsilon =$ `epsilon = 1` which yields an $\\epsilon$-greedy policy that is equivalent to the equiprobable random policy. This means that at the beginning of our training, the agent is just going to take random actions regardless of the observed `state`. As training progresses we will decrease the value of $\\epsilon$ slowly towards a minimum value using a given $\\epsilon$-decay rate. We want this minimum value to be close to zero because a value of $\\epsilon = 0$ will yield an $\\epsilon$-greedy policy that is equivalent to the greedy policy. This means that towards the end of training, the agent will lean towards selecting the `action` that it believes (based on its past experiences) will maximize $Q(s,a)$. We will set the minimum $\\epsilon$ value to be `0.01` and not exactly 0 because we always want to keep a little bit of exploration during training. If you want to know how this is implemented in code we encourage you to take a look at the `utils.get_action` function in the `utils` module.\n",
    "\n",
    "\n",
    "* **Line 8**: We use the `.step()` method to take the given `action` in the environment and get the `reward` and the `next_state`. \n",
    "\n",
    "\n",
    "* **Line 9**: We store the `experience(state, action, reward, next_state, done)` tuple in our `memory_buffer`. Notice that we also store the `done` variable so that we can keep track of when an episode terminates. This allowed us to set the $y$ targets in [Exercise 2](#ex02).\n",
    "\n",
    "\n",
    "* **Line 10**: We check if the conditions are met to perform a learning update. We do this by using our custom `utils.check_update_conditions` function. This function checks if $C =$ `NUM_STEPS_FOR_UPDATE = 4` time steps have occured and if our `memory_buffer` has enough experience tuples to fill a mini-batch. For example, if the mini-batch size is `64`, then our `memory_buffer` should have more than `64` experience tuples in order to pass the latter condition. If the conditions are met, then the `utils.check_update_conditions` function will return a value of `True`, otherwise it will return a value of `False`.\n",
    "\n",
    "\n",
    "* **Lines 11 - 14**: If the `update` variable is `True` then we perform a learning update. The learning update consists of sampling a random mini-batch of experience tuples from our `memory_buffer`, setting the $y$ targets, performing gradient descent, and updating the weights of the networks. We will use the `agent_learn` function we defined in [Section 8](#8) to perform the latter 3.\n",
    "\n",
    "\n",
    "* **Line 15**: At the end of each iteration of the inner loop we set `next_state` as our new `state` so that the loop can start again from this new state. In addition, we check if the episode has reached a terminal state (i.e we check if `done = True`). If a terminal state has been reached, then we break out of the inner loop.\n",
    "\n",
    "\n",
    "* **Line 16**: At the end of each iteration of the outer loop we update the value of $\\epsilon$, and check if the environment has been solved. We consider that the environment has been solved if the agent receives an average of `200` points in the last `100` episodes. If the environment has not been solved we continue the outer loop and start a new episode.\n",
    "\n",
    "Finally, we wanted to note that we have included some extra variables to keep track of the total number of points the agent received in each episode. This will help us determine if the agent has solved the environment and it will also allow us to see how our agent performed during training. We also use the `time` module to measure how long the training takes. \n",
    "\n",
    "<br>\n",
    "<br>\n",
    "<figure>\n",
    "  <img src = \"images/deep_q_algorithm.png\" width = 90% style = \"border: thin silver solid; padding: 0px\">\n",
    "      <figcaption style = \"text-align: center; font-style: italic\">Fig 4. Deep Q-Learning with Experience Replay.</figcaption>\n",
    "</figure>\n",
    "<br>\n",
    "\n",
    "**Note:** With this notebook's default parameters, the following cell takes between 10 to 15 minutes to run. "
   ]
  },
  {
   "cell_type": "code",
   "execution_count": 23,
   "metadata": {
    "deletable": false,
    "editable": false
   },
   "outputs": [
    {
     "name": "stdout",
     "output_type": "stream",
     "text": [
      "Episode 100 | Total point average of the last 100 episodes: -154.74\n",
      "Episode 200 | Total point average of the last 100 episodes: -81.220\n",
      "Episode 300 | Total point average of the last 100 episodes: -64.10\n",
      "Episode 400 | Total point average of the last 100 episodes: 12.238\n",
      "Episode 500 | Total point average of the last 100 episodes: 200.68\n",
      "\n",
      "\n",
      "Environment solved in 500 episodes!\n",
      "\n",
      "Total Runtime: 869.21 s (14.49 min)\n"
     ]
    }
   ],
   "source": [
    "start = time.time()\n",
    "\n",
    "num_episodes = 2000\n",
    "max_num_timesteps = 1000\n",
    "\n",
    "total_point_history = []\n",
    "\n",
    "num_p_av = 100    # number of total points to use for averaging\n",
    "epsilon = 1.0     # initial ε value for ε-greedy policy\n",
    "\n",
    "# Create a memory buffer D with capacity N\n",
    "memory_buffer = deque(maxlen=MEMORY_SIZE)\n",
    "\n",
    "# Set the target network weights equal to the Q-Network weights\n",
    "target_q_network.set_weights(q_network.get_weights())\n",
    "\n",
    "for i in range(num_episodes):\n",
    "    \n",
    "    # Reset the environment to the initial state and get the initial state\n",
    "    state = env.reset()\n",
    "    total_points = 0\n",
    "    \n",
    "    for t in range(max_num_timesteps):\n",
    "        \n",
    "        # From the current state S choose an action A using an ε-greedy policy\n",
    "        state_qn = np.expand_dims(state, axis=0)  # state needs to be the right shape for the q_network\n",
    "        q_values = q_network(state_qn)\n",
    "        action = utils.get_action(q_values, epsilon)\n",
    "        \n",
    "        # Take action A and receive reward R and the next state S'\n",
    "        next_state, reward, done, _ = env.step(action)\n",
    "        \n",
    "        # Store experience tuple (S,A,R,S') in the memory buffer.\n",
    "        # We store the done variable as well for convenience.\n",
    "        memory_buffer.append(experience(state, action, reward, next_state, done))\n",
    "        \n",
    "        # Only update the network every NUM_STEPS_FOR_UPDATE time steps.\n",
    "        update = utils.check_update_conditions(t, NUM_STEPS_FOR_UPDATE, memory_buffer)\n",
    "        \n",
    "        if update:\n",
    "            # Sample random mini-batch of experience tuples (S,A,R,S') from D\n",
    "            experiences = utils.get_experiences(memory_buffer)\n",
    "            \n",
    "            # Set the y targets, perform a gradient descent step,\n",
    "            # and update the network weights.\n",
    "            agent_learn(experiences, GAMMA)\n",
    "        \n",
    "        state = next_state.copy()\n",
    "        total_points += reward\n",
    "        \n",
    "        if done:\n",
    "            break\n",
    "            \n",
    "    total_point_history.append(total_points)\n",
    "    av_latest_points = np.mean(total_point_history[-num_p_av:])\n",
    "    \n",
    "    # Update the ε value\n",
    "    epsilon = utils.get_new_eps(epsilon)\n",
    "\n",
    "    print(f\"\\rEpisode {i+1} | Total point average of the last {num_p_av} episodes: {av_latest_points:.2f}\", end=\"\")\n",
    "\n",
    "    if (i+1) % num_p_av == 0:\n",
    "        print(f\"\\rEpisode {i+1} | Total point average of the last {num_p_av} episodes: {av_latest_points:.2f}\")\n",
    "\n",
    "    # We will consider that the environment is solved if we get an\n",
    "    # average of 200 points in the last 100 episodes.\n",
    "    if av_latest_points >= 200.0:\n",
    "        print(f\"\\n\\nEnvironment solved in {i+1} episodes!\")\n",
    "        q_network.save('lunar_lander_model.h5')\n",
    "        break\n",
    "        \n",
    "tot_time = time.time() - start\n",
    "\n",
    "print(f\"\\nTotal Runtime: {tot_time:.2f} s ({(tot_time/60):.2f} min)\")"
   ]
  },
  {
   "cell_type": "markdown",
   "metadata": {},
   "source": [
    "We can plot the total point history along with the moving average to see how our agent improved during training. If you want to know about the different plotting options available in the `utils.plot_history` function we encourage you to take a look at the `utils` module."
   ]
  },
  {
   "cell_type": "code",
   "execution_count": 24,
   "metadata": {
    "deletable": false,
    "editable": false,
    "id": "E_EUXxurfe8m",
    "scrolled": false
   },
   "outputs": [
    {
     "data": {
      "image/png": "[encoded data removed]",
      "text/plain": [
       "<Figure size 720x504 with 1 Axes>"
      ]
     },
     "metadata": {},
     "output_type": "display_data"
    }
   ],
   "source": [
    "# Plot the total point history along with the moving average\n",
    "utils.plot_history(total_point_history)"
   ]
  },
  {
   "cell_type": "markdown",
   "metadata": {
    "id": "c_xwgaX5MnYt"
   },
   "source": [
    "<a name=\"10\"></a>\n",
    "## 10 - See the Trained Agent In Action\n",
    "\n",
    "Now that we have trained our agent, we can see it in action. We will use the `utils.create_video` function to create a video of our agent interacting with the environment using the trained $Q$-Network. The `utils.create_video` function uses the `imageio` library to create the video. This library produces some warnings that can be distracting, so, to suppress these warnings we run the code below."
   ]
  },
  {
   "cell_type": "code",
   "execution_count": 25,
   "metadata": {
    "deletable": false,
    "editable": false
   },
   "outputs": [],
   "source": [
    "# Suppress warnings from imageio\n",
    "import logging\n",
    "logging.getLogger().setLevel(logging.ERROR)"
   ]
  },
  {
   "cell_type": "markdown",
   "metadata": {},
   "source": [
    "In the cell below we create a video of our agent interacting with the Lunar Lander environment using the trained `q_network`. The video is saved to the `videos` folder with the given `filename`. We use the `utils.embed_mp4` function to embed the video in the Jupyter Notebook so that we can see it here directly without having to download it.\n",
    "\n",
    "We should note that since the lunar lander starts with a random initial force applied to its center of mass, every time you run the cell below you will see a different video. If the agent was trained properly, it should be able to land the lunar lander in the landing pad every time, regardless of the initial force applied to its center of mass."
   ]
  },
  {
   "cell_type": "code",
   "execution_count": 26,
   "metadata": {
    "deletable": false,
    "editable": false,
    "id": "3Ttb_zLeJKiG"
   },
   "outputs": [
    {
     "data": {
      "text/html": [
       "\n",
       "    <video width=\"840\" height=\"480\" controls>\n",
       "    <source src=\"data:video/mp4;base64,AAAAIGZ0eXBpc29tAAACAGlzb21pc28yYXZjMW1wNDEAAAAIZnJlZQAA64RtZGF0AAACrwYF//+r3EXpvebZSLeWLNgg2SPu73gyNjQgLSBjb3JlIDE1OSByMjk5MSAxNzcxYjU1IC0gSC4yNjQvTVBFRy00IEFWQyBjb2RlYyAtIENvcHlsZWZ0IDIwMDMtMjAxOSAtIGh0dHA6Ly93d3cudmlkZW9sYW4ub3JnL3gyNjQuaHRtbCAtIG9wdGlvbnM6IGNhYmFjPTEgcmVmPTMgZGVibG9jaz0xOjA6MCBhbmFseXNlPTB4MzoweDExMyBtZT1oZXggc3VibWU9NyBwc3k9MSBwc3lfcmQ9MS4wMDowLjAwIG1peGVkX3JlZj0xIG1lX3JhbmdlPTE2IGNocm9tYV9tZT0xIHRyZWxsaXM9MSA4eDhkY3Q9MSBjcW09MCBkZWFkem9uZT0yMSwxMSBmYXN0X3Bza2lwPTEgY2hyb21hX3FwX29mZnNldD0tMiB0aHJlYWRzPTEyIGxvb2thaGVhZF90aHJlYWRzPTIgc2xpY2VkX3RocmVhZHM9MCBucj0wIGRlY2ltYXRlPTEgaW50ZXJsYWNlZD0wIGJsdXJheV9jb21wYXQ9MCBjb25zdHJhaW5lZF9pbnRyYT0wIGJmcmFtZXM9MyBiX3B5cmFtaWQ9MiBiX2FkYXB0PTEgYl9iaWFzPTAgZGlyZWN0PTEgd2VpZ2h0Yj0xIG9wZW5fZ29wPTAgd2VpZ2h0cD0yIGtleWludD0yNTAga2V5aW50X21pbj0yNSBzY2VuZWN1dD00MCBpbnRyYV9yZWZyZXNoPTAgcmNfbG9va2FoZWFkPTQwIHJjPWNyZiBtYnRyZWU9MSBjcmY9MjMuMCBxY29tcD0wLjYwIHFwbWluPTAgcXBtYXg9NjkgcXBzdGVwPTQgaXBfcmF0aW89MS40MCBhcT0xOjEuMDAAgAAAB05liIQAM//+9uy+BTYUyFCXESzF2kpwPiqkgIB3NNq/wWQF2gDabNPjHn9ghk96qUI03R4cJxYaUTR3I2hxDJvwKrI3QeHSVmdGe+bu8a8gE/l4CHzJKU/S44p3fBVKFcO3QfclPE1GG58fvatOOtupAwVU16ofZMDQT4Gpgdt9h+JnZs8++w2P/sQ3+E70vVlVuUoaQGO+306iNOvN+YbOtWFlldkvIt1iQ96Y3ml7Q9R6gfm3cMi7FrOE4qulBRHnpMJ4XRRmJ7xAr3MASQ4prVyj+bSA8oAAAAMAAAfOiu9xIaKGFZLdO0QHr+BeyGTcFhi81rXoS7OGNlNg2MGGFEAO/xzh8djBh3CxGF/SeAqSGzgwUwMUekSQTxyfAm0LNjwAAGvBHWsNhBQtYuI1BAhxDOGoMwiJXgPNWl5iFi3M/zgV9uvHHrCdEUry5g4dPqkaf/l8kQyRZMJv0320l1x50RpFZvG3244UfjDIAdJ8iPMzBElYnZQ8Bm9gmoHj/3Ba1SVdGTTcpiPDNyoiZEY/IuT8/kjbbrQmgXyf4ORRDfemMit4prWGOhkzFsXH4h8Ed9miqZnUGIpR0y7jV5HJUvREmboAIMOku1M6rrdsgjSP+ewBUsY89YZ1PPSJ5cPy/ORj/vcQ974OCuW7WJ9V2F8Sou8M2fhq8y7VSkIrAxWoRoAOGInOIK1KeTgKxhJvxxEkAs1s6QMg6CrJ/cEWh7R0/e/6ETWJf+lT8/wyjnZbgmGYOUj/oLNBp+qhAQBrKiXnwE5c7mqMsBGVQOMHBncax1jaqP/50UXyUDPHO93m1PPm//ZJlGagf1WjwKcQ2+HUILpzbzsBja/szdT/mdxyjQjjnVUMcvkUTZ4UhGdM4ibBEWbrkEDY+zRlcI3kMxE0wV3u73xQRZObpqpniAyJrSheOUwafz/Ll45Oz2mbhOC+554CuGdEhK07Xz9v5+NeYQBMsDBod//5Wi8ibPHjgPSrVVleAyD5uZ6Dpa6fxz3+c97lHL4ojrGNG5Lg42uhiu7SbFHg2NELY1SzXGUuZe78C6ukYPOslTcjTx+cLzkrFoW0ZWVX0PiI1apdPQkfA5aKt1jR/9vcr9X2kIFCAl9R7OCTDqMzmxX3LNVcmMCwTsG1UGTH22syrYyESbkX61c56GTQ8m7JXsFDJv3ARhLiVXko4YAF3ldpBtm8ADsP5Jy7qvTWwFCtvKetBo6W0nMaFovfiI2AFt8E81X4zQ+2i5lyfIgoFwWb5dWsuy9zdVQRSbhRXpodjRVRedHdG+0C5sNIyr1njIa/BKP4dgDI/265kHE7JfZyqI57kTb918hUDVd7V8rzLTc5jeo4MJXuoEW5HFTkskgRuEj9QowSTGELvkjfrLw35j6MpRuLuy7MFwKy6ZeImND7mY7ZJlEMN/Ym8FtL6WUgccvMWOspEXcOAF2QQf//Q1JEyyvT6D+WXoJTeoiD+h2J7xVzUpHX7S3RWT+74icgnJO7mTntTwDEMWObq1+ViJSbN+++QXYmi96UyTGWnqgeviwSlXzMpPGJNBvfaa4zSSTJJ9x6cCTH3YWiiyP19dGrffShJtxxLO9W+ltLUb17v5c+Vd4EgxxRTrqR/ueRXOdc2F3dWd+IA5nycvA3q7OpJFR7wBLQLkFtQJKau8eVtDeOOwFAGUH1sHA/AIDnz6XxXsLIYgEFSrG6FMqvJgjDfdalUX5VBixD5MBnOBOpDUCblIKaif99gm1+Y5fcSpymuD7aaNtF15JsRYTCEjbwTvfLg1sOp3ALZJOLKJojd347WpF693IglPdBz65Ox2TNrLmtSxO9xEkW1gOiOu3wsYc5ye98zC+aapgELyMppnRUrOhX+n52ydAH+Jbwb6A6EFf+BbULK4+TJsCmqX39FtYmnfj6D+5GSzCL9tckB0tYt9O/QJK7kzVGbI/LILwj/qBRjdiwDiUpgPJpz1llYtFcDD9/UDKYnZI4S650sArH4O71bVsV6WEE19BSVyCEKu6BEOBJ+GiXBYzGtG8T/dL1FvgP2MiEEk4/6ccMpsEsgx+Xg/cptbyoRGXSNSaC8cTwcoTptfg/ENWQrhEZINv4Vlm8nnueZ5tJUA2dHE73+sYriAcmp09x53cMj62VEIV4+e696C8saZJ7TG2cBaZzVzZ4TJGSWZ3DktfcsfoCTg7l5oG5acr3y6Y+1ROh75reoRK+c+4tmTEkdDxAlJTp7eEfS2dO2hLVp98ij7H1r+4zOErAIyPSxNTG1ZLyteFHOv+hufrfX2m76yw0AykJLzYoNK5XuqJYPkyPkOtpQnm3hCz67ucsMnkQu5vC08bjfq0mqPv+zSL9mRsOtTwYwHj19KuJxcukLBaZB22YIQctRPKr5KSrxMTxPKgwfMC28Vzsuh+opq2fKJ1Xn6kAZukYWFECbOcWi2GpoqFSLh21Fcv7cYxNCvO25SpcMkmTDO3NSBWr1u9AAAADAnoAAAMAADYhAAABQUGaImxDP/6eKrXxgBYfXWi6VcMbZjamY+8HJcQdHMaqqW38hjnCBzHHcCtCDoqHcyXbrWmVzqTkU3YV7XbriwwqDo//1KVJfd0oBdpWFc/oPj36kHd7y2koC3bEIuszKu6IsHZFUDU8tW0IAAADAABxwzLSCM4VBKB9Ckso3nqAdK6bU+0vhUGxHOXzDm+y0Nl2xOa4XonKBsn8c0tBjuHhhg+g3vdtUy3SRGwDZgQZtmXaoFXieZyCJ8exbe0LFBALhZWk0WeSot/OB9S/iJPY8ZCn6BzP5DZxCsIoJT+9UNGnbUtYiITO2MrbFGxjmJWcalLXRvWd4d4ZMnHZLV05G5eRJgYsKYCUjL1oJ3q8Aku9RhONlW7fhkPZtTftht5x8kpMd3F8y4pWMKBgZKImLygv8x8pZwKsLHravwDyXgAAAFUBnkF5Cf8OPigADjbrchkMfIykpR6Xdd6jiaeOW/kRyRVe2oxYgfe3glWJd1JUTWkXhbDrKVLH57eiT7hTgArGwTW5aIWQ+6VbcDHObwaR+hC4gOWBAAAA4UGaRDwhkymEN//+p48Jft82IGLvbEvAB+I/ZHHrH8QV1FHrgqU0z4PMOb6Xh4fY43Z70tnXyuxHFlLMbbBC/OhufGKRkk25X0eoce91g0TYsfB6K8AAAAMAGnjp8gXE89q9FgUKf4PC4VCSe+fup9KHVU9gRq+BkYgpYTjNyJO5Ku8FONyzqBbdIxlkZgw5ibB4jge+7WpV7f/rP5j0CXoSMne8PIPMZ+G/rxiEKHLFHw6coS6rBzTNXrea2NT8aWFkbnN9duSWPtISE5IerLNXzcoLCj+Z49OCQxJplHpsQAAAADEBnmNqQn8Np7tO+0vJp7zxU/zWexPDIfZXAALlf1W6TiYGZ5fsgfdPurGCSGDHQFlBAAABN0GaZknhDyZTBTw3//6nj2vb+QtrXAC36KHuDz9OMrVpUge+4UTcuG3GIOR6VhpZY2uqpoLgO1YFP295rs/SW3ZWL7sgRtnz/z/8FPsyMybCVeDyZsuAG8JrrSSRl5/eG1XvTmkG/DGD9tLlIZX46v5EpsIa4kyfjAEYWY5XP0lP5N6kYAAAAwB0sQ4VwLbPJ3GIX66N4tmiMlo8bhKVjBfCyMHdZi0dLbWISa0Qb8IEfycBfeG2THiJmQAsRIle+7WpWBxeFHTuKnU6xSLwuXA3PWYtRnl787CsRucMgeOOW6gOZZPEgkDlSdxWrIEg/i8EqCjs/a6L9Ky1x9ORfz8AeaMJ5PQQTt+PKYmyxboMiLQldDevWXaO9rEomm2XYNEVaNCgcikNuXhNeP9z8Bi0eUorKLoZAAAARwGehWpCfw3IweSmk8gDvetBrmRCNS7gw9nYO34/IoY6ssproxdsi5sUncX4umd0VKKr36cAVEucIqGvcEa3gdYFXXY+4ATdAAAA1kGaiUnhDyZTAhn//p6Te/glPMiAFrjM609aVhejHOEht/WO2rv8jvmB7LrmAj6j/uvnShCCdZWh581rPrqFwDWa4ZextszIFV3HZGQshAdPh9sgAAADAAWeR8WsabhIbacuHZufZYgVFkznZj+DNDO287vMt5XXdaMtZoUAUGeFZK/mHNYd3gxeQeEVCUzuUY4V/1AQglHhkXPJRSUBboniDZKGB0kfZirqbDns0zlsjhdy04WWMjBpzTlFV83zZMpa7gxomdJ+rQAntLdElEU7rZr1Dp8AAACAQZ6nRRE8K/8RXL7Udjk0otYAF1Y3yNMaI3paOu99IS8lhxjWGAVuOZFQ9oUZ9ORFC5rRxpvSVjdAkcMn2AMcH+uPDB11gs7JjCNxTPuMt+cYm3/rIAynpAMA4IXn7V51S8SeZlnk8mHAP8I52hMpRKDyzemZ022XIzFZfIIASsAAAACBAZ7IakJ/FDxwTcHb7zAETxDrDL1WxnY5eSXQ1N/aHr2mVK2omOcLLIdDfRFgQHNZgHf9HIKvx5vE2Sy9Kdlb7KYew/HKj3Z0QTJRf9cvCyQvgCHu/SaOqftx4g6nbHYTB7YEpYBkuAXz+WXjTg2AgQDuNHJFZDW+B94S3eCWsBrQAAAA4UGay0moQWiZTBTwz/6e2yFbAA4s+sUSQETzcytfTcLuxJvlPRl09rahXkAnWn2QN1LG+3/6k6/FLaOABEIYCk+WMoDkvZehR9F+Jx37yK9RvcTcqO3qYQNt292C/dqSxsvESekHdbZu1Q98NkfcXfH4YdpR4iJB+O3/lungmDfOtbcT7qZSXdACkpfR0jytSeE/BGeeH+Pn1ll85bSs2SNobULUaFi9y3SpDQlY3ErPfSkvFHeJMxNzhz1Q8WDFV82vbPq9ElzCzNZifkq1SEkAl9FykcQrNjnkSmJ7aNCZgQAAAGwBnupqQn8XdHdACEdvoa+wVW7s+IL1YCSdYx2SlOKbft6szWr7VrohAUA7/7p8iIcXdWx07nataS4XBwiCU+ORak7tZ9O84YwIQsoxYwFz3bV/47iATXT2j8qpiSEymWgZ6VZtdi6HEQAAOOAAAAD9QZrtSeEKUmUwUsN//qfgvnWCxTzAYTUY3I9UavaTFUT0cS8Lb7c65sO8ARxeq7b6E41o4VfRXPv8FvIsutBKt1HiROmel9JwR5xhlwYyLrpIDgU+CN4U+ZQrGqfUWiZTh41q2o4JZ9FmrFc3q9x9phY0LQoC9UKj4Fiml85DuFv3QjQZysAPNdt/rl9U92u6b9SVFQ9oDCQfnUrkbX4/3zMRA1DB/bZW+yNRT9mLJwHsx6PaYeN58ZcSexvWvMDQyAldC8LnKMgTo8CT8c/UQswtmQ7TvFgAC8mhwKCpewcVFP2Uaum3e40zseEGBejuJqoyKtIe8Hx4EwRBbQAAAJUBnwxqQn8XUW7heoOibnrtuGNpc+/V8U/YLAAE5FeSqck1kNy1uIQqBvVdbp1nHHXGZm97VuhWgSCvLmq0Sd7hv+9Tqx+btkc4M3Xndn6sYaExoeK63LqSEVjB4OaRsH8949B9ogxKSsGJrALVQf4IlWM2F9SYEPShYb+fm5zPBbJ1FafzKvfSNF/tqin72W8HTwCXgQAAAVVBmw9J4Q6JlMFEw3/+p4QCaf2cJQlPsyVfwjSOCPfLTsay72JFp5aVDwuQjetjbgt/wtn7e4yjzLQKTCqVTeCKiBHNs/+2kovqgwfFsDY9i60GrIlc/8N4An/ce5n1IY7PSvWBg1uAxPgJ8mxVlx52VdcpQqb8p4ZjXxZ8ddEbPGe2ReAd2df/CGWsruY0emc+Vj3qK6kr9GJGYWKRY/wzKryX6L1DQAxUfa4lUYXfStdOEGZb7D0dX5+3doKil24EIBx8uoZLvNlcU8iYrvMUuAvKwahsikl3YhMXpPNDSrIS/jyKoTYzc9nXg9m1d9HJpOuY6S5GUatbgEKRN6Bn+iHvaPJbhaEVkJxRwFfVcyO/X9mBdQ+Ehwbq0Jj7loRGkBR0NC3BqlHBoBno3IAKlUW2wDkQ56pOtiyDpfQw5nSTaw6GQp0ZUXLvo9Eg6oJjLOgVMQAAAKIBny5qQn8B7tI1qw5ukLCslez6rNnndzO8dfeeaK5GxBWGACcc39k+nq6AEmqkNmOjBM3ON7rSY9honAaDxwqysnK5O3ALv6P8iuh3zUG7Pv/SR0dX8ichmqtyS6TASGGWg/lO/wZpPyDz1FpNtbzRH4WjoOTb+zJY9YZF/YDbXpSVzbHJtNefOw+3pI9MHNiCw52DvVxSvYoA1rVy3AmpiHkAAAFqQZsxSeEPJlMFPDf//qeEAL7v6QmfOZvgA4hb7RGEb/HPGZ7CkvoXq9z6pfRgb70wxE1/i0IlBfwKVzgYA9+qe3CHBHSYKsxLf6J872P+Bi7pFBq0HutoA6SNZaDvCKhxTM0lVLRCB9N5GiQIoTeMQLx8HBRxjUIkfNbm+N1bajTk53XU0InqTkjKD08V7l6lneOSlc1mUfSL9QTMF8ymgt1xgcsu4gsviuqqX1RonwMKUAwKs/L8dW6T6lSRwAJSbHQvUGeiWgGfDLHHlJ0EyZ7jlX1QT/bLYUeSUsjM4XKPng1CTK/jcnv9rmoQIDjpXSLT+9NkpH+Er4scU40Tsvf4d1jwHi6Y8vyDN7tvfohfRTvk4DEoIDRaE/869Ufzh8EKT8tm+lPhPgg5kyhSuia0R0SwFWVJXE72Kat24Ct0bTXPxyEmP/y6CKgQji5BG7B2zC7i7WseMUJJoJ74NPAaDHoui/gApIAAAADKAZ9QakJ/AMk720fsHogBVo0bnM0802sGmVfRv/xvon321v/1NPPZKdevBmoS/Svh1jdjvWN07c0hVJwh00qBotNHRmDBP8+pVIK1HfMuHJVvoRtr02344v2KxoRqyH1TWaThkxyOW7koy1v5JGRaTqw+fEWpS2U6HQhtikg4u+qiIuc3XtEHwumTD0MIsJhwBc1rRQAJKP/iTyGCpQaKeIY5UfWGVki8r0DiWRd52FtvQwdDtXbwXOw8YTFpO29FVpHsij+7pI3BgwAAAVBBm1VJ4Q8mUwIb//6nhADN660zzH4mAAXJrszGn4SgvoTcSU7iBfEUJ7JwvP1w8QrIy95F2i5eKJawG53tIo+9H889Tk4Mk0q3A7VcdPinmi8dF19meE+RRNp5Z/YECJp7W8iqpHYxOk3Hh1b/Hd+1KW9G3gZ2mG1E7BXNDZlwl2jFSDT5rV6nSyNlFsorwEIgKQJGyR0lKViIcyJpXrYDq/KEJMG+6BmzEnV+irKfpHqoDjHPcDDVZfCSwodYGs32JirfOSBfHXa30OS2m4fgC7vvD+yWrmJCD09bJo/rngy0qDRBQpkY955SdEVoGJ6Yq4zZuBJvMonFGH7YpSY4GjMgxdII+9g/vr5hhqvGTkyYW6cJO8ytzzn68AfZRtY0YypNsFSsXqqhCsmgGllm4oe32oHA37gk8vGScEGMdU7Nm588qOqlODikZGCgDekAAAEEQZ9zRRE8K/8AqFhX92T0ANArpMMuAyhddaRfRUNOC+P/uaa7nYGzmcw1A3Knrn93ErpWnLBXXrZYv5lGeEXRphpDHFVC5zN8x93iACNXMskTVs7A1NuOD2GGYBxv9W1CaIRwlwFkkU5ABtFA/ex1O1Mgq/Ep6vhdFEnZRA5w04VJTef+/B/8eifEX62ZVReHiRBdYqAuB0MadcXrlN3Cr2uwP48iXPoyv9Fz0VSbyf9wOPxIPukLWoNMonnzeugNQb8fVdnB+V3Ac5Nxaxt/e7ZJ72Gk6+/D/p621hmYoVJmXd5fMAAoHmWiAJ6hM0PX20oqHmvJwUj0/EVzgN4G4bCgDjgAAADHAZ+SdEJ/AhnvI+sPY4LTpwBGqpsAP2kZcIdazeayJ8YfLpzWje/toDcjYQ7ds/7dW40Zeqrz6loPdpbUC8BeqzlqgrTOjQojBFzWB6uJfFKSEXVsygylKrIsQqXG2iA3Iu3pEwIfLkSQVRuhbGKIn2Hl9njdj0cVCsy9wmbQOy4LEIyGjNMOJxwM6HbjE0JLECCixEMQKqy6rmI24zf11bGMf4Qa9oqqUDeVCqRGCK9VqWDE8vmtqPSyGN5sAmphO+wfBzADpgAAAMgBn5RqQn8CGRUb2buvAAUBR8x0rPWyo0I+tWMqJvUZ08QzBW8QWR0Kjf+O1DXIyoV4Jp8b9f374E4NYC9KBCsN5vLZd+7CWuNYusJvIz/r6zQjK87ZEsCe4cZ5O8+1uYGHs2GT3EC3j3Uavp5MFcCYczY0fX8/TyXY3cy51DE+EZzuAMfrLNEdffdlb2Gb75P8ps04cv5+gD4tH3W8x7qA4pCJ5XvcFSrkQ2f6So13q6I3Ujgau3vSQj6ObJS1dqx+MO5cLADZgQAAAQtBm5dJqEFomUwU8N/+p4QAzNqIe7Ka59uuAD7Mizeg+42wH61CAf26nWFoz/nmZccdmqroNTYJJld2cKKc81j0xsLDnSEju4ite5duCKCeDApvEJcfah+6JxdWvy3jvMY68GCv69kPps60luUtoU4O2uk819EyvgVEzpm5WVicZp/P9XHO3S0+6QB9pY3cxVxNt/XkgMVntFHhwWQ80Qxcou++zV5iYAWtXG65nAFk4KGXzcucvoamNo83hyyfDAGX1bZkKaWB7SfUd8sVxHfHT0EIq/B5d/gSVEi6EGk9km6mpWshQ4iMxxRseNt/xxNPlzf9WC/u6kxX817t63VB0Y3M8pU0BLAgBFwAAACpAZ+2akJ/ANheTakAE7+Ph0Pb3xNOuikOHNJylEtYfsqXodX1Xbq2yKwse8yXmLZw9qc680W1JW/B7/kF+29vzDzjN07wejQqYibCCgrD+PZhprfUQqbensBuFN0eh0EKUCb+oAyKfjAvGDHeQqYm/zwEmVEHDkiZoDpLnodUwOkKwrp0cPtwl1b4CsONdDnlWuQfy3hwLMdkEsqMZiHQdHRaxtYk14Ax4QAAAQ1Bm7pJ4QpSZTAhv/6nhADI+yoniogBfcEXONdswxlwKY62SGzTNOYBbCI1ZAxSThU43Y9+qZvwpBZj07WyqPd/glkZ4ch/W/yzQ+v2q123tTS5Z8zb1TMOgj7RXnqctFm4YgI2+uJl1qhc3zkH2RSKqpcFZYD8QVDdg5ijTPmRr3snTiaokgNuXUWY2SdoH0LBlT7nW64ZOGR/P+07ckSjGfgfVac8tVRJB18GPg8IiY/+DPSKR/2p8tyXOCXANeB69ib5U/4UHmps15jAgu9DZtbPd9cF3znhgYEkfmgNZnqEV56cwmfsRs6GBiY3TMzPvMMPpIRm921r+4+Z5FTTQ8cYCbKr2qkzwQDZgQAAAKFBn9hFNEwr/wCoZq5QLmhAAUEWSYZbmLk8Ew532C57cftL/6/+gZ+Kp2bTnfY4xjfbrLwssYAbIdjAykk0k+x5tNZSViI1TjaynnD1AToLwet58FyIi0zP0eUSQf2MiS6zClRUqtIHoI6ds1ETQfX8GcTbvnYV+pd/+Yo6m+DqV6T4CoHsaEZw07pwDi5mDnvwNfLAQTRPt3pK2ahicGACHgAAAL4Bn/lqQn8AVBkxuEsyf/rzLqzC/aZ/t3ICrPq4MAMPAdLd9OridhEAJdhwialUtxt7P2dOORG9SjsYF2EfNFX6Z13kxYf/FZEALGVOaVXtaCjucLyYPqVt+UBTUxPaIxp9zzf76i9FcA5E47Uo+nwIYc0G93lV+rqBtzkCSMH3t8VdNIMeNzLxmuuqZvUs6ACJzuL+oVgma0XZbt1+zlXviQoLhlY79+2DegdfjqQNkKyofH/4/Zho1khxLDJfAAAA0UGb/EmoQWiZTBTw3/6nhAAa9yjy2tu3htfYfQA1yV2QQeBG3Jt9vzjWlBXhV4wVLxQtGqd99QUjCEhs7ka6fgLyhW51doSGrVSW7gekwLj/NGd/lOvNwf9xqZIJqVCVWNerJUBFwxGp8oItBCaFbz/GopVHTdVeV+cOoJrKZWqgOWWwBoQXsglLwJu/O+45YDyxrpzEqzGtgBiL8jzFP1I0Ow7hq9yRl9yM2iXSnXXA2KFxyJXYQflK40I1PLN90IGLFSx3MrirAdpe7VdGkAH+AAAAxQGeG2pCfwBJdwE8ZlGg9Dq38j9XJFQ/MDPGa4K+9fgAnHOt4NPrA/Z9Nwi2Fgn3PffQsvXUgZv4AuHJKhKCelsdb4Jia5GQJo4PHQboZWZsJAsARpsoSNqOVYYkWBbhlE7SQrzJRqnQ49frKKWMnAyM0b6WxuhoDBqGqpeCfN6IrggdbkVzKS0if/RgQ6Hacfto74ubj0NR/ktkNSxdpKqFPiOQ2yU5CTSzCEZRyN37qZ6guOe7l0amHPo4xbFB35fnLgM/AAABZkGaAEnhClJlMCG//qeEAEW+KtR00+BpHwARB7vjsqtw/4sUhWCZN9ddIL41Wf6TToKO5JlzyyfofCgG4zrznkYEznMkMaiDRTSNTH3P3JCXffswcDqXRc3gFzpNYHAJb1ZJ5HmT87cZvhQzzG3AR0DZvKLXrpk4lpOiQRKfULUXDHRgNqygXXXH4xppSUBsXQ76YOBkAtxRutgZl8/6kFycDHQf8x2/twoVG6DINnQ+i9n28vzxtB2quUpP+hb6aAxoCXpmAWxRHpENEL0b2Lu3jLOgOUMQNSfGX2RHf4N9xfMYokkPEm4GRumuJ6w7zEx4MFfuoppasfwP0NpzPfADB8t4REVcktHkZ82dSdLh+h2mrO1pgjuiXWtRW4wtRY5hj/bPZgQLAKPv8gB710IbJgP2SfVMJYqEEjHmlFqg+g+KHBn389u8rsUAOAJKzJJfsV1bqjvzw2uWS2HkujSvoFZ5goMAAAC0QZ4+RTRMK/8AqGbGcJKxhrwTdP6vrcKJ/e5VRaCoFY7se1fTog2VC4n9KrlAktzac03gAFvbA5brrXWIIx//GFlgkyZAPnhENSvzv/blzDUQEKk1KNSJW2C5cs3yJx5KdkMNPwxtiGYN0y/wC5w08A5sE99AkRId8AUIAyxU8FMXMVX3r3n2cBfKpyutqmml8zJSU7fC2cZKKBOyK/ybzp73Rz1B6drMiSsaRv0QCN3NAALaAAAAzgGeXXRCfwBJWpOfAM988ANreSbZtISh7CZXkfVmqjOHIE//OVteYYCwYfUlkQsGhEOo/8K7phA0aAGexXj2pMrTvdvOvB56si8yD8+/13Vtp2yzHtNuMzOuSLhi0uLQX8YcReikM9vY3e0PY0sOE8OH7vwwu47Ru3157Ual/UpYuVmYZHohTK8zTo4kvpcsGL/uQD8zbGPygKHPUBTVrEjj0g5wZlMTzBfBkelBjkoXiXz9/rmB/1WQkBuqooBe0fjg61spZh3GxUmOAKmAAAAA3QGeX2pCfwAdt4DwhACMfodOm+EgLQLj15dpewkZesAFbU571NCFFM8y3/2v53CLVhpcYKMM9uwi0Pw1EICVj2DkEy8rxNzY4hMBNlx+g1iD0q/AqPyRVsULLJqeWjS5BzpxDBwz66qkzPrLbGRMFWqN5zAGfkGeNR/hmPBwpmsfY7WPQezUxnnDUILmYhi9zvIPI6Z012U0ImPuXQU0vqE6Pq5IQYY/bzwyv+DrRbzBzpEdnQ5ro9H1oed0OL+uGTxj654BSfWOifhtaX5Jrhev8rkZOTuG5wvG/gJPAAABJkGaREmoQWiZTAhv//6nhAAeUjjoAIwxq3X4mDj4Ty8i9vuQ0KdUckul6keXsqVuw24gIud3pfoOdx9O9SrzmIcga+jUx7D9EzNn+MQci5+16xYCOea0EFBMPjX+oHjHXUcPryd7IrssUUylOcPuA/Hpm8o1K2lzRNzH/YRf/DhLZiymLL+8xyYgvSDpRNw2QSJ3EPbBJmNreBIUCCMRpPF5SJPPI25cAgjiifLGLLxd3fd1oizg3ReG8PDDtn4CI1quQuL4dyUVsKaKzt3W2vkDk2TXxkyosuX0Eat9ZpWEEELo+Pnhkr2t3MbB4yRRONPZYB+KGcXM0JOY2Sck6tk09pjzlbPJkFDGUWDTTqiVyOlDy/Hh9DIXtO7zgkkPepKY+gAxYAAAAOFBnmJFESwr/wCocmTew688AL/acOq054FKm8oKRSUQRaC5LI+flbylA0pIuH1nh60/6m6+E5TLs8YUi3tp40u3/PyenYNPtYDEXhVNlvqXBquEBwKj3/wDenLsb4hQJnFkrwrVeCkduh9RI/S3njggE9b5C1241NsfS+9VJkmEkQz5UC8Pw2eDRiWIt2NR33m1eumUa9PMUy4KdG8lHg608kPjRHZ0THLW8HnHpfIovHskf3Ue6yxFDAICKT9aTN7L4/A8+eTL5Ea8V9FLftOKAGiljB/0FgoiR8MYQsjMAVsAAADEAZ6BdEJ/AB8ZfudwAj3jO1BuKX4+GYoH1yQOW6sgbs+rEWaw/mljQneaTRZDL4xMnJKJJCAs5YkVjbRn406db1Jb4HX5YbexRSpJMPuq0dWIZv00B0Uetmyp1Pel660MkLj982yWVVTV+yB/dCb8DoqdyK3DD2Cg3zZtL66ovjQnqwsUskud0GAJZxR3Ow8MLsaIDb2LhJSpOG3F1H2D2zHlqyB8PGTRTAGuw/6H2ZT5fLN9kCREyZJXhU0g+Kqx6RAScAAAAMsBnoNqQn8AH8fU+AoZ02keaIZWDxrje/0l2xch2gKzNu4MSS2q2PbG8vjq+P/9J97qQJUQIIgnRw1HCTvq443dz6e1AhkZo/RZSU6LnUHvlz8rdmbBebF7euNOJqqx0RxiiAYCM16sBR1wehFsFd3ojw5RIBFuCoyenTsmf2b6hY7PbeRCJIryIBegP//NKKnkSgIQIQH9/0XaKIJ74iGHj6+O70xyLOhdQu41RRLyEb3Hg0glznHZG6nKFhMV++bIE/FpdP5S0FADKwAAASBBmohJqEFsmUwIb//+p4QAHn9lRJ13OzroA61qdZExGnka0AbV2nKAFbOc/E8657cWKZ7AKfdAFwkAzCBxvMoWq4IQtUoIqDoz1YuVX3dhOUakfdrSQJYkANaxEzxQUCVlR/viV3lCtD24mGjtagR0lg0ZUnk59zh7P/UxOU5f3myUQdyJHkf5PaKbXeot4QtuVNGH3yZaUCy2+Qld8MT7vo7tix9HcHVEDgQb4TT1gPRMJEkhTBjCSx8VSygZjnBU6Pu4+yZUAuu/3BVFXld1+VslF5XsWcc+CvxeaOdjjcHckI/vYt+XQ2d3WwTS/AmVNBfE1HamQY2AwhbUZbjr42Hr0pWEreoBYbZZkmS13XgMJF6f4d1hf/nYn5qgEnEAAADiQZ6mRRUsK/8AqHJk3mhnZR0kuEAQjupvvE0edkq8axj00zy4L0f/fKDXMZjXb9SvgSnR//SEbXFl0FtuMY7CtHtwet/+yu80lWszwSQzk7rSssL6imE3aRVjOApqc0kmrbmfVTaZoXc9G7EPz3SEV9AbAOdBbyX2lVnBmy0/Q7bxtDX41wUKgSuDqCg4wNB4hTjwDPfOl8fZ1NOe2K6hs7piCWk0rCY4m6gkCgnAK8igMgbTABFYh3TWC1GZROQb+7NcZ1L+b7vjFaJydbDsijU3rsiyRDvlB2JrwNLQYACygQAAAK0BnsV0Qn8AH72ZGkwJYiRdGtGzpHLOFXa4afEfrrnqXhO0BUJKQSgrsfbgAez4rJwUVVADhk1jOR7Dc0kBJl24dLS2pWl6qVGR9imZD73ed3YCgYtzHVZtdU7qGZZgALr05CuX14v3UvkHBqAwSrwgaMFwWs2uroqO5810ebYKmDcKZcshXdlN4t64FpwRO7H9OVkFUDNr+MJQk+4eLAxbX9IBXmnH2x+hSHeBJwAAAJUBnsdqQn8ACvSsvLvAtTiY99Xkb6Of176bIT76yBVtuFGBg+h2gNrhFcIhOgoSAFiOOmu7+4MgRCnUenpu2PTX4xrk1Q0Bey4BiXcPVGQ5EZpB8mVX100DB1Tr8g+WL+VYu+BAm+BYc0mVYjmCjALXkWjn3VwlTs+PaJS0kkSo6na1aBUuEY3x+MwRN9/maP6Dm16RcAAAAVNBmsxJqEFsmUwIZ//+nhAAD5cJzrRXaPWDhy1zZAFV599ab4IWqCljs4YPV0pHMvV/71gBKxgr85bcwXY6NGO2qT9gRJlOp0GIQx8d7UrPmiMPhRVpNC5nGdejCFAVQB7V11M5J4FgdYuY0ksmc3J3XoClfmiPdjzxJowa04p5Bqmq1JO0kXn5doIEuNULd664yKkkzEOjUbHXnat2ITjLTYFQ58R+XPKJIGLeSxf6BhVaBG5/+PgD9cE3vK0iXtIGcwxwc2L+wSJB72AbuDwH4aPZPO4xtjgrEBDMbZG03uZlkBn1afeKpOT2+vkfMAwHPgyb71HV21uAZxrzUCncK0GAgSlSlRIIHhgBtzKwxmdF/SQW+nVX11xFJycAbe5sufzDKDKNEewtVESZiSSlSNjJYRNLtARKCl7ixkl/bQHwyraKB0v5xZkkWmbR3ma4FTAAAADGQZ7qRRUsK/8AqHJkRK6jST0zOfWF/bEzMQG14D0vxupNHyuJte3WZACwr/E1iaj6Lr5Lq6Wu0Y5fEaT9+TFtMSvI7VxanG0D9dPvn6huDAl3qBHqjC6CbxJCCkAktHZ/lpnjSE+jmfwnMP6tS2m4bMWdBTaCzoRaQoojpUiB7SsqgOi35wievVy6t+h0lzD9D1GydpFM7OichMl5LLwrrHt0zkelwd+SU9/cvwI83wZWJvYkhNrgDFHN0OkA14LN8zBYfQoJAAAAwAGfCXRCfwALEjEw1DGtFuS12U0O6aFb5hQu8bcJzXtsZAMT9Xcmj1j7+/ywAFn85034ZyFRorpM6YGIBmvDf/R4c8nuETx5GneGOcR0NIMnuorcSvRrTcz0ZakydxmnD8Tmh1AF/ct5p1Zrt3iuvkrCjeI2K2Qu01P1Fj+kjCJCOTnlIVH9MtmctM1v3Ka5SA0bMJFdr/1Pmz8dsRrLBHOS7y4KzrsR+23HlgmvZQxhYQBLQPggMo56zVXqJhnSLgAAAMMBnwtqQn8ACxW++Yu7c+ov4iOqB9tfzu8mJjq1KfNwZwD83XTw9ssI07ao/uKAEvr3UvqfAv/FonWhrNihR05MCRF/0ebZVNVnYMV1nhfdbfGgT1IYz/XJ5545AVEEu+wl57axiE1xbE2cjn9NRdoaF7ECJ0CsuDkQBUsbbwLCX1fTDAzHNCypmT7ATqhLQuPoDL5l9I+G08dCol+2RmW4JPGzhR8p/hXWoydRNeQZUsX48zJRSKADQUYPTOCsDZoAi4AAAAFwQZsQSahBbJlMCFf//jhAADuf30AHxMHRweoPlDpwn/epKPvZ/4qQ3OltYGdLBZEBuelTw4msUumAwJR/K19OKnzeXjyiVOhOC2vXsKLH8hfj3AH/0HbSg5zX0XbWfmPrviG1rnaGJID6ksGJG3NVL2R41xX2fpmta2I54T7hi9QC6kvA/ExlFDOCGPXq2QY6SEsvDeSrG12n4HwBPcaB4iW2P83itk+ktXgYK+tjIHJOPc5Qaa2v9BAk5Ylm72Us617DrEqg0jT6e7JVJubBQ4IMqFzyRnyKeJEf7HV26DM9gkcpAJJsp5TV0qJEZYVIqkFJuGZAdErIckWX8M4sRq2iEM6klBlO1tT5tTagVYctGm1vuTaXuEql8F6xvrG9PjKW/wjQUHaGKuJk6K9JVwlOUK+9BT18iUoZEG3VOIX/e6XuEz+tUI/3ZPQ/72wfbTm2zadOeR/PUCNI+9P5x94Fuo7TNaJJqZflz5PQm4EAAADaQZ8uRRUsK/8AqHJkRK6k3yT1t607UIrThboQ5fjyVAEZmdewvw9rQur+dH2bvEy0pbOVqAarccdhVcr4mFdTQRaLBvjvYwY53uPVprzYilNYwAqMntjWlLvEyK8FYtcQi6pFnwm+mGGHwmjFjAYqBeyfz8k6pm8PqLJ/P+33gZqy6o5OA6i+z5AZ1TehkyVvtE5dFFlKRzk+kQQX0cDEvLFpFlUaS+OAKZrLLHzWohQYeAYSJrBkRO/la21D9143BnDNKDtn23nYq1HfcXPtMW2xzs4tMU8cNSEAAACpAZ9NdEJ/AAsSMVXyAqJP2D0pXW/4NfOAIkJ3xJjhE50Psuet49yUi8t7mMS7GHSyIPU0QAHOnGOa9+/BwSr4jaFvm8we3p140OAe//UJDzwyKTIaTkgYs/74eT/obwtxhisETcME+UEpHujz20g3Djphf+qKybcya4+G9rzQxEhggvVdKppMlG4UVWIWbmd8dhZMhCkMe+YuoKQr32GMWQGCG77T1+goIQAAAO4Bn09qQn8ACxXAJ6ZtdwH5DWSNa0CaXBrn8IT2BbEH0gpopWJ4p42mz4MFXOaaV3h4JHVHjUWuFR6hlKYYGSMCgZLhBahJfYFf2JHN6xGX1VjtNBn1LggJv/8G8axhpmsQBej/rIAqn4DmSsieZiXW9va6tdT9sD+IvRHIcSDVQ2y/RqAUsnbJsp8WtyvjtCJ636kduWq5ne9ORfS+4juNzIG3RnpPtUq1zakww7bWnJKdkqUgEHGyF0lwK7lyueYUP0KfVehrnPDYMb0Q6HxiBAc31eyeo7p+prR8JpWfoo5/Zx2pv7CP6JEylbtmAAABS0GbVEmoQWyZTAhf//6MsAAGCAi5Sask/wsAK7iGM+wO1W62q9cUxTbfAKclFiAvsNutk0Uj+77S61z5bbjYibh0k2YnkdHcIjgkbdyPLhJBplybefZ88ytXZuDBOzTNRYTpPgqi26LuRV1/SpgUsYOcHDjWih/L67ethUITElROglazXNI80vV0cBUisZHhIQbw5Rhn/TIiTytSYub+LfNPaf+lNgps3v7ZBTFNcHUavaBtOm9KKNGaTvnyF945mlLZoVeiixS8vuKVyE5ViSk6se2oaFvEMFUj4PJeQr0Vj8tQxq4uad1lulmwIX9chTuWzmFttX1jpCmJh1SIOlcZt5pJ2rsRrRnGaxdAnq5SJmjpd9aP+iyIBuy1mnv0CVovcWaiq19gOvpn3B1ZRbbzglTiq6SEcvHW7FZzNJyL59a4ZGwmTclU9IAAAAC+QZ9yRRUsK/8AqHJkRK6k3yTztsvC/6dXJfj2wrgykjUq9usmdJoYGqV4hB1uyESSyBFkD9J1x9XgAlSux3vyBEhZ2+mxVfOvXzXurXSCknf4LIN09SDuwz7k9vZAbJem+kdnMgxYbXmePkkZRZbTqTJLwgxMJ5PqOxVbW34IaHOyj4N/eevF6PI4bgOkevAyZhViE4HmsSJanlcGGVApB0a+KkeX3+R51nUDAekVeR/ZVE3ONXeSkhXhAJEb0QAAAK4Bn5F0Qn8ACxIx7U64SUQ1EH99dMX5gTd2z1dlfxJYXbXZQAkyxdPNkaDcAqpbS98Xq0BTx0WRnk+/r5eZU1x5Xltxt2mSdmcIFp8xG0kzUveuN/3sc/yCLI9qheH8g5h0E9i1pKDUDtAbQSdbs0xD+dEmXs7VNjOS2dhmf5PapX5WFTJmiEdoK489e3dgEdyosywI8wZMrhVFVZOae/EGFIXibGWZ5T6fmZiOAW0AAADMAZ+TakJ/AAsVwCenTaHJkfK4SAwrPz/7indwAlue82IeCT9Htcc7yjwlFKC0h4esPCW5uPDw3GCWnnOlwPCQ13mlyiFPNiiFOKENAGR8qHLAZ65Tnb8GcTEMzU3kNfOo0L9zOdELJB0frWRMGQPumT/0rhjLU0j50f2s/yAbYc8DpXdQjC34JNAJcYGu32fBLq4hHPlLy9fI+FZzXyHBwqIKreVS9NjMaemtgkfRR+uVl1gDakkWLxopgt3J0FejKR8Vax5nFEhJ6BlwAAABbUGbmEmoQWyZTAhf//6MsAAPrwnP5E7m4tQfJ0KSTTUdE8IeO7wAUaZl0IGtBm+yfJkW3n4kU26Cgn97KSDBvfNshShCtBWbOivk60daLYe5mo8sA+JXH2o0xPsowj6nnbzoj5a+rDLNAj516UP+RTYbUcIL4NvZXLiEhkipg/QEz6aCQazxaSo3jadwDnGFH3Z/97pAFj9dugCvhpeBpP5IOshYm16mpURajiXYVMDCCC7ANt6B8x4kQ5mjQAtDwN3QShO89l6npIhlRH1dSF6pCBoIk5GJ3o/TZ/gQZ12jdHYZodW1JC+GkR36T2wHuZ+eWheiV8ubFwFjRHGeCwYB5mfv6Tb6v2U1jQpK8rx3i4KktC0jEzdCwswS7TFs3Xk8b72Q/HJ9oLLGK0VvTv7AYY+JVmyuH5JZH6MXRz46vWJmX9CSiuUMZwLFXDXCUHHPY6f7FTph5sl3PpcxVo7RM4THJcNRPrSUGQPDAAAAz0GftkUVLCv/AKhyZESupN8k7+15+4CgT4B8bPjzL3/zVYAanHECOziqhRTvX23n8C1kPi+vieyJiZ0DT6gBctyip5WJsdV7tVoDkLdK4+S+k11SWesFtdjzGGa0AUvG/LZCEtgXbsSLJwGsmZWfKhdfhD4oCnHoJ2nqeXoFx+HkzroZRPhDsJwt9iJNOtQsaBGWbUIik5VcTS3WL2GFkhWyL031VVzGnNoC+v4fjcEE3PkeJUZNtekZwXBmxskj2Ozx8DSbSvXn4LU2uKM8IAAAANQBn9V0Qn8ACxIydBH/kI051bg4kThAYPjVjGvUIsx+E6mzoEDAlHawuHuEAE6zNDfaD//RzWWh8lu3hpQNKKgRYCEWsDwjfm1dZfCHGexhstizRPdBZx/ZXWcbIP0d+UctQ302aWcYUESRC+DpH/loMMr8T4Mh88uTiA5JlPdqPVx5o24jcTUIG4R/cUdYXQIYgseLgPfv3fwWozr5PiGJC81M7yTARTtFxy5kTIbRgSEEkkEImU4HjBTHHQpMSMtgyUOeL7Aa5tvB3m6k3JSn90SIuQAAANwBn9dqQn8ACxW/tffnkseM6G0SBMsvlM4AW69OoBJly7RlvAXlYfKXegwLa34PffxPFSx3c4I/Jz6wu/m5OPDfIbhtUjpK+/LnopIUDr0ILggRlttUs///VUOKZ2jBe2WYzHaZCca5eVtTiLiScLSbSenVwru+hdHCjN08sVxMexx1DEerB7k2EjVBLcgZgYQ4v9NXhYTum/+ZPcclWHhLFeNXw3/6HlngKvDfMAOeUbAol6VlQ9dlsAK8HqaC3OaIzuRWdmBQMKtGEI1iC6eiiS3hpAdJ/GmJCgKDAAABe0Gb3EmoQWyZTAhP//3xAAA6HSIcLnCGy06+18ZcTXPLzG4zAbuxjFpvkJpSn+CgGrQUUgd3SdqC7gw02of8oE/8bs48FH8LAtZFSUYe8PTqo2Ryrej6ZuwVIjfkjiwZ9ZphJN/dBP4v/2EnnATxGlnGtsbJyGAOBDc9zzpCWKR3Xn0cu41x6jPaqeY3qmhaVxwPJdLbJ/se5BhT1aovld2Jg1WN6K6U59TAqpi3FHFX6HpzvOkBt4mAwWKYM+Epc6o0rWH/ICZXPxDz3MaN2LUyH559jr/9rwPbZSWpQzuymmFwBtNZT4ygmrhmbq8Ebj+pirqM6Yl5LJM3V4XHjQA61lTq8IjbI1nOdVv0Rls2zp9CGEEOY6kHMAh9l0jhDOz5U6hUVk3cftrNZrQvfJmxp/Z9ZzuZOcwEuKIkT8hKPB6RhjhRpyvJYnkmozzpdSSnv0JDBJ6k85/UquHuI0IJaTTEPysJNKDq4eyAst1FjZtX0jfE0MAwDugAAAEKQZ/6RRUsK/8AqHJkRK6k3yTGgAQzFLq0rGXal+qBeJwGlyBHwT82JmD0oJvSmLP5fH1TkpKkB/MkPDndsbsnyJGgCB6fjolm0UY6BkSDhbjjOy7GbSEeQyLlu7KcXTLdao/1mTXB/9YQG6xWGEr9uHlOfafJiPN/NuHaKR9Lryw3rqGFS8P5FeBvjkQoSYvvL4yIzwTusDTXSycz8ksi+jCDJKX/cywHMuHjMiebyVerOgxbduTsZYNr9mH21eu2hOxUZEmm3uVg/IgOWaHTUaYCH26OzYo9ToHv4nzP2eqDyOSrvp2S5daE0zQZgKIf0Ug2ZSfTyy5g/N8w85grD4zD1BfkZAAAOOEAAACwAZ4ZdEJ/AAsSMmPsmPUZYIUJcRo6+yVNwu58AFzbtFlakemFjrKxWuzC9Zrf+f2loVDvx4KgDf1kH8eDSgdnPhs0Mu0AaHusz3vRdT6tpSonj4n2JWEfPIgzgrDzUNYA6kB4q+A7MGtPgmGn836VyFfZzkY41qfYVceaUAi5TQ95e2XV+3WeX33H4x4uPVlKz4nTdF9k+uJPIMMuuy6hqFP8Lx1DCTzCjarAOBL0grYAAAC1AZ4bakJ/AAsVv7eVgL6R3ZsMfuokk62Jfcha/YODYq9jAvkmN48WaAG6yLpc8KG0G3TB/YdU/y35Nsaah77EPTBnqrWVCqFt/ZwN8yHVhBHLoEjQQ0Oje9QtQHbMAXq6K7MBIJMtA69AmyjvBi3rjf/yealxafOSvpHzRLM/3i4DnOK3i66TaRy/WTglSgC1hGPgYaVPvid+WlVSoqPaxJYNA0cRIfQ20TcHi6oX/jVAm3gfMQAAATlBmgBJqEFsmUwIb//+p4QAAZITs7iADlFYC8MUcNB0GXijHp5yYgp6CpVh6ZRXmPkm8r3XM+Ju2dSmxG5PTqVe+u+v/jBAoMb+sTWR3Oiii/XAfiTJNIAj9dNIE//Kny0Gh8h2HjOz5Bdy6ni8Rv3jsAhQWQ6XvGvbZ1oisN/o+XUL4P6Cp/MXjE5bNOcuzEvi4VoSabrHTm3ijwTlS9Dm7fyhf9wOen4f4N1opHc4e6zcMk8l59Vui6o4JMGeHvXYnYoT9ykvLqZgKV3QRnrrlR07jc8aUebNvfIay0q0VaVC3anb3OzTROHxXjHnGHWlPVgQJY+gD2xTKsF7emwDxs9gb4/o1Z/h3xxMYEJkr2Ke7uv2YBG26yfD3EUfO/inJyFzcWp83xibvyVczQoXs80E7f3MP5VRAAAA10GePkUVLCv/AKhyZESupN8i/WY4wuagAGUQ6PThOjG2FiTRJ5iACIPNxWsQEsCCT5dgwixksTRQbk65dxFsSwCkIdEAm/XTESUEbzaApGqgFQnmWM5hYTz1pbFR5VPUTeoPFkOHYJCN0LeQu4ZxNK7I50ZtuSIl+7joqrpnWIvQVycKgYcj71lIKI91R1drhRTib11MhgHmWjj4H52IKItH0Ck/uIfsJAYEVPJz003m4Y/Ue5XMEWnQLvHIStnsJ5/sy+VGJCiXmp8udcaDsTnZIUXZoG9AAAAAtAGeXXRCfwALEjHvfUpgR5b1FFKKTVMQHcwoQ5QwAXD4UwH0NEnzEoyZ51VUP4Wd94BkE0XrSE6kCiLiNvBEqShbt0JHmwsFCFUw7bnM0802wrBN0tmTezhVSyOoXDqmUEddiL+mGgzSJXLfMG5WitUNpMccwxT2sXYC8+mBUQniTO3qqIK95wF80tZB9j0NEeDzdDS6UR/4Onf7YHE3WazTGSpKws17MaXpU9x+xMR62ERqQAAAAM4Bnl9qQn8ACxW/t38H+R+8avXPN77J0jkvA5Mhi5gIAJ1mApt9QLaZH/YfTE6bUrfHX9MkzYG/A/gjddPcupz53uA/oRZPnO8sC1iX8T/WV/ttmEwIBDrMQGMWTYmisq6nMfqTkH2uq+UmpgtLgPhR8ORdLKJYDCXSxdcdFYXKT3CF8/jqHVuA2ts4H+VKzeGmcF4bo3YIotU4QooXIb7wOeNZOS8TPIGjIn1Dn3Dp50pqfQqU8OiS3JxOFyww+m5xKVb6+/FcNkhttiRQQQAAAVpBmkRJqEFsmUwIb//+p4QAAZJBnwdb2l0gDZdxCi/ZQABCWkgrLsUSm2GAa2j9Rc1vH/VG1An5iOGJiSVBJhvxga+tyRH9jMVGu8tXRhBq9TSA2aQMrAMYiHtoXpVblDSNe+0g1FR4iq25f8mwiOik9qzZ/70Z+aIWhcZgS3+n8/b11xT29riAt7BpYmqT5MAG8M+V4MviAO01Tzg13raxitItrH/YBPc96J/RJxrcqXI9VVYQ9mb90Fkpo0JlBg3+rtCj77OWpFZZ+j1U0iNb03LYKUezxOhP450S0+3NUlnQhktuAKVaEsJ1rP8Am9VvNbUu8QC9HsQnSymhq/ExotiV3Kpc+AwS3xw6y5/sNTi9UvPMRLPKcipO3qvkLCX995Pc+Wnfkh3mFjUVDi1pDmyWptwH+fpYTGZDcau3j5dYGkmMC7qRORdzHxbGAPG65isNsEYEbZndAAAA3UGeYkUVLCv/AKhyZESupN8i/WY9guJAISZ/zkw02IALiO4pcumvM4+VsNNqKw6GrfsftXiGeE7vY7ruA5GhFt51ff8SZ5vL10PCu+3V0Db5y/r2h071XIiQ0WHEy73Vt5Zpvmgen1Vh8AE+J3CEJ7v71vg7y8wASyX048RE6XYfVc12sDk8WqLg39/PS7azaDFP/BR9acGj5vvDRLQg4SD0nNj6x6vbnj9204tlyh37rG6o3nrzuev+60sILjJfz2GLF2ExkthGiVryK0ippFtWdaxjh4j3QRTCshPdAAAA3gGegXRCfwALEjHvT78c+/cwgp21BHbFKQ3Y5NKjOgAOLOneYPasn9I8poBzIMZ9tfMVdiYe6uK8OhWLzWu3fn5LBMQUhP4ncvcWcguY7oKgxCPyh3xoDECba1XKElT4bFGPqsi4W1t8D5cmQkZZFAROSI5g5jEPEy6ozEsjfObtgYBK+4Ym2dg2FS6qDKbLeA1WkXlp+NF+zI0bnNQb2S2EE+47s6r3y5Jm87L7uB4mgj5/arMOkjAygQjsdbFFgqYm0ovsGVak7qdosOQp8eqrz1myBFuYLbo6Mtgu4AAAAMgBnoNqQn8ACxW/t5WDbYSiRSvvKiC2HBABzDOE2vJMxjweiI4HGs4CrJajHWMwA2tOzb32nEHv27Nkij7CSHhbBAs9Clrz/UOzd1O6+UKkMq7hqNmfG78f9PgsZKksRohKxJQk4veyD9veT0rYoFO6m3LHCKdO/BHCs1n8cujPUDp8/3UZRXT75DmBpYWPt5XUfp5BHBpFmGGQr093VIMnV87ctBsYGwSSn0huMGu2edq+THU5xzpiuVcqS0OUO5j6rDbahIAZUQAAATlBmohJqEFsmUwIZ//+nhAABh12rQFgC6GNEcjK3QkLEUvAMMtX7eEOudS3e7GJdaJwntp5W771Lb91i89ChhSfFQLvx7EvwcmelSWbcBNppbC/vkSGqt4ihb26r+5pgzloOU2h+QIcQCUB+bNe6RgN6ERrMiPIb96krgbmXUB8FMwOg8eeIEYrAeGyl3RHxAaYHREuWpS+SL9GMWv09W96U/ZlbN5QMvgnRGzU/NY9oj3cVCPRZmTvBct+GDnU8U7uutgqXC0aEUcqPlLWMR1nEZC/Kj2hnrhlfy06r3fP2lvALV/NiaMLQzxkbAUVey19Pg3lonQG7tGzMoBG44e4bZHv4vRTmv43FLvghNOQoKwcv4CXK7PsRRoKgaPZwxxBrlbeISkgU2Uo14ZQ+jeSXk58XOUzIAypAAAApUGepkUVLCv/AKhyZESupN8jBrNDUD1rr+Q+ABdP5srJtNfhie/C/na+rsEQ8N54rdNtsZWcgd+CPZiZwOrvp/tdCiRLoQkvoahjab4kR0kTaI0nZLyKa/UpXvANYwECMdfH6v26MU0A1xWg8TYDpSpbpBz6URfvLGvhLE9ZLAeH2gzPuaGIiSOEvtLcab9/RQBoSisHd85fjZw+fpop6ZhnSUpHhQAAAK8BnsV0Qn8ACxIx731Jmci01bylUSr7jVIAJ28rpdL2AY5KR3iqG8Ve1LZjzjgSb+ra11hfNXQA8SikiDJG2qahXPWV8IfjTwpDs5Nw3yCRrgE2BdkCrPUk5XJQg93eIR/EIT4kHwpw9Xo4uSLOJcf+i2/C/qo8UTFxBp40GuL9+PJiRAyyblNgLz6FslVyjhHzHl+nioxe+RU7GFBZneeTbmrNj3a/bW1FIfkswCihAAAA0wGex2pCfwALFb+5tGxJ/9sh9lVj+AC4sIEeQYQhUzh+YLzbCDb1M2E8canIRpsW8VL+lILMH4pb+a/UI/7+Fvawp/1LOpyUE8Y0BKO45VGhlhpAv1D8txvKAUttnSTMm1sTl/5i9QSzbJzp7Yol0eFCZO+7nPiJmYeM4ObgrLb4FTu+wKS5YZSv5AANKFkeO7kd2YpNk4Th9CsmmFx8ytpXi+Q2gNuYpzbTTPpyPMGBNW9nFsQLP6M87V8mOpzjnTINYobEJqu+v7Q4FZzc9ffg44AAAAFYQZrMSahBbJlMCF///oywAAarVmPeIMwAAWivrnVn90p2LgHZr9Ckqxr6xVKCHyxS+3abaGJGMi68R9TrvqlU7ngtfKtPfuzUJAPfxumhmHOr3uogmYEqhxgmUYev9z/WyLdXkoK5njmC5VWef/FVMbD/NXJJsPB3VUSWZPQ4NzaUIWI3Wks6JESZuBGmpqybnMru5FMZQlpk5HUYpS5IvVdp+T/M0bwFldltB0GjeRyfF3Pn4BKKPyZJEQXmP9lWgZyGEYYghkpDWZzg6fweCQTsGV0tE1ZPhWIMUeZBCrcZoM9LE1UryNHfyRdT6Rc6dhKOnndNjpmn5/mTvgHi6naT9hDeomO41SYg51c22Ypaqn2n7qqgQUeZyViuFRnWr04tCIPprHyqpTLFVcP+UIisRrZlhREO1/ebwhm6HHpPkp0vMp1uAa276lnFWJPxL71fhW7QBwQAAADVQZ7qRRUsK/8AqHJkRK6k3yMYs8ZJAC07cP2VKcxq5CcRtP539failKJYs75c1SZBWEL22QO69YoJm3y7XWg8bgRwu7VIeAZLNIQUVzEj0rbZD8RdP0YkRfCrV4SL0kcp1v0SjjPgJkkE3zey8puc3bRd68mJ6lrOV+sgmpMyGgJTr/BXnYx/Td24BJOvZDN2sal/LhsIRQ72oNE4ibwju/FVGERc11bn+Efvjj/ewQOgUDqqrG84ZqyuTmIMWdk6dBrhOZ5redQdQdUo7J7XASn4wEfBAAAAxwGfCXRCfwALEjH0MrR90CAFSD9yh8QcUx2O+sDeigSel4ukkkzyHSXyWjj7aeSaItTdnZgIiBPu7d+5oAD078B2XxJZAiZ8Gc2he286M8VCwlA2PuAuGoLzJ8gLnHaNVNqox7UGVuSUFDxGkrkaM12HAZ1KvIRszrkPXTOLly79xWzinIM22Xbd0Gl4EU5cZF3p5iWYpdcez7Y/39iYjLjkQfxl1RTrw5Zo0CAn8aat/WHewsUj0bb5Si/5uD3RAioyDqkYStgAAAC6AZ8LakJ/AAsVv720eaeiAEXwx0P45SaJoU/0tytWAFlHGlixsTtfKYCQL72gp616BzJLRtPcRNu8Sw0r2tpFj2TUfEAmlU2edUn5vle19dMKRYMFv+RYvtYfHEBcUiGsZaYC/GduAsKi2LqU6vRt4+jeTgrIgaHRaLmOXjXbBaUWNNO0THjTZHtsl27IaafgVm8LT2kc7tyieKfBo5ovlnTE1biHsgE1+reqaIMehV9PPkYk55yl6CTgAAABAkGbEEmoQWyZTAhv//6nhAAEe+RsB2/pcAG1VGoRsWrky/cWLwx3c1wHaAjarz9eX8wE1Z5VJH+tsnpX4O0XX9C5aKHWjbHy7osaWpWqej+8nJI0Seooa44kAQgLFi8q3OhEJ8DLztNuAy16NdPFTKUudhDfkiaVuvkgXK3RqO98XysVFQaM2OnQug1mrSiD2S//ypfLp+k1Shn/UkxAq4y26jvtujieWSeBnU4rab1s/zf7BTuTMSgcR75RWyWDrIQbx9ypeTtgwBk9f6qDenCh8CCt5E4azhi/ewK3MDps1aJVq7GxXLZi5rKUO1r9ZKgdLR220Psbj7wtyAHXOM4B0wAAAMtBny5FFSwr/wCocmRErqTfJunsgCtTlkXcxvssVu5Ba6uD/QJ7R6Eki07zzQ9UfkyGbnsgvZbO4+sJYx72bQKHtvLKSq8qM9BQ7Z0xu/tfIyogb4m9iX3wi/YRfZ8v3ut+CiuOd7KjUzyXbT/7gCBxs1mPL/4RenbSarKireM2sdKyCc3o5Th4RIo0e1pJu88Zwl4zRQw2GMPNi4nxFEMWPB45nILggWGlYGXYtBMZtOARJh0eCXD3JiJjqtAHDZNpZJQe5+uy5XQBqQAAAMwBn010Qn8ACxIy50e3KLDQArhbOkY0o61Y2eDv1U/1sRskD6Pw894dvYLmycXN2L452EuDAn/Vbi15ewYRaEkIFQFx+crAYR1yJsO/DOO82zUfgBFyXg1enmMmy5ibN8ITxqrywTKpYkxYV+QP6UO1/ddpFpz/v+xI72l9dbBVuKULxyfFAISUyHDC7F1RerrZdovpfXuhXY0WggzpS4N1oooP8EMhWkiOaZWyVNEAlNBsMzMJq18WMTsAc8Q6qyQdrQyFGACX2cLSGBEAAADiAZ9PakJ/AAsVwIhKIJb4W4P2CrMARMdTxDMVSVmbE6kD0xz4TDg1kgpuA4PDo2pQwPEUdOlbzSWpblj8L/1HF7U0v3wB016wsxc3TOXQzBC05Npgo9MpGBSoeKBAwL0lnlI5y/0Q1cgB10g6DFANIBCl9WlhlMnmbumoIuedPqU4O0fmH/WUNTybtxOyxdOOiNL2fJefQ9T8RLyk3lXuHTdHjU3xC6L+9j4hjRPIUSESBXr26O50fooN0h22Jr0SxMZc3wKkZCx4mDSreYFEhC96UQTE+dZqWIGeMPCnFGDggAAAAWVBm1RJqEFsmUwIb//+p4QAAbv2U/Bg2X72EkgE3wxWGNw5DzvfbsP6qYotPGDNJlZCI+tUHgApNbhYqhZ36MtIhrRKluhmAr3VoH35OP+Dv+qewZntkVOFNquzVHcASNh67/Xpy4U6hsYlkBFKukYxOjCAYldUnB8Z79mA7fVEAYuG7ck6y0fayY3StgUPfYyrfDHPrhRLYsnarI97TnM+1I6oP5Ov6SMPdj7Do2H30tFMUNpVlPyi2APj41Lor23orGLAEPhNO/ojdzvMYFFPDmpjTfK4hLsZczKFGPMq9DuZ9KHeHYa5LNIfViphp9Bf6ZERnXBW8HYwcprLSxMLMRXNFFqn9e10sq3VMboDWp64A0sTUhPJBPVdW32UfQHsABgdFwm0PafxPoDAGR8Sv/18om226aQ87F3eXbOugFcA85yxwlvpAnaJNn9qUTNIoqxK+LjJAbW8lM9grtLWopzAlYAAAADeQZ9yRRUsK/8AqHJkRK6k3yeZ7IArI9Fiqel6S4zuw+L6BoQJtpQlj3pzW7pcwLyvmR6qbs3Tp1qgUxsZdSEgWsUuThyq15GChCQ5VxkbGx1XQtyQywkJBlsss86ZBICLJ+khUgbsA3xA666+v+EYOHX03UIVOcxAQLCxo7jqwYHcg0I3tzOJYNePShbvBx3JPTRLyvOX2AIKWznIzd8ptzuNNT/vJNZFimTpm/yef8gvGKcIIzDdPnAvU/c/+9imnIE3Hm1qCnO2Z7HLARp067qzIYdUo5dB9fEL5NHTAAAA5wGfkXRCfwALEjL7R5+nmHgCrXvA72N7ZkHlvxIDVwBGTyB3xdxWQz/xjuKWR1HCNrVCPL+JkI+bDg+fwAOnUV00zqSpfcCvGXXl/K7jDFVLuiZ+mPimJkUSuFKde6HHNkneC5wNNE/Fngc5TNy5jmwpsiIGIQmyqhHgZVjGvwstZw4aob/wY4vJ0YX2j++7fhzavqgynHD/G4tNLwLk5BMMJp6LYD/1ZDDD+jckNB55hpIncDGj3ZA6xp2iJB1kL/PuKMUHJFRg+De8SvyWURI/xk4D/r17N9Bk5aAf6w5xRXRnZK6EfAAAAMsBn5NqQn8ACxXAryKABfehFDXSSAuHxRXaRp534qHG6zXNVew0/D5qFzVb+i0MpkzhlR/HX/yC4EKByIKtJSfL5Po2cWwEueeY+IFovBIqFzHwULeP9rwHAesGZOYAzu1SppHNG/ErJ2eIqW5hyPEl2s+bXcsR8P1zyntU8ct/ipHn4y+GbxZpwZ5UcR99S6sXJvoP67xkZZ37UPTuNpbwbzWB2iHJ2+5UiGIgXz3eR4BtS7zgq4szEyxQSwE+mdu0/qRomrTVEMQGFAAAASdBm5hJqEFsmUwIZ//+nhAABp9c/Dv+jgBCnq1SuEDffMLo8AhUBGCDagNHLCZKBLLvKFleXi1LLdcDgWcGlIO1A+ZTDxErOjf3PY5gas6xuYmDRTa7flYTcQLDxQ4eIWxqaARFpqse7m5jbKkCV4oKXLfmICru2da9mI4frffvsjy37pf2ftGc3KeKUlCBW7QbwvtXLPkfR9Wp/HdXkmBN9edpoWqIkYQPpkIfU/8neNNUAKnfTSCz36ot5GY5zdrlPRt7aT5VVeKYoRDJn1j6z1BGH2rO0jTwBQYNn+Jrb7gImXZOUpN/TTYHGH8kAc4mpGN23MmmCYZddexo6pUvZ/j9So0agYRVNZvjdsSYqCGzXXr0jg/6KX0sJoh1OUBB0kLQQEHBAAAApEGftkUVLCv/AKhyZESupN8jGLEiNmPW7gaX/T8d06DCouseEANCH+5cNYWJMVPsDPDtcr4pZVrhPYDzGWsm/xlRkzB2iTOl4umz3kMWihQdbp50jZvbC8wCR/2VZkvijeaZdlJZMC1Gz1eIhed+7EZFfTpSy2B32sM/bxr6VHFS5Oq1FwBsIGGQblQyrQ+0OTrhyidFYZ46wlBLmJ9YHnFnALuAAAAArwGf1XRCfwALEjHx7f0q8Rdr/AAWn9/ut2y4eyV+qWVrdNP07SNgb6yuXqAG1Qi2KP7rojbY4OOUiK6cX1yq0rdAH43Zvxg+qLxaeT2dB8TEwL/r73gQcgyu7MFV3oXZ5vB50r4J0eIBobdRm8vNuAsYn8nlDe0+Q7inowUx5bq0DknI72WB9jO62ta4mQp55XDQXuJjOBQ3mL2z0EaHvydGrtCT/U1bqmvBkQ+WSMEAAAC+AZ/XakJ/AAsVv72z0dcC9FJgBtah013frzMUiic0RVr25NUUkAIngQnZwarpWeoFphOS6yYTiGWsFuNKtlnrZLE05JHkJHU16M4Ta2rXKPMtq/K1dO1m9jFFDg80xQfeTT9zDorxmOB7pPP5I7n4yOtOAIKcend48rJ+2962Umgx9j3JVwoMnF2yrXoT3PNxOJvLpVJTyX6o8H47ou0SaIDHfTQnMmXjTN+Cub9oFqmJKhEiKTRjzK+xEQohIwAAASFBm9xJqEFsmUwIV//+OEAASUVCAAFHUgf8Gbp213Iz/br1evk+tONbMA/YWiKATHliA1hrerr/HnJWjmFqlFmPF7gs1UnfSjGHAb5lj2bkHE2AHvcbwfJer5MqjyxJ/NEAPQANU3mbfyOTSJMpL+o4GQOrnO74h8z+Q46u/B/mHgptrjXNdD8lUpF1QOame0CnyDd1rHWGpCTnMUMLqoZ0q3eG1uQp6DhUFUocqE+hXsTlnmTCamJ4m2/75B7rhw9/SGWsJXPGnqOxY8lVT0U511CkReEkd76sZ14Wjt57x4xlc1IhQ1lr48QbfYcMjz5TwBjGGUIqWncMeLx305q4H+t0WWn/Moufm6SScECyc/S6E3w+YUQP1RsvPHAuYGNAAAAAtUGf+kUVLCv/AKhyZESupN8oUump3ev/jYANmvraPfGpTPflaEaymLMga95+8m7EYUzHLLrXrLQ5cD9+y4wgxUr/C2ZXhAxmiZfaKcnePnHo4eBOr8Yk9g756VngU4RJsJPrET7MFnm/Nd6nlGnRi+Rn7rEerrIj2+Z8pWnT+Qc7p2D0yhkxqwN3yt1PzXe2I/kZfm+sDk8s/bYUrtRVllLpvaSjsmfphPWDjGebcNL2Z8mvCykAAADHAZ4ZdEJ/AAsSMtNIBoxwAv9cwMKDB9PoK47i1R8tMT2FBdjD3ctZj0aCut25ugvsn3ELZIugJgfoHdDuDiAiEqn1SPA+30HpmphcIfzcZcDPSfYrsldE4CDD1whNwenq0i2NXHAr1GcXik6q9fAoAH7Hzw/bWGXy7CELpNFQuRfaCOJ/33RbferXJT+EeSJZk5ASGJovVIvQTuGYLSyvwcGe6Ed5z13XbADxBUATtaAHmF9ZnhbDdnq2SzmTfCzhm+wA36YxYAAAAJABnhtqQn8ACxXArUWhTotoL279Dmo+16sYnhwjYwpx2SjRwe5g1+PnSnrUD+gAl/rRyaPT1o63AXpkFDf+3t4AVPxl9dbBVuKULxyfFAArXX7t7Pb1pv0Ljm+cJX6W8wS/v8+/X0XhQcVCPBjFnPAF4KS1FBzaJ9j2EIFP2VaBBMBMYrS92a33VrtDQBhTgpMAAAC/QZofSahBbJlMCF///oywABMfic63XjJmCRAABM97h0L96z/EowGDbW2dI4tnQbdn2INY6EB2aPypZI7A6oial9qLDNyUq95ijf/a0hVjnCVJiD1tSdiyskCwZIh272ZBeP2DJ7LMDmHQ+v89loEeYxeg8pU1ujgTZTpYSzgenXzNf+5kn4AZEwMb0McF3+IV8G/sLShTFbHgeE5MZ4pJwFozOoQPzY5u+Qn3Mct+bYSfLvJNXtzlkpxoPN14AaMAAAB4QZ49RRUsK/8AqHJkRK6k3yhKwSPjkHizukkWs1gQrONNh8x+4QKSlyZR7vx/UX2PeRQEAQ8jgoIvsf7sKcS4UIXGQPlbBrIiwh0H5gde3JFGhKy1ExLfKhxb4tlBeNuGGwe55/UrK0xXtSI3QEY6tE6dBWSwAK+AAAAAcwGeXmpCfwALFcCtSmXVYcEvoBaPAYKAC1dKmleipGUF6jVGwRQ8Sj0AW4aAzD7Tj2+dLQ684qD94NX2+5L80l1/MaWYe3/oYi6+y/4XRoCyqiN+5Uu+LLqvOxskNxLD4tL/H75QTpUOPpCrX//oGCcgBbQAAADGQZpDSahBbJlMCGf//p4QAAZFj7hVmb7HSToGE9dwtJg8IuifcOoNoE2HgwduDOKq86q21SkWz6/9LxuseSZD9K75MnPhBLG7+qz9xaEWIWHtXxAggPS+rKlm9ZX3wdRsMrBBrVo1hSyqZ4bOjIt54AAwpdyS0zWxUhjV9az507Hwzzv4LvrvnF0fP1ziEf6qndv16KVEEHyb9Q3N80Zi3BSij45RzP+4SeOrWn48a+hpj+jk7Whr2tCf9hWaUuml4te/Ow8JAAAAwUGeYUUVLCv/AKhyZESupN8oSu8pSpr1J/UXhl0aN4AIv1zEIt/cxdpn3l6GV5IsMn8YQNDoh04JSoB9oVnJ2a/ajPzyo3DSmXIidERLrzkOPE97/eHzSX7SSnl8l5Yf10DnPu0iTowcpMxsZ1qNdMFmtLgcMVxYeSZAndYOcZHEejMZjgIhnX+ngUXt4qRX8Q2DVb6azLZ27N7uiu0118jPe+LkpvwsrGVGv1yIzXQ5MI/1BkLAYybr+RFzwVVmhZQAAACWAZ6AdEJ/AAsSMw20ZjvS9c1y8CzIsJ0ACANer4pV8GZAneA9pVqplv4hLa0G4zllPQm7797Stz4eBX9f4DOyVWQpZirx7hFAGadbZcgr2NhuHcXgT/FjvIPUTnyrSfBNxqlPtIQk2hGz4+BrQ9+pmE7DVdN4wJ+gu0ZjwhZjCiLNUbD0lONFKwSmsYr4SM49P0PIU4GfAAAAeAGegmpCfwALFcCtSmY2NXtUf341ACwTtAZn6Jw6cjFLEQsr2IVp2jpL1DRjP/iHcC3s4HcMoJqbFgExgMJiJjz6htnCX7tsNQmFSyAAiaHJgbT4IM9jP4KCEr7CzzqP2R8hn2MxTDgIvhca9LW0eqnSapmfZwBHwAAAAKVBmoZJqEFsmUwIZ//+nhAABk/6PoYWVMc48OxVBUD4gk8lo24W5DROGc4+fZa6Pr8JKLN05G1/Cwr07dYWq6AnzvvH0XN+W8+4nsEoAtjdDPpYeUmKCVOLpHrL1WlJrHwmspUS3nCAcEmcIn8hqzJn18ku6VvU5ZS9w2WOyAeL2cZtIBpsdNZwaCFoVxLenALNTGAGoaZ67KALId5qkSysJOorBB0AAAByQZ6kRRUsK/8AqHJkRK6k3yhK7yhzVx01oWuBSvDpPgF4+kIaqKymFogf9YgBLAUephoKRhACZtWnVvbffZ5ZjodwttLRLpoAbnqXMUnwv++KBV06lrvkeGyf3phn98ka8Z82Y4yOoeIaBFufHznMwAH/AAAAZgGexWpCfwALFcCtSmZLBDALCLZAxJuXt5Yi4Q+sMwAALO0a6Fm3qSFBJg2jtdgdFSHAho9pf2HmXSuT6TxMeqRgHnPlgbEO0pSKXHrwtKwe3gg80Gut2nR/zhalc80lY9aBaigc0QAAAUZBmslJqEFsmUwIX//+jLAABluE6fEMtwO3LsVoIm6CjETow5WO3ZqEnwpal9fP0sU/jAMbkS678nTyyqi4qTLJJ7TYOn9pH/WC+j/DTEZoPFFC5A8bXJNgE+Mvikj+Hhj0TAMUP3jugBojG0X51NYe4xgqCgpPeVNhalWe6KSoXQP10fbPl6NEL25ciXhrIhnhg+J1xgsNfjbrLbBqvWA3EkdyOJ49fe5bj1NQ65kUcbzmQPu2ETcHRsalngcYQ/4yV68QChjo8Mp6dm6MWFR5eFKm9Rx6P76NjZnWECHWAKi03JGZlbxPEWqh6kl4gU+fvqHTjHB4pj/zLjXYkcp6AsFNwIqEv79Ur3HNnzGS/8wRRxpF5r89brkEFPSkAnd22SJlPnQtnKlh+uzwpnQAlcPHvajfIfVTIWOFmMjBHh2clKcS8QAAAHlBnudFFSwr/wCocmRErqTfKEruvl7Clq1l7pFb82UEIXmLc8re4xukQmG5uLBL2uBx6IoAHB1ACJxpcUz/wKlggFCZQWS4W8/0197JOYD8p86uRFhQop0wMs5P6S6vJsGPoF05ybjLZsFbEPXBDk9dkBlf9W4weqFfAAAAdgGfCGpCfwALFcCtSmXkbSELoPZAE6Pf9Y7uWlbGzyHWi7ZHBQAd3/7neADUjtuXBnZHrBorFArzqsIuVaqwcXwuLMG24z+Jz61BO5+/tLIef5YVu9P79QGVH8zxRvK5isutbsmx8LogENdoVT43a98zOaw9BlQAAADsQZsNSahBbJlMCG///qeEAAGd4TzRT7i3gwSvKY7pQziAIe5eBJMr/Yye8RSBvMjVrGgfug00mKOPcwrNtRCk/p0MTYKVsTnOL8hqhmOz/CbWzaDO4VmJhRbIKBCN9TPLicajzAlK6KdkRS5N33ToPuPaLWD3fzreD86XJXbf4jLZa39tcwkBZU6obeyireaUYFFUp78/wzV4H3g30dtyW0y7gNcTCLLDvW8INjrINtG21K+2Hg+9Jt8cA3bpQubX0kLhB99iUzwVWzMyFVU8UzXTMIb+fhddpaTUquqVfC+NlrhOj/9kVLG9yFMAAACWQZ8rRRUsK/8AqHJkRK6k3yhK7ykdI144mrTAR6seecPKGmHEDWUWzRdM2DV870C/TqXcNCBgBdRIwPgcD/RM4hu8XJGgRt2vj/kQm7Ur0LquepQvALCQASwibwRKf0QCkEKDsXy36XpQXNQb/bIi8PFKkNnNRfr3PDmyf81ZA3YRQWHKZYFgEzTnCUE7LAMtCSQwsBqQAAAAYQGfSnRCfwALEjMNtGZHHC9ZVAZqW/RsNRWUQcEalG4UjmEUFYeuCOSKFzNM3k36NkAIyM7uC2YAHNVQVzBXrgUl7UqVzl6GjzWQMSRQ9dyf9+y2zlDJHcLPi5fQqNsAu4AAAABmAZ9MakJ/AAsVwK1KUFO3MfEWOPHLSfiB4EtuKsK7jPqnC/NIv/t4QAGijAV1reB+CexofmB7LyoSAbSYhSEANrVe8+w+O4xHSBesPF5b4RrRHuy7yM9bQNPr3nSPmL7SntsatByxAAAAj0GbUUmoQWyZTAhn//6eEAACW2hvfNhrYw3qDYKMDNw3Sf0sApOH5KQHV3DcIrcQO8tuQKV480wf3dmrHxe67lN3Eta0ahqobZXlRyZsX9y4klIL1u8nNOCgAh3jrlRn00NK4md77aCxpoWNc8cS3XKXVuTeIcpP7Gi12oFJzADMN4v6ZNTYf8+c0saizLyBAAAAbkGfb0UVLCv/AKhyZESupN8oSu6+IvuBBs+1SN4THav066blQzSlfw9yY5LEXKpiCcMccLxE66AFrf2qJxdpD8JPVFW5dgtreYuc0ZGBAOmUGuSlE8ebUNEYXioI7FiIyC0v0gWfJ0n3O7PAbgGpAAAAbAGfjnRCfwALEjMNtFBOXeH9GGWdOkdngZWkFTJRQAfgpwxn0idyRgTuT333FFRAVYrJXuZKVNFZXy7swV7IMQw24DjDS65jf8cLxExc0j0NLf8VS8ztaeMZs9kdhOQmKDhGJBqJeLHghAQQ8AAAAGkBn5BqQn8ACxXArUpQU7cx8RY48ctJ8lWI56+JZ+cZFJ6oVZbGRnAcm21dJpCd6zAETHJdGXqtiqxy8kvTNmQFFga+w0TJXUsFdcdWYEIKtCRe1Su1kvME7iCDgD7b6rxCJhZD1g2KEPAAAAFWQZuVSahBbJlMCFf//jhAAAkpQ/1SA/llwe+mR9dTLsWa3swdHs+KJALzfx+/1zl9Q3SG6IPAt0GZj2+x64S5BvucuMlR+7z5I4BQVPsuUE5OghmncjzpE7qznZ/hvBKNf37SJv61uB64Y+RzmFc2t9hUiyLq/VRKrF/a99v6n5MgceBigXeahaKS9U7v1RU4g/68PDQfrEHYo51Rgbt2fegBDVOBw0dbXQ3E51mBh5QRKRFTlv3yCswrLmLi/4xwBF7p/vC80OpGNN/7ARe2YJa09cV/B6Nvl477M5VYAEXTFFasiG/HoZmsjWxTzeXvl8tdp8446/BpPvsw84y3zJynODt5BXb8nUD2+cc3jMHw/YEUI/cpOmd6fqH4Gm9rKBNj7fUmN0VLNfmV2iIpi5DYyEQMh5WxivcFnR6fbSQNj6+y19Y7SZeqcatE8KsPK6FeAJeBAAAAxEGfs0UVLCv/AKhyZESupN8oSu6+IpnoM9ItlgNZ31ALQZeH13aCl9yfM7Xc+8ANyoGrK4rOmlNItSgw0Yjk31iAx7AnhUER71n08Vl76WCH7FEqergo6135N4sn3/1G2euj/F/KPOH4pZLGg/sJYaBrZ4e41+udy99dsLUMDidWz0Lgsdp+xaRMsaQyZGNhfsWSlWzexppBckr0xaTqF/iej9MpnogJ5P04J1HpSb6zm2CTyX9Ir9ArhKsMslX5s6A4GVAAAABpAZ/SdEJ/AAsSMw20UE5pyUWXnN92VosANQjqRojhV6lUdRqr84Si6uAHGJEd/dWsm3MsVTpTvCY1zW7GSEsnuQCnINflU6+YXmNYAfpTaL1Tk7f9buO2chiWSroMSoF7gxJGEUzHoNSAAAAAiQGf1GpCfwALFcCtSlBTvgmHrOBuSpbggaxWBom0EEz98AaOr7iNDQ9SABa6fwTEO56igR4khlAxpaiSVK3yg13ZSoxcama39tXEnGB26HZ7YmYJblPzQ6W7oJNQ81Cna5sYFV0xzI4bInTA1QDM3D4G7cli/y17m5F2BRAB8j+wxWlswnFOzWLLAAAA2UGb2UmoQWyZTAhf//6MsAACY9NtTPX6toG23djfY1nddyKtj3+pg8ZXAKmTbhuv1YdGbDFDTZLc70g2uVlxeuQJdM2+mh/R5AsokZIGEzQ+B68V3Q9X10DabMI9KXbGCkrGtE6fgaU3gNbc0R4S5LsYqGfhXLXY4GTYxOHckvDEln3aY6MJzEGtRqNGPTbuW3C/M0vA2fQG+q3/9ArPmysK96WfCWxy2lF/kL8Tch5kIzOjenbnnBJTAKdi7b8Exk43MMkkqGaCKSaIiF6avy7CH93Vl2ZANmAAAADLQZ/3RRUsK/8AqHJkRK6k3yhK7r4i655YguJ1IgxbCZm/GQAXD3xX+Dv4uAmuu+WzwzPf0uyZmy/AIaxByfe8yIEJxfvXFOmveLD18zeI373U/2FMUhzzbk6CvgP6YzWnylbBx7mukCFSiGNtCEdnUZ5MmpyDR8rLvHhM2ZLHBd8M2Eqz6rHx4PbMaqi9lBZ7zMnJhERB7EdZCHRC6uCmBba2Ooby+SDv1gQIre6/E7duNQ4mDaYO0DjKzuk8z2TJVGBCKoUviSJAVsEAAACbAZ4WdEJ/AAsSMw20UE5WNHr9wiYapKl4LxmCkoX2xz9MbX9vnw2iRSFsOTQA1m94mTj4w7lI8Agf4QA2olnT94KrfbgiVsxC8KbRkOCqZPHJHQxk3SUFFtpb0HURCixeu4wPbYVas7qhyJbxSn1lxzDw5xDkNW/EyTdEwHhRsEWHiJqbIi2hALKOHQ4ApP/w9HA7cQjAWiFoDFkAAACKAZ4YakJ/AAsVwK1KUFPiOQJGb0e7RzDwXhpRxkYN62o4bVUnfWiAGXxWtBHJ0p4cmAxPSTppXDDqoZvXDtYuqr+4PVujQEZ2Qv8konSuA3JPskY+fbtrtscr5V/2oou78gmGIvTw0tPvpuYqFViG4OXF8bvwr7wUNRpkPXoCAkNon/r6SyB9dhoQAAAA0kGaHUmoQWyZTAhf//6MsAAA6nCc8iEFg2r9zoM1MAYARcTn81iC9mDqKG/1TLjA7/ig54Tp7go9idLkcewBlLfPBJ+6mJgu9f1e2+jnTvq5zucNtXNz6wJH5ijZgaXl0obxm+NniVId1gffkLm1jr9vE1J2CAlXuU+Sda+NB5rFMPGENZwI7hhF0rAEKydMOzUwMgkUcwDB7CbHosZkBzNKCug2SbjhmQlQzt8KMNuXadc/lncYNKc1gyQzFq4ex/PGS51TnvFbK8T/G+C8PfBUwQAAAHtBnjtFFSwr/wCocmRErqTfKEruviQIQkNiVN33P96YDEj+IyvUHWtXpoH5eACOXK0sj9qaiFd5Fhxjkks9VXItHlr01J8Ibhuj4cO8VQY+72C/xhHjE+MHJSMK35ynRi/sSY0Jmlz03tKNNAHwr8+RkRxC9p/ggf4xwccAAACIAZ5adEJ/AAsSMw20UE6PtWUD7zv2qnyGT3dUjpM1wAmOWFf8GZfdvOyoEnA1iT9V4R+31IkiCmc6GX7qZHRXM0hZELQCYK7y+wGTkXkk0Ucx8eZi9fsltmg0TUpIuRwqphgM5GxmtmaM5jOHNHkuEVDgmUw/fBiAw994RvD/aHKE0X/xRBAOCQAAAJoBnlxqQn8ACxXArUpQU+I5LS6QdjZ/jhgOAAmTrQ6Ljh2ySklTCYn6I81EK+NRG57DAL0AIaq4XSe4/H7H7Pd60R3Ty2Ua8z4cgXU21b2Gz3c6N530N6rmZdENiGYPgdvwkrE7A2MImE9WNd27lPaY3gRIcT7zWUZOT61WF/QDmEy2/iB2SqejhINWxKaJakpu6lPh4tQcjDlhAAABHkGaQUmoQWyZTAhf//6MsAAA5CK9QRJe4AowU13cxToN8/zKNoXhYcePc2REfcM0x+LY0SRXxYoAhYXTjrCqExHORMmhJKYFp5uGVrs+vTQZTkCJuGdhYpeeHz2Ndvjy0zjXNSl9cF6w4O6gaZ8kGDNv3cN3NzCRo+7ZjGK2wOudavKALRhORGP8vDVY0zVtz9keTJyd4cKvFqoOiTi0+bGLtfFV0IKFqRq+NWSMFc3ijUOtXzfDhjQi6nzAz4rH5ow/OAVrMB8i3tBAQrOJfeP87ktZ59AIsVSsAhR577YmMs8pAyzJd6eELlNmqLFjNuOeJBbic0+EkbVKEiiE0zmv0ImX7wWgARiMguQ+3dStYL9LNuT3bsRomvvgfMAAAACGQZ5/RRUsK/8AqHJkRK6k3yhK7r4kCEEsZdeI/1H7uwG7K85J5c1PP8+ABOaDgejYU1JsZ8UDaoxFR2ZxO/PAwmucb/h937ylPfH8ExpobtStRkPRoXdbAx14ZgM9HlrdY/fOlvM8LTWzFMRihoAr2x8ko8i+R6/Kd9HJtnK/HKbk2QVSmLAAAAB5AZ6edEJ/AAsSMw20UE6PtabGDH1Njt0Bt8u7aKOa4fU7YnxbaPWONL+QQAXP0Q+ibIEcxtERol17zgVVEoAB9ENYquOv6BiIPriNOqdns9tzjv2B5LKmXUTi9h2OkchMSswzyeT8gA1BpMx2F/JnADZAz6ORRHsH3QAAAKgBnoBqQn8ACxXArUpQU+I5LTZCVvy0Gw7CsvKhBQAXTXnFqA5AJvnmyBArtJmFktSbwXEsb2/onbVcMrsGPnRuDotcevPn11YVQkjpBZAcESf8KSPVCKdoQTKG8ZGg11Qitg92fZb3I06GWpX30ONbMMVsph4XppDZhisa3HKgJnoee1vvpISVmSkF/NGSd5ZzxaxHYot2xEvy728aYxLtXK58XADgYsAAAADwQZqFSahBbJlMCFf//jhAAANzL6RCJEAmgxIhn03jRs2zBZn/VeCUIQUemNi2IoZF3Y9Iay8SHMtc1nKlWbhao+1V8mKXH/4EV/FAP7dKD7kAa1NlshBRRGJQ7wEKkVizj34tjWJF0l5xGvsfs5d1dGYOr1FDhR5OSBcUvmtOFnLWd8sA8yyC24fJGA5TJ0gozmaKXI3kXn8yXl6z3GI2+hVpO8lNgb6AK9VXYxEocsb9h2janI0LzY2Xob3JsrWnWPWH/5nNudvVRU5NJNLa0cj4umB3jHPaLafP2HowGs3fglsKchQhb0MDsFObgIWBAAAAg0Geo0UVLCv/AKhyZESupN8oSu6+JAhCJZFAzRnL7zPtYZwMiJKB6oFFVDT/HudfF2w+BKOb8aim6HCDw2wrSiwA3H4AwU0+VsMRX4TjqETu0ZYWOzfnX4AZyrKDLz7xrdC8cdy2YfHlduC4U9gGXVzGR+lrxu6tRHqa3g2BKU+UQMqAAAAApwGewnRCfwALEjMNtFBOj7Wm3X6PIM/ctMwdIFABxt46RIz0HfRqXFhuM3sP0w5P6x2hQwmc1aXWjsiUxXp8a/TYCG2Cahn7yke1AgBtPalJ4EO1z+15qqPu127CKMUu57KQA3YQUg6yQoIfc07l6gJGo6Xn/+HQEmWKweo4cQT0NIysG9fHZW0gBEiIUlMh7xt0qx6o9V9FT55zctebByRwnX604OmBAAAAjgGexGpCfwALFcCtSlBT4jkHc4p16mr59fpCC7ETAK+SgTQzOAEg3LR51i2/rkZqLzfDlCojgq+wkE45NN93yxCNc5gbJEsCVh2DHzvmdhzMwiNKkj+VK3mA0x+CN0nzCGiS1fyUDehKkdhqQ0IWFs8Mf8bM3gaXaEPqc9IfaAFiRKkLv6Nr983wbicgMqEAAAD8QZrJSahBbJlMCFf//jhAAAN3v/SNGRcrq2S4f+ACWhDQBGQrypFJ6MEvq3V4YfeYPBmKE9V9k8syjfHXr8jeaQtJ+MJlXMSGKZ/eNTwE/oJQlYV1k7+y/lBm3rhJMP22eDVDZ7cb17boYZy3qy42qlQvOupcAeNso0d02ZLZ4+7zEPttQ65ZnWvbAyErSBxWtoIQi4JFe9yZTcJNEtvXoh4urqSFL3neScU1I9/+5KdLEMm+lH55pPvl16L3wG5xlYCXmNVBcPvTjkuXWXjIATkqJ1OPb3B6pMGkU/eyfS9Uo/k6wHKkfQ6zSTjYXW0Vw5APNx/sMhixwAH/AAAAukGe50UVLCv/AKhyZESupN8oSu6+JAhB/pqo0YgMAG7rE18SuHIrQagnwzgBLRP9rWBCrSKIHed7qOdm2npuOxYQoF2KU4VDlNx82rdbivnQb+NtQvpKhrFi1cAQHkvsOJ6olFCrszIDbD3DN2evRg+zNQbamyLOPhdE8sLaFEcz6aTHKWL/5lkEdAnyZxrRj8ZlI+ZT5ReV6XXhkKTNmSDsfllat9PE9sQs7qwLoEd+U8+/oJ1Tj6+DgwAAAHwBnwZ0Qn8ACxIzDbRQTo+1ZQp0SmwLXIl2f4wDfJWUNhsmFY1KZltzutsvSXgYAD6vnt+9CZFBjzzK0F7BWH2KV95gLgY2g++Kq5K4lrBiu6Cp0FmdZrDA5FUDIhDjde+HHrfEvkQzCavK+8+br1qAmMSpA4V/+eWWAEHAAAAAkAGfCGpCfwALFcCtSlBT4jkHysNIZZvRRe3JkRbxegp/W58MAE47Oz8/GfN/a9b/t9JcI2rpFLbvZ5vXCazZTOAGatStna1NYYXH19QXYqSBqtPWZUhs71RE2kX8MivQLK/F3v8Ou25IaDzzAXAxtB+pAryYhJ3kwsIXqYfXUheu1rnHr3OHHmgHRTVjstIZkAAAARxBmw1JqEFsmUwIV//+OEAAAVAAdQOQM9KgIPouBoBAwxl3nCKQO1EAQOSOoudmc8HYLtbx2qlYS0lvgDJL3t2BzgA9a2crdrX2i3UYqBpqYk+LdmEhJEQHGkCpk7sdt/9mO3WW+fj3GQgUSuC+1r2rxK/GW+g57eD7H4sqftTwawAUmQZIQhEbfufSNo8WNa0OF5GUKLV0s9vxuZINSMnMgIcLyWusnhxcOieMqJ6IK6gTZ+DRtgkZHeZaPbK9pY9DJ+7/ztl6GkfFotS9vSNS+TGMzUg4wEErTSk6somNKqppUP8qp9L01aeNBCiMw6A3kcKmXMOibR1UheLkI0K8z3ek/bsQpt28dBvcb+9BlC/CgFD3u5AkRjYBZQAAAONBnytFFSwr/wCocmRErqTfKEruviQIQfxxKgkCJfEXDdD0wYsi9I2eiAC6iLx4XcuZIxXiOuj/JKEBcAW7SkPje62sLgzSL49xtpvuJxNSab+Mh0OI2zYFX5O5Ay1sabYGUy4mdh74Eua1qeJyq2pgdvnggTDAxE2Xgwrns8Au3e/ndon78tbdlwutFNWYX3gF3lsXkmBhzBng4AStSYUG8xCIFOzNZHACOp/U2GCRHS7VNjMVN7LqoyXir5DBZfBEufmXJ8W8ETRk4aL5rkvXYKUs09uJJyNT1RVcMfQLSECDgAAAAJ0Bn0p0Qn8ACxIzDbRQTo+1ZY53x9hqcFxyOejT9rMgjZS/lkkUN1cKDwgGr5b9YmGbs0HiJtbHRL6swBI2ePJKImtydAhnQsuCYAz5G5ejDOu5ZecqdIKbgmfPI7I+JGlQ7ELYMDD9V+f6KWwXjC9muSebKo7sTlEgXf3q0mH6gi0BmD72sDeiK++RsVpwMLo6hMNCFOnwWrIEoASMAAAAxwGfTGpCfwALFcCtSlBT4jkHysNI2fVF48oUsDbcESm8IARkdNnc9KpCZBgGavgm85rX+aVJ8rLviHz5RabzrQJDVp3SEkd3C3fdeeunUItb3wdh1Tbv57bXIdJ4w8JQjcvk66u1hiGurkVUSevejhKKmLjOfZb19ouRUEiwgInspdjWZRBJn1YvIJeHTUdzAw0kERKOr04gwIIPHmw9frFkQmEaXn0FJgweQqyJwb7D/w5C0J8gQdaOqqjrzXlwWn523PUFChkAAAEZQZtRSahBbJlMCFf//jhAAAFPjSSO50PrhZzbWabZx/+6xAE+JA/PPbioH6dGwhdLoVCRPzNz4/Ye4z0jKGfomjYfvUxXg0A3Ur3J/Z03mEKIM6CIEuR/EsVyCOcSjQgWz/OVUm6oQWqeseeCc21W0kyVOfSBj4D4U996K6QWs/J3vYdgeP6DhJbhgRyQle9LeJW6pW0Bsqb8JZ6+N4FD8xkNExw+QCGC0m8V3V6csQEgy+6sqpVZt8f1hNa7E5qqVB2nil2tPzx/MDvlxU52R1recy4A3QDqlx8gPe1490XDj4IkbQF8fwxS86uZysqpeJM1F1vAXTGnx/mbo54Q/PIDhn+HpPANgnh2BJYIAJZqN3hdbFETakEAAADSQZ9vRRUsK/8AqHJkRK6k3yhK7r4kCEH8cSoMrvk2tbCq8fT+uE1MaZT5uQALXIyne5NuHB27iiuLMrPImh0YG3KAAKkY7Gu2WAmFNG/gr3tkzGbRW2EgZemBmIlyjf1Vy5P//zx5adbhkFFw9ozwRx/CNCkVTC0d01KEe9I0dHytsJAJwwLP39jRIcTD4hI20jEFzz5XM0hUwNxad9c4ZeyHBXp1qm9/IyvhNKhvIYr4E2aI/GKAAABlgjJzVZ6FDmvpfz3thi1X9azAOnvP4NFtAAAArwGfjnRCfwALEjMNtFBOj7VljnfH2GpX8MMbmpAfzQHl6A//ilYLc6T8JX98gBXM37cxF0d3g7zYtxrp4wwI0FhkLnYjlDZhV0V4NZz9pvJWhEUk6p245w+ed+vo3OZwjsos9acBvui7f2nL3F4Fa44b1c4F1EDlyTljZbjP2ZmTWy8UGBQ86YDtArEHOL6w23w1RQxEJHpo8Iabwl2RLCciGqi/wLP9xm31jViAZUAAAACdAZ+QakJ/AAsVwK1KUFPiOQfKw0jd/+Uqi0lzz0KVAI3kM6bTAAJby5O6Rb27dfzh2QuWnmqmpEWRSdqPy9FKGJdCKgfruOpvmDItIG1EkFmWgVPBYBK7LnPWJgVffb600l+7emPXyLOwpe7mAxTUXDI9JZGUQ+iDRuDM+CMfZ5o6wB0lWojakhqhgsRl/8Qiv1L2J85o2MyDGegUEAAAANVBm5VJqEFsmUwIX//+jLAAAFd5lx5k0ob8ADoyLAXlI5phjt9kjnlLEL0eCofkoyaID5vJAEx0sHw/cBgHlAWVd0DMw2X5FdjB6zsvoVPjAhL21yjoOwlRey1hmsjPMwoCFTuENOZYPKkxR7njaCUTgLrBbtfMPT34/QExMxn/n3Npq2e446+Rtc6qCq8ethtgNpkVqv/tsbsKYtAzJzrblf0djS5+hCH4+QcMYeMYK0SAh7OdFpR+4SNo6gD92lljS4ecDqhrChjEbrSYuXTrbtPKxi0AAAC2QZ+zRRUsK/8AqHJkRK6k3yhK7r4kCEH8cSoNPgDjRxm3wIln0kyy8YxI2w8gBpkXCX927hfbDia1jVL8FQQlmd7QAadvjUJv5b53hY6b/uYwTHkrBQdO7IcT/eYF+8mhGSTnmIcqS8K6jE4YMP5yh74T1EHRulAQttQUkmbpoTWLA6KCIOCL8Aw65LjMeY6rc3KZ5HBR1JYh01zRN5/iLGD3kPEj/l5V8gQewicnuvAUIgkyJOAAAACiAZ/SdEJ/AAsSMw20UE6PtWWOd8eZfyVB9DsJvgFDZZRLhYHUQm86Wy+6hSndRvBJq6qaJ6i3RlSjKyH0fwSkMMy0whjLIr4ryZWChLsmX1DT1gP3Heofd5h8FxiMYn5FDZ7ucYBQlPzgnYPOwPu+Z2a3hEMCyrtqAP2yk3xidNA0PTsPGpRbhKOsJIekXDjlDYUZmQ71VkghMG/u43cfyFTAAAAAcwGf1GpCfwALFcCtSlBT4jkHysM4i8MGWXkWKiD8Bi3rCyFMnUnQUgBvHJ+hURi//WH5t/iPbExpzBYPhfAFb7ewucKZvSqDU1vwjaiPOMa6cxvAyhaz422RNKDuCQgpIX34Frwq7y4SVdlPTA/juuCgYsEAAAEBQZvZSahBbJlMCFf//jhAAAFI5PsvH7DXhMEvm3HBIAf7PYS0MoikITZllkNQwz5gHjDk8/6L7YWj/npj9D1zDkbB9zrOKkfyIQ6vJuq6ifn9Qz0xE4+kUO7/u+UfY9NTHFkpTXf5Rs97zdq+ttpowmWbkHa/ycX6BBTKoG2mvdTFDLKCRWQg61qdbS3nCxIarJbJy+ksmzvLuPqLKKN990eZzhj75fQ8n3cCFdN/wIbnnFotOESW2H7V/Wqdya+cyTnpSbeoDhFDfbsoD8v7cKyOzrJC7X3Vb6DqrIXBI1YYG4WduEMxzSm2OsS7nJV/V6DdzN0JPUl9AiluCBK/dRcAAACxQZ/3RRUsK/8AqHJkRK6k3yhK7r4kCEH8cSlsZDk8gRvjKY+B+YaF9XZ6e484LvYh4XAo0JqHsg3FjAC4/adCNUDjuuObiM+PlQN4r+ezwAqupjONRnNMebIPdPM+/9uZHYX7CshA6r4YOlyo9qDHDKPvIWaQtexYkaxUrRk5cynK6pvohpEfSqMFrClc8fa7HSofQ2SePS4em3mBmSvtqeM+CfFRBm23k9m/LaKP2sEvAAAAiAGeFnRCfwALEjMNtFBOj7VljneyCyALWdOLDfY/fVY1ZPcxTCWS9Ukor5sxeTx/lmGoCx/eyyLY3XMk+Vt2uBNPaP8Lj+pQydxZBojyi1oIQrokrkIoOlbj9Zzfd7pzcjW37+oHLVoGYwPzuDKSGfz8o7m5AwfXBH6ECree3q9ZTpKphumgI+EAAACRAZ4YakJ/AAsVwK1KUFPiOQfKwztTHwNJSPHODxuLeFY2ht3lpnTIIdDTjIcxemvMyCwkbwAj3g18gaKa7j15d1hH+tXwC6FcSMJuz8pjak48A33dOQ6lHPjjsqwdq1Avz75lpmJJjCnhDinsuYLpn51Jv4hkhUzQK/gD1+QEnJP1x2+AjFiItaC9L2xo1boQcAAAAQNBmh1JqEFsmUwIX//+jLAAAB81icst0bgAR7Wp/jFlEmByKy5bvBo6mXpQtasfdUQJDik0yq/gZHGfVMZRaDXWut9g3SJAnQpXa9fRLhXJ89/MVW3+1Ws6gCiPxxgc2klEN0z4r4Jef2zd0lfJ9HYMubMVKhUNlS5705jgH1pkdJek/Eptwi6nHc0xRwqDxCVqygGbR6iUHraMDKSfWGVQO9iVC+6LG0pXUKFivf120neGE/fPCnl36bD+KDlvyyn/PF5BmTYgFiI0JkoyCHxEeZQ6mR5aBY7TdmZlTLieoISj/vxU+poCT7kssZxqGsXPRGwHSlwhYxCJI5X4xW2jzjzBAAAAokGeO0UVLCv/AKhyZESupN8oSu6+JAhB/HEplqstYuw5DdBSjywuqmNqFkIOk2PXZqSXDEwMBAH5JLLiqCAGV1oM5HOkKsjEqMtJfM4ZoTkqKxMti9bCPinVrK8YwnJwjMZ0PwnyR4YSRM0zuUzWgvCb81K7hZ2edApXe8fDarm8D3wBscY5yrawAt8Yk++9Hg16tjpEHkoXhzPEEGM7gbh8wAAAAKEBnlp0Qn8ACxIzDbRQTo+1ZY53sPA/n8kvf2BTda8VnilBEl8OR7PyTWMb/MWQHMAEjZblFo6O4N2H/QsXZCif3Q8wVYQeQts9tUJzv5k3PnIebZHwTIwwDodMn3XR15b5kTdg8nXKk4gawmJudq7c9lQImlpHqtW2fVs04ckdOESU3QHRp+1GvS96v9f7UUUVtny/pYYh1ptbVFTNCmA0YQAAAIoBnlxqQn8ACxXArUpQU+I5B8rDO1MfbY3oJ7vO8GJc0p0IBf9QAfPQ8Z7km2azBzAFuw6Ajg5uGNZuXp+33I/NpKBeY7l5sCoMW2/XmelW+ThY4RWYShxjAA6l7qp1s72ZCSYSQMGzFovj/vDSZbkyIIRCxw9Zbm4+W1il7n07duu5ysL7vkiPDCkAAAEtQZpBSahBbJlMCF///oywAAAfNYnjLf6ww6680onNPeMB7x18tKrV+tnp0AIvUXPL0RZF5xAdzNNWmTTdxP313TxDIzxU47B60XUkbi0PXtwflGwon/SVQnQqmJ/CCDZHXDHOQxqmhuqxZUNJBQX+bwUpyDweOO7qggNbrJ9tSsPCdaHozbIr9jJX0oLU7QTdro0XgXTpKEsNekOUHynW0RWsZUbZX0HMGzQkwhjq8MPbUOMr7g4Ls8lR3z5095yX31tCrllN2jx7/cF+hWgQ15beY80EKEJvdY9EbiIamblJM8CY9wxM1DRjD8s+h8Zjt0Bv4GLOlkEsUVwSTAu8kncawNDp8gqf80qYVIFjGnr5H9Iyb1tEj/Rq4Vd5U06IEvCb8yqrL0Gq/+mbgAAAAJpBnn9FFSwr/wCocmRErqTfKEruviQIQfxxKZarLWJ1YQG3ipzpBe1x5KM/kmJ+1bpWg2VP5O0EgPxdSnFWDAuhfmST5t9363u6E1OxhrO8o0kxoqngOM6Uz7ugxNd8r+u/2M1XyvMO7brqxLZiwd0iKV71PsBNkvq+C6iJbK5nldAXA3VcgiI59t3v4SLS/LidvC8sxzICgMD/AAAAfAGennRCfwALEjMNtFBOj7Vljnew8EBvpVsyKDBc+CAAGzSmu90iu0E3qEW3r4/6Pr+x93/8G7sb0WRsD5ujbXrj1QA4s105lSU97l2nsQXGiYMFO7ytUqPRbXSg5169C8gw9eG6AFTsb12BbaAzJl5m/eZqcEB6zai9A9MAAACfAZ6AakJ/AAsVwK1KUFPiOQfKwztTHwNJOENU/xakRtN4HUAJK+FrpvDYMzAckzCuacORRUNkWxVmn8/yRZWGQIykicw91cgfNEpshlHL//Nda5fU3Z+3LLrL8nqc1cryGNZ8Wrjwr/EQRFZzokLaB9ZRCz+FjTcD2/tABUkfWxbd0IlpqJnVEh78KwhLpRfAkAQMFMwdfsolcaPD3D5gAAABMEGahUmoQWyZTAhf//6MsAAAH14TKIeFkOi1ZuIZD6hjEABcHJ3zUhO8zMW6kPCvIIHD7h57959gGRTFdRLtTeDT3CjYR7lc95MdNf+lfylS0G+P+QEzU8Uw/U0kEknFelwUaD+ZUchg6f5fICnHQYLR+ZlSOdFyr9aOJ1IY6VB9b9gGaTYjtFScshEnlCSnvELdisv7qJsXi/vv1C2Szz7776em+XltN8aInQl9n9198i0zy5IK53RPf78+SybTB2+UWY9jPP51El8lyT6ZXEuZCMb88EB3beAAqBd+5JSEEtrxyWRiiMN6SHyhI4HfdHkD+IMe6C9ixJ8Oy+UdUxyQhEjaaKWDNrD6ibHqRgDmAk7Ir7tujV0/wL3GX3+y8dUT0GKPzLwSx4fgwOKkCcEAAAC0QZ6jRRUsK/8AqHJkRK6k3yhK7r4kCEH8cSmWqy1if7srJKUIBmysdEzpPWVGRldvyFR8JwHNnZjDuVT7s8VkagH/CBDEs40JufTGY/2pmVcaVz/0KAMienYFUy8c9Xksnwgsy3LtXM3zBv6NxkZPN+e79VAqHDAM4E91xZr9yyd9U54r+EQrXai6v7jsubyqMzf4GiTTcqTA54CsZ4OKHs8qK4S8/LWXuBPFirEW16M40AyoAAAAlAGewnRCfwALEjMNtFBOj7Vljnew8D8DfzI3UAQLUcxZbyezr65+G48lFLr8vbvdMAWx9J5UnDIIVCZvQjVTDjw3/0VoV8W47EDFrtgC0N/Ng7mf6h7lc0hzpzv8kZjrrKGzhqcY+csAh5rmU1lnzf9ilVvZyVKOfk11b8qxLLh8f5X/G+88WSf5y8RICd4XZuBjgpMAAADGAZ7EakJ/AAsVwK1KUFPiOQfKwztTHb+20M79/2enHBFpajP1oPnGk0VQN2RAACdUESmWicgbfV9r6+9q8kAO9timyWWimPldvLQ4b878mgogEGvWoafZUU3Ei9X05IOXODDpIzQSprpZVoU3/bJe5Qb+Wm9BjR6k+fnpUiweFNxr8XpOSr2lLsSAPoKK/wUterRs1yXRvAzbWHV3YpZwYWhoi/MR7KjHGii05wrDamGCaAlvFJQn+A0qFSXDPn3ohHHwAMCBAAAAykGayUmoQWyZTAhX//44QAAALVFwaRzHAFaeMU09aijf0vVueOj28DOS7F5VmFVTmCt7qNfc6985d3ByvgjXkBixBqmEOrZpB0NfKpSnEPuJ4nS1G1gBLnHCV+W2oRUqLsj4Ziz+ScxDXirnn1mO03SZKd7piIgaH90AHsXjoAj+MjhLQr+n1W/zUtU1V/uwH9x/lRiEkljb6l0tHgDfJRBmOYTgMTjZMlJ4yOdbOZ6/CXotsahEU1QvgBcVrGVl3DU7ioqkfxJM7LkAAADJQZ7nRRUsK/8AqHJkRK6k3yhK7r4kCEH8cSmWqy1h7gfkiGjUKRJ6lSTRlMJwtrwCfdysXGTTI83piZ7N3PwL2WeNtZ4VLY6HyAFoslVD+0D0lJOMcWkBTsmdgmrDAeX/7kiPIKj8FFJ47CbCRaLPE4A9nt96SeCmNH9D7V4dpUS6NhsLvFjTvtxGBl4iTDelFBTqZK5gIIBByfOHjhVsJknXQQeXIRY5AH+rGcrCzdfbWoSSQ8uWdD6Pv8FvrDksoZ3lUHheXeGpAAAArwGfBnRCfwALEjMNtFBOj7Vljnew8DxjrEE/mV+6Zcm0IAZJnsaAFYrkJi9yRtIsqzRu3EsccP9BaF0pCGYkcfYk5IR10iwTbgppTHmuZi5YCB1GY9oGvclL38Mn6pDinTkI4E9r/hH+02T6BEoe7plaKbc/OJFH0Tfhr2dAnXLAyZiOW435BtnlC+aDx6rb905NGLFbnfPXzOS8miPAamGcA82R5f3K1OTtPaUQApIAAACLAZ8IakJ/AAsVwK1KUFPiOQfKwztTHazBenGjKqSQRp4e5HeRd2yF4LVHPanQAC5wXpp1I5EFvIaFKLlhh0bpBZVxSrkcJGJb0OHwqlG5HC4LU2PzklvwJJIVSUHr2FTqOmeWnDdU+yv2oooGGiDaQvcQdShGdH1YcdpEo4tcQCbZOpz8lsgfzzwz4AAAARRBmw1JqEFsmUwIV//+OEAAAC1RhXY9NgDXqGfBJFkXwhlbxVE64FLgYGcC9Wp0dtYyxerjpulvaeM6BwDlexLH7Niv7jSgtSqPPEwt3gB99kqJk57w0xXhsbzRWjPAiw/2RnDDYwYUu5XUZebD1venVr9RI37IqQ/4yBlUfIUrWLXwcVjxo4jXgFkjzBUfd47EXh//UfviKxX8Y1ldxxwaPzn7165BBmff1fCfb9CSE0OcQ3UHmeX8zL255GOjum4d/JztXORSy5Fu3rLiiGS+M2UiuREGyvPJVIcNuYD2bdUCmC/sl1dQ6nS/n/jl7waulUXyAzJjnpxcWcGWOjSOaA/tuqdImsCzzlcvBpUolIm9pIEAAACYQZ8rRRUsK/8AqHJkRK6k3yhK7r4kCEH8cSmWqy1h7ggtyOo/f8P6s6eICwpotR9PyoLMaODMumCodkNonqVOYKpJWFPTPBw1bu//AgZlRrYWwmLEAAvxN8ly+h7RRIAU0kKBWk3bTZcbbOcPyo6+hikuXBAJuUP9vhW61f7YVbik9tGkSE7lG6wntKVR/QpYcVpHhy0vTFgAAABvAZ9KdEJ/AAsSMw20UE6PtWWOd7DwPGOsvAc5XQxW8e//pfKIHpuSDwLcnuOS/UkmXJ7/qAFRO5CTPsOUIRZVg9mz6Srfh0YnvMAzCH6rBAoLayZDGV+A1KyoUS5eu040F3kP4bQi77agWsOZWKtgAAAAlAGfTGpCfwALFcCtSlBT4jkHysM7Ux2swajaCl5qgA4JznJh5kRcQrZC0ZYFP7dIDAI0v65XADO1WPt+YepxiwskwkVQz/xBH+zENp790M3QSfcbC45FdQXjoAlWVxqetNgtHTw34BeojO2W0SibLD0Qon0yMwWh0gEmcwBzlmJGbmCAQI/b+cEYLs82befsXMk1xl0AAAE3QZtQSahBbJlMCF///oywAAAMU7tsARMemaenUxK7NLj8Lv6gfyNqih1979xkG+q+v5ey+ngkfh0pozr57ewMJtc4FqcaykumogQEI2QtcAV71VEA88jWuJzAPqDlC437eWuG4IXFkH9iM748dfUYabd4I/ljBofbLXmRCQb+Xl5czrK4NPAYZj87pIiWY4zqPDxTn99twuXwVW3my0b7qC09UpQ7RbtKwh8AinV+Jt6ES7edhIWFIbP8aZeZZvRaqXH6lPEvsL0ygmzZkUw94jCC1Aeiu5OWnYThBoa/q08EqwwVXTmrozHVn7W0rUc8/VunmmXnUEiJ2kFT7i0+jt0Pwijw2BLiFouinRYeRvQdjRJRzZ+9PlcIZ7DsXca0qgrNh5PoBZZXnGzpfhqZjxI2sBezG0EAAADMQZ9uRRUsK/8AqHJkRK6k3yhK7r4kCEH8cSmWqy1h81JNTWag/gu5CH/71d73Ce4xB1pLZ5MJLQmZpaB+1Yie9fJdYMB6kD08LN6dOy3f1W4FuH+yhKKnBUMCX9erNzyNzHcYX3kxEF1zig+2ooZcGuIiTCUr4FnE5zz59X59hBWQRHCx4knq8IozJAu6Xp0zdhW3Ole1pJ7g6AKQCd4Qh4gOeLYM9q76RPvQmYZfM4Z0DgVcEWjOCLQ2AgSINqMT4ZaMmGnbVwC3Fg3pAAAAlAGfj2pCfwALFcCtSlBT4jkHysM7UxxhBIQ7gDmHTX3cqvlgCUT9dB58hSVmCRKLLZrmFdwRlQPd065NpQK+bBRELNpu1NNcAxJ5kexe2exBhOe1C9swXnpmy/ID44reNcmbynPDF94t+j329/Qc8E1xbNh6555skJ3nTe98KnS3Hk8qaOuoFKUQiyX2SftfZz+VJdwAAADkQZuUSahBbJlMCF///oywAAANk7MgAv9s7u6N3fFWnpSX5366njzGVHlptIcfXg2IanPj/QSWsne+AaZyU6C5PBBAhNQMrCmppNEMYOM3xPmT7w3yQQ2bxNwKc+bdirIvRxwgN0PIR+S+Vxpc0hmZwxCVxDPTG9yzVOVjSgT0WzWV00sDgy4kePSenZk18y6Qe8A90bbEtREBGu61/wt7lJUtLi4NT8Oc5PIcWMtaVivUXHVT+jrfwFIsebZebkmGuk4Ith2eA9JqQsZy3x8EAxD/bqAPxAYwF7izsCQpRES7FJ/gAAAA80GfskUVLCv/AKhyZESupN8oSu6+JAhB/HEplqstYQFSrVzEAOkddOZpz7AViuFJLM7ZlAIs+XF58Nbph4dRvbM7r3hURAGiko5if0CYogB3u1rHlUZmwk4nnZsHMmlzSnv2++E0eWxB8VQvr2EI4VVCWa1CmWgCH3BaL+Qb7FVWIGA7tWXfIFEhnlkLb5xjkjiA1VyQRAfcbPQeFB1vCx8UgxxXj4F6xb/yZLJhSQpf+D86Ngz/9EziZ/3zEwQv6PFEMk1DPJ+YOhs56iZJS5fm4jEZL1kQQYQtI3wp9ifgI4UlGFG2cZXkin3Hud9pnhAH3QAAAMoBn9F0Qn8ACxIzDbRQTo+1ZY53sPA5HejtmgAvwois7/7SL1C/ZUb9c17GkEsC0ZA4dxxDFIM0lUH95h9o8JZ8oxshEeqV3onhcTgymcwmJSQD0r9FDZJH8dJfVV16/iYry+y6n5aADLg5n9GhQ+K+lUOSusGUf9xHrNSs+dY3VVySlOM/zF8srUDeP2sQWkUv8NfFVUDq/UF/4EBtUfLdbaQA/KpDZf485gvQDu+2oG0QRFEyOgfWw6c0CtSssWD1quzw/sy70DpgAAAA4AGf02pCfwALFcCtSlBT4jkHysM7UxxrB4D8AOkdJ9HLrkFO7oZLwKkI/wTJmMCZYDKPH71S0/Y4YA+TiS+pbPDrVBoWxHXCoe4wcB3HKpUGNNL10mvUx++CY5Ixx8AwfbPgoGqGnPtHG2EIJxOTPp39bZ7K5Gitga4KqMJ1iR2cEWausrlTok+0ZzoBQLnewSzh3XmbuglCe+UkYuF/Zi25lZjOhSASG8v6kfasxQM+ovonLRuSFm3mXhDBAsAahhkokV0EZFtGBh0U0tVB8dAevUeE1P/xzpSnLi2jfmGVAAAA/kGb2EmoQWyZTAhv//6nhAAAAwN37Kk9f/Pvj88Q3O1shrwURGvqgAlgHTFA/4s1Wd38Kh5ArGYVPWMqVHk84VsIA/3qwKX768SutgvePs8wB2JPfhBkWeZLgUefJK5sDp/qU5Fh6NoNApcGFxTAKYhENivciUH2AxAlri9qcato5mKf1DNDhLOHDevttSWSXuZkK7rMmNmCwFdIgoL9kfomUd7M9R/Kdy3RyAKEIdnTe1rHizvphTGPfibRf03b/hdFfildIlcfkTa+8G0xnODekw6KfubtSwAEUIHMhFVaKam9hgAWjj98WWfbiEPxLIiBSocl+ggUnW2OaP0HAAAAm0Gf9kUVLCv/AKhyZESupN8oSu6+JAhB/HEplqstYQF85xA/py7ncje2lY/1ULS19WsvL3fXsBhIhYF2ABJ+gqAO6A+9Ri/uNiXVHBgvqe6GNz4FvesZaVGonbzSkTvM+hM4PWqk65MNh177xTdqtgnTipzvsK199Ozz9ez5jPf1hcI3Er3PiFPJ8lvDq/GTSCid/bWqrpUAyQg4AAAAdQGeFXRCfwALEjMNtFBOj7Vljnew8DksLfeLQMhm140lQIz8+VTNSigtHUAH9NAx1lhwI58rVnaVX8+Seo5vIxv95euZZJC3RSpk0loFdaVfzDF1tNXCCJ76slKWE6fKglz1uQWZPimDFT9PyiEOdOkL6ygi4QAAAI0BnhdqQn8ACxXArUpQU+I5B8rDO1McaG/h7zRLgq8aTfbWwo8EGJY+qeAD9HOv9j0Lk80K3PjjIlSzyIEcxT6p8VXH2qKkYIC7xZK6iiFOW5QuJvQ5rx2685xfLavkQ/pGGYTcIquYSOECtZ9GSpcan+W08dBd5QgEliQbXhyQKTvKoOsh8qycbp4ew7sAAADzQZocSahBbJlMCG///qeEAAADARVZmQZ/q5whZdyVwrQfIQwfcfX+pno2UPABXPflEfqlQIk50BZo0Qw1dPE4f2op0EuoUzmrE1lvtooDBlTWtrkGABQu4hsdlmUdQE1UUd+WxgtE4BxvJOELViVztfYyH6a8oDsUb03zWuCNYCOHuzxADlEEcmMJjp+88WALroQC1icqnf+35ikS6QF3UfVBLF4m+ZRVGPV6sz/Y3U+5muGHbhFDDhdaJUGX/hsHJMsG8wVpJmGyas8myU9rfdOJvzve2c9HYTpgs9CqyJxjhlRmX3dyh5xeFrbsMqd8geOqAAAAz0GeOkUVLCv/AKhyZESupN8oSu6+JAhB/HEplqstYP8Q8QkOJ1J3mOAGx1HFKT3LuixMq0M0AcxG3oTcNkqLBxJtJyLKfM2jwa0VbDm1cHshObWb6iDf/pbGkjvfB8lEZlAk3ol8yOfxgdZmWcMHwRJ28M+VJYKF3kz6EbobWgr708bh6qqddjS+DlULKV5XaYM8d3dNtEWFR2KH5zGbnBLEYcdcp/LIlJQ+X2ffaMwcjhUevpn+F101UPIeI+1GcEAGBS+wXOxc3nLATHAz4QAAAJMBnll0Qn8ACxIzDbRQTo+1ZY53sPA5I+o56eiWGu8eMpZBqfO30plyjdg6FUtEDAyJU//tisimCRABDSsTI5/5nDA3YaXpiSfTYX22EN0tOzX1M0yRnbf7xtJtz6VU43of8wlx69OzbG/rbBayJvsEmipV5mkY/PfB1D7J5Dp3wrmXnT96ocQReGs01zCz4Ahg1YAAAACkAZ5bakJ/AAsVwK1KUFPiOQfKwztTHGhv5GJ2wOW8CpUjAhQG7DI9KnvC0wGPX5ydRX5sAE1RrhRJKhF2zFI3HkU0t4ls8LTgXs5ScvyjhhjZJB/xXBYo/5x69V5EPIoULip6GCe3zRRhAEaWsUYLtgBh3FeZQo47h+OfHUGF46q7qYWU0lzWs3cTAvHIShOtiByeBM0C+3QxkRt21kfLafsxMGEAAAFYQZpASahBbJlMCG///qeEAAADARVLpuFMWT4Dqru0hsUcQSYrpAaLDZv6Jl4st27+FcMZba8Pte3mgaPhzJjhwAhRwgidetVUT05y5rdkjin/2VrSSTU2hSgVB0DZIRe0/ERBRtuBvQGPdKERxhMceIMesPrsN9C9l1t6nJyKac6jRlV0zs8tRbdu17UreynVNLB6SrC2Gl6wBm/umsMNEbzjwbqVls2c5hRYpE7Z474l9XsJdW+ris5GPCk9ymZcVrYxl3BMaR/j5Qjz3mlXeZe1acuUxtfzn850XQHogq4MA3anBEvNHbeNNEiZUs3rtfOV77Q1VCtiXI1Sj8xwSv0QTUYWPcp8v+3e5h7Z55uY0lB5C2XyqY8kJ9eplYancSDNb5qQytD5iUNZol7ogZlzcnT/gV57Q1QwibsWbELzrVgUz6U6moCkETYOI1A2ZmaGNBQCdm8AAAC6QZ5+RRUsK/8AqHJkRK6k3yhK7r4kCEH8cSmWqy1g/xDxCRqYYoNc/rxuKGSVUBq/obi0tAw7b296Zze3qDkyv/3LHAj+YFMJdAso+qMHNxccFoNL530JdMOqMCXP6KtujlBtQAKnPIDmzXufH0xJsp6NECy0W1b6z+3BsDA7dJrfe7Hahcf/f7iCZp43ZyHNEAVvip0OkH+n8H/n31zhBwfyHPO+cExH6i9MJEZOIa+OsexhCcQnAMeAAAAAhAGenXRCfwALEjMNtFBOj7Vljnew8Dkj6kFsunreQplZ1ZZQnX3dDGFn1xgAlWLyvyOb2yzzTbmibrCiPa5LEeujre762qmsY5kFXvu+jP2q7D0DsvNKGNxeNuRdl+ii6aAUk+C2nvoZ2E5Stod19w8Woqr1yxOGkoCxUgx7QGzg3fpWwAAAAHMBnp9qQn8ACxXArUpQU+I5B8rDO1McaG/bBVeo9T3nm94Z7dttn36yl4ACWIF9BuIgtZ7HiHCjsFhbOUceQNyw66WwxM1mBFcePFzLk1k150juqVS6IVHNrLxBtiQHLamXzFM+/Z98btTCYlJc8f39DXKDAAABJUGahEmoQWyZTAhv//6nhAAAAwEO6b2jm8oegyqs+85vJsXWP+pmhBsLAALphuXUtWUmVn395kahx1AGNBnMTYPWxg7tElm4EuB1tP2gNhWlSVfJgTDMevu/Tm+cBIuxHSu3DaSJafoY5NuA/8HQJQnhjIhceMd2zCva1S0AqjjZmgOHA1BqXLXOzOKvZDxp/ywBobk3af7Go6xhEtNRL3coUzjTQ8lpxCe+8y++oxdHw62UxtdCkGqziQL7+mP7nfuvVyZj5aIGx+OgnV8fP5c4Bgg91RkQmQuNEl4kTgMZfNIi9jY0dcaCc8ToCLj1YjdLexGaWm7Bga3mRshSYKqfBWCdlDBcFQ1SxR7K922tHm9ydrP1hrPkblRZsWKjqr0U5iDwAAAA30GeokUVLCv/AKhyZESupN8oSu6+JAhB/HEplqstYP8Q8QjafooSnO3I0Gk596+pOyOC6ZAESAADKWSfEINOem8vMHuC9uk9CyJULuNDH2iFp82wMWf3Li9Q9AUAmUhQjCojtKO48KA1DOYBFTe5Nis9EX+hRdb2hlquWL5BVVjYPmgkWusDaSoG60ivSsNe1ka7xg5NZpEdZrEngLTmTPYqmajMcP3DqDjt5vHty7Qe1NL3cBuMaav/8nQBf0unAe+k7qPAkN3hOnjKD6WGnt8b54o7hXUGRi6mBpWYwIEAAACGAZ7BdEJ/AAsSMw20UE6PtWWOd7DwOSPqFFt78sqSD9FwU+abJ2ffQUEwAB+g7akIh3gUxW6XASsiC7owXjYQE21OsUQXAeRksH99XJ7hFim2kKesd8+HRCq7awdgHT2Z94642PLUV/A77H9B+KzJN1aqleRhD12nWtoJtRGD3gFDOVR2IwIAAACIAZ7DakJ/AAsVwK1KUFPiOQfKwztTHGhvwT2T45aPhJCQqew9nGxtxQF+thVoAAJ1nWOGX+2LdsXJcCfN+onfI5bvPHMv9JlmQrJuxxUqCZ2mPPA6r0mTw6x3a33UR4nn8h8qNKitnZuw4doRv84UCOZxGu/fUwwYYNEJyP01LCxC9xMA4rwZUQAAARJBmshJqEFsmUwIb//+p4QAAAMAZtzx9X2QA3RD9ugy9TKa4llscac8694fih6EvHLQZyCLHPNShdo3SmR4eqbAHazUeiZ6937Q0l2IFRgZWeQlTsGqIvd7h9UnfhDRWibK2FieZJszuZS4wDmASceF15/wXDsECWXQYj/olq0abeQ073sH+IjERn0QCs/0G1wfOGqNyAZ9d1B8eLQ3stH+vbD7sEKrC+SnnuIUqDhJhGZeaHQ8Bam91IFP9meljOlA4WUr5DR28XInC8EAqjUXcBhNZ0k+OiPG0N3gTOR1aPWRIe5LSQJtZu/IDagtRqbGJYXyA6sl+gxtCcJg7cgewaiwkdyEHwPwi7Xmubd2rotpAAAAlUGe5kUVLCv/AKhyZESupN8oSu6+JAhB/HEplqstYP8Q8QhICN4g3aD9nXOcIzGxUIiXUGtSqxrsKaT7IAJnsEG4yjR1KlATASt9bxDTA8F0lfIn9eLNkwAIQnUkXuZI9M7lattgbWcXD+kUhJgqLzK3f+LjxiydnIuCsEDcPlBY8WWPv2MV2cHF0+TcLJI0piuQoDUhAAAAeQGfBXRCfwALEjMNtFBOj7Vljnew8Dkj6ckrAuL0DJACV0ba89K3+PC1XMuCBTRLnz3EpTq6RID6Vczed/ktZj0gFEbwrGYf2ylxQRbnCnNufdS97k+tXxuH5WHeJLSY1Af8bMb6UThr7v/k1FEJC6veLQhx+OdrAl8AAACGAZ8HakJ/AAsVwK1KUFPiOQfKwztTHGhvwT13pKrYEpMS4BuomJDcAH0jipiAWSXxVbHhUBIFUkHadF84FFTuA8B787qAHOhjmCysWqXJyyaQ4H6hcjxdNKVoJ5oGphHHvhbu/0eQVFPDuVpOa5G9RoEVOBrfK3WJSdAiLI4RCUGn4bgA44AAAAFNQZsMSahBbJlMCG///qeEAAADAGbsCWAF9kAcvUHqeZeGVQuuUhZu7lTPVpgX0EGcI2iUc19KqwP5N4jdZuAycbYM7t+QbKGRNeDF9Rxp1qetYpCjD0M7YhkuTotlSuTC9CPuZYp8HhsADnXnvf5bwLD32Lv7uf9LmaViAyvM0ccb0Ye1sgMyo+AQfPR3P1vDrQ2hrUS6r+8/7uZ8LpJe6woZDbElBc77ZOXP5g7rO7VQdb2U7ANs4Jc5CQ/i0xP+jCE1CGkZwsHXRHdE2MjG1oarCKBzOQDvAe+mS1x5AZx0qleryflZNUpWAO2EigHyZtLq1V3FO4WUIxa/QNJImqbU6aqkEs3q96eVzpjMPfeXAXz1DpxjR6Y3S+EjwcgqRJb3ZXC+Orm6/oKIHxyQ/NnPvDbRj3r4dvzGZZbeFhCL1qkaOgHLphsFm3zcAAAAokGfKkUVLCv/AKhyZESupN8oSu6+JAhB/HEplqstYP8Q8QhICKGcg6xksq9/rufqeCsWkccxQFH2yez0Jyxl+qfd2GxdHlgBNM5zARZR/yJ8jz17427wn6EZZzxIym7Yx/okRhRRdRZ2/utwOvyBzbboDrPBWqnOFInOJI71nzKyU13NyMIfhsUZUYUqKBQ3LZmCLqUbtG2x+Opk4wHjZOAi4QAAAGgBn0l0Qn8ACxIzDbRQTo+1ZY53sPA5I+nJKUOiZW4Od3oCquTUrIs16l9TZWb1wAQmYtDMfnH9Q8QCizwJdOiP4V8cN3K9Ey7sU1J7u8KiRes/PzOpD6WF+YfC32wALs1m/cLd6YATsAAAAH4Bn0tqQn8ACxXArUpQU+I5B8rDO1McaG/BPXekqXkMqVhd8oMBqk3W3EOenGF6ssTu+rYANoMB5Xh/9bVLNqxfd9Av2D4lwb7qlwEIP7Gq7L6rLkiW/SG5YoWGR16V/GYhNLTTNog9SPxSouvCYtuy8QRsHcZbxbQOzeVsARMAAAExQZtQSahBbJlMCG///qeEAAADAGd9k33QHm5EW5sko+bhsJr1AmXvzQCiwcDcMVpjwrlmk+oZcqnASem/J7DPGv/aItI+C/+MI/oQX6zsqTQCWEP4Kw0qBk3w7kDNpjEmb7cheKQYEfOPEfRqBL2YgyzuUGDAFITPsQdJe1t36Z0FqmXrgn3B/5IDq5Xt0DXd4R9p4qFWpgqp+x1qGPGvqaRdTYAeWKFrOwxvmHSSbQEKc6tWh+J8DO1JCxp3h70WgmSOdkrERRATREjX8jQ9723WDXTHOG8vSwDmgpYLm/JB7q2kZOSFcNBwibHwzMrjN5A4qOtEz8Ie1IWSloYteBgIMohMPgP/TcfkSLDauS7CGJ+MrfSPAdgHih7uwdQo2cdZYK8TBrWEoHiI26fstoEAAAC2QZ9uRRUsK/8AqHJkRK6k3yhK7r4kCEH8cSmWqy1g/xDxCEgIncSHvchAzxyzXpFWQCtucBziwoHNN7U3AC0ebnjXrzib643VRc+5vsxU2IxA21tjwqOmJVKVPSxfoo3wZWkjCMgCv+gkrUQxw92AxRXJDL88vWnMM1ZiIkXq/V8eJKA02PCZgoPeN6WAmmGPUXBWWju3YISa40yp2DMo2PV0/CH8cUHOiCg1BQ/1fsZ62SgBMwsAAAB3AZ+NdEJ/AAsSMw20UE6PtWWOd7DwOSPpySmWygg+pyBdtvsiLI0wKqfhHz221rvXrDzKWidD2gN5VTWj2nlVDCtIldbkbeDU6THQvoJHKFEuMkbHHv6nLsoyylbMy0ZiCChlTHULAcAl0+DH7b0zxi2Bp9DOGYsAAAB0AZ+PakJ/AAsVwK1KUFPiOQfKwztTHGhvwT0EzRnnFjehoqGKYhjunUSHFt3aEdfABDt33wrWS52g4GqjMnQKFYOgVsX1mnNGlqny69T/U5oXZ+5Q07JUcOwSFWiUI9+tXVbGHXStD8QLW8vcM9VrMtMbGFAAAAEaQZuUSahBbJlMCG///qeEAAADAGT4TzJYhkfHkrFWImK4tzZ0o/REAG/6fR7e50PdCjVtYMQyxUOMVrtgX0wW1GRlNNL+C6OLKm/gGoxIEYhPuNo6WE4Rgm/xkSndbYS7gE4HxN//WceTN1c1GHOwCbM9g4Nd9hwc2vmo5ounZZqyfD8VS/QVqLVpMr/TP3VrGrg/jD/DPszbUpRRNLJlovSm+qMFMImeIAqYy+3g7Qc/IdUf8W9IkvCciMlzOGmeu0QUw8FOUZPPRIjgMWKL5Qv06svjCq5uRrsZ2GWH1qJmTJDcNyqi6r8mYSwXBfpRksYebM66CQqQQLi6fHaz4qFnhJs/l6Yn8xRzvkjXa6K6fm9f+OoIrfknAAAAokGfskUVLCv/AKhyZESupN8oSu6+JAhB/HEplqstYP8Q8QhICFxzixF+VNYBotAO4AgdaV/90Zpefih7SNfsSEEBEeCC3XXEgDPXU2AWR8dA18utPuG8WfOAKkwsLj2zkIvbl0+1gM9EzT2cjbM8hDBHEojvtH6b33M7uzTU1umXbpRe4HXB+CZkXN5IIm05ky8clFQjgSs/5TSOIzTbNhcFbQAAAGkBn9F0Qn8ACxIzDbRQTo+1ZY53sPA5I+nJJ2CPnVVCq4Bk6zyjS6Gs0TdCIuKNQG0lKg2S6aK+wPwRACPD1heNF+XhvWe6E+lG5yOZO2ktwsb4adOD8zWpMIUXaxE51QoGDgOAEOd4i4AAAAB7AZ/TakJ/AAsVwK1KUFPiOQfKwztTHGhvwTz0cb2dd/44PuP5RD4b9TpzjEE5OgAh/l3j0yW1HvP220GYHHh+vFXJK5oVMJO3aYeWky8X9gJX8nGiVMKi1l+VKrvh2o4FniIU/47RLEKgIsRPb+PWur3UcXnjo84OOGLAAAABbEGb2EmoQWyZTAhv//6nhAAAAwAlyZvtoymAEenBegv1k3stzCvJPrTX7llZK8zcp3fRz2tjPhAy9vRnB9HJ9ZQlrkbsHAM8VZEr7fP6FY+deCIg3bVdaFaoJh0OBQBlHIre4jV//AvtQZSdMrp1jAcAhSFuwwpP+pjMKHovbh3StNAR/D3ZgBIafiv5JzwcKhZzdZOGCIBgTiK9ESFTxLD4JAZRtOP+S3PE39BkA79k/Th2KDY6tQMbu8yREaboS1f6TtuF8KGjqtZX/lZx9LH3FeWV+f1Hzjr3iHXaGIIBusfkXg9f//V7q4UkQu1CCiB+hP1OKP5AKpx03i754XZKNQUQIaVeZ3ejIfwTZ9uD5r8MpeMEdMceM+kfdpLKKTW5kcfdWrajY6WOdjs9vIUwne8LoudRMD2CRaF30sjZLoMD7/vN3nC+gUVjomePJIXZiBlAPblC0/hWi8VEdb+QCXvMhDyj94HKzrkAAADZQZ/2RRUsK/8AqHJkRK6k3yhK7r4kCEH8cSmWqy1g/xDxCEgBpsxkQ5DHKvwEhwv42F/xACR+r2u4zqCZ0KuqaQ9q2PTQPAlA3+ivYSRMqy2HUvZTkbdC96j3rFfi5YUufrO6QDt+5ABvS24pgSzHzRLR4Q1nk0YVmCQBl7erkDkn8IgG0YVLVQd/nyLvxNTxmVPNtwx15gxITXo5YyqLd8ckBR1t6V9gsu05fJG15byCw6fDCA0e75SaTG+zulPPc2Wjsrw4tbuMKfg+t+WOCBtkcGC5sCALKAAAAJsBnhV0Qn8ACxIzDbRQTo+1ZY53sPA5I+nJCxHSpMiodBVlrA7iPeizZWog/eUgAIf5d50gtRn/8LTe1Ns1bxWA4Ph0h52SFdpaOdM8kvQsg4QfpNQ58TPfQ+8vFDmr9QL9LTeTfCrUbB11CqTpsBEYqEW3DQ4ueqCj4P4kERwDRirq2nYBgGExprZkMmW5GT4f8u+TVzOdr+RJwQAAAI8BnhdqQn8ACxXArUpQU+I5B8rDO1McaG/BNF8J44vD3W+cMdF2T1n5zDwAbQbT0xLxsoyaNcCpcYM2ITb8nussZryes8Iatx3ch4EjqfJdDS2khW2ymMva9zYDfdQQnlYUZjoZSotLl9r7/Edyu2UvHyQD8IDe0ZxptXn5tfMhu/GfceMBySnhJ6Ta8ABSQQAAAVZBmhtJqEFsmUwIb//+p4QAAAMAJbSCRygiAHM9aeyx9vDI9Vh7BtKgZqNd/f7fYZDaH3dvon+qZiunfMbc/whp2ZxIoMDi918+r4tvyFE1OdkaF+CCXGKtYHD/eSjS/1QygvMfRE9NhDoGMvzjgqAeShqDaZoPx2W8d5aR8ww8veAn7/eyE6P87UnbBkthf26S2Q2yFGuDeSRDhc7R68IOn92dNvPBB/bU7ezdhm4drVp2UYmkPXAKCrI4+L3eCoRbSqiync8IKSzu2PdsNBkj75Xgk8jD6SRw7m190KcqHcPXP51b+MOIF7Wuj0wdjJGuEViyp9ZE6/5ROW1MQy2XCDvwK+Yjyo8L13W8PcX0Jh4Km+5t7t2onWmFbTVHWHjZkCZ82nitF0jUhWElSAMJQRH/wAPD/XqOKwjcqQIAqPXqtfdyRZiwUnKXWkFul8O3bbhd1agAAACCQZ45RRUsK/8AqHJkRK6k3yhK7r4kCEH8cSmWqy1g/xDxCEgBpWGGYAEIkp/CT7Fi7Um/prcKh+EwkNuOCXJ8SzR29WhSvPapz2CinbGCtPitznQv1ePp/esjxEMjcYuY/M15afvH20FG7AnGT4oOIe6B4hrR9dRwHIO6aNBE5u0I+QAAAJIBnlpqQn8ACxXArUpQU+I5B8rDO1McaG/BLKOGgI33T4A2ZdVMuQkiTySwA3P9ceqmMFY2EzsC6jElAldagGiJTlyRyJLr9NeNVvQxzeId7w5106FSOBW5lTY0r3rlY3YnN0o3qfrSs7PAH7P2V2EotkxgBV6PHoe0nJw0B9a0PJOrjgro3+KtBSKPjwpD/yAS8AAAASFBml9JqEFsmUwIb//+p4QAAAMAJaXVEAOaCD17g5BmJ1unuY0iOFl16qwn/aSRkQWPUCBddOTJu7YVY3RPXICnUFmPwNkg82Oxv4FTcHBqAkeEY6y0iXqPpG4sZZjT2J5Co49voqmuG03ZLvWyMTSyZac/kAL+ABW3euI8emi8NI9u9DvcmVYzMUOM9qrWeihDMq8SHWD4skMVuaniBOEmABEyKnOxyP2e/zptPhjqx7x0SBQIeqVpqrOTq8ErweLuavc1pomILnVLlxVCF5mzwupVkrX2SQ3Xocnpba7ZLmCXTvkVUSYcBcFS5WeF7/zjsuDxQHBiIKpf3s7xuLt8I2smUSp9DSpho7TIiSAyvN9cr52CohBJ3pC2/tdVCzuBAAAApEGefUUVLCv/AKhyZESupN8oSu6+JAhB/HEplqstYP8Q8QhIAaN0vbHldIAAlKH06sXDJNDrr6qWjSnet6KKmPSRh/TScJhtNEI48yxkhp+z9sTyrWp8EInL9wwDzXcKvnqHyyadxVYrf3lNA+1EFvQep0nC28Sk0xOjrYo9fJubjVZAr5/91f0bFfnj4XzJe3PzNAvtYa/c0kpa6Sz4PqWPuAf5AAAAfQGenHRCfwALEjMNtFBOj7Vljnew8Dkj6ckRikLp+Q32A0nxGMcsJRmRkJa27xvZMJfRf7kvyaABC8CGAG+cqZb0D3o/5hSNPmOoaODpLf74jHNjDbczJzbAlUfoiZNb9/dlApbK8ssDxB2ui8ZYm88B3tm+K7nIssx7AKuAAAAAjAGenmpCfwALFcCtSlBT4jkHysM7Uxxob8E3KOWsRtzjjWYq5PCjEKUKfyeABceAbocbWd8my2ztjwkG+/Qt51v4ys9YoFFDk9C70daHmSMv5MEDQ5FYvek3fyl/ri/8XSkVLHQ/HMfOxF8Q0yR0IW4lzWYCrxZy0AVx9hSO9r2yuWbSVARoF4Q0gFFAAAABJEGag0moQWyZTAhv//6nhAAAAwAko9tMlyEAOiftVf3BrSBEhEH1PVMtMQOLL43a7RqZT1Fd1oGmcyc4MeJsK09xo7Vye8AQh+0ixpDLN+hePVvq5ooSpqXqncGfywjSVxJUyzL+Blz38aLk0CjCgnpr1sV6aejK53Njf4u2up3/i8qV/QVM07qBkgJZpHvNM50wYapoaRylCnK8UNl5XS7dwqZ6NRRB3U+8G4HnS0mn9ME5lZS8hecW7bgK6mfPpLc2qtJvqhAfq3/mMv7kbe6vvZPLB6nkXVlIwgvWB9fWwLu8uJobHH/EImop0bzAEY98wtOtbPYv6dwEWrSSEuIVFy+6Jv3EC7/lgVImw/KC3TC0aguZzH3zVihSoaJWS9KhdysAAADOQZ6hRRUsK/8AqHJkRK6k3yhK7r4kCEH8cSmWqy1g/xDxCEgBnfQOAD76XG9GrBUSl3z1mJhKKVcfihsJSOV2fl2UjgwYED5YqaBBENjAidEC5rbkZXgyZvNk0ifKeg37JVLaacLaYVLqm6chJFKyo6aXZ9+M/FVKkJIK3hMCrhlLvdWdGf2w4aJb2PfHfWaR31tMLUVJw9KXTfJDwB3hBU9lm7rp3QSpQnQTE+h5NvTyXo1tNPTawCD4GN+pq3NXcV+CKuORXfObB/J6AtoAAACKAZ7AdEJ/AAsSMw20UE6PtWWOd7DwOSPpyPHdtcuu+PEIXJu4UR9gAWipi0iUi+7QycrucBG2cFxNfHgBF3XivdtfdVyi12FW5sBVES593+KgoYTudzav0u/V/JbO9iX3NLoyMmT1gCDdT17W/elTYEO9PoQg8Qx0WQArRBs5Rp/GO6ibfwmm9Yl5AAAAfQGewmpCfwALFcCtSlBT4jkHysM7Uxxob8EtLYPTVx3mwmj6IgBYfKqtQJNzdva2CphNava4fCh2LkgipKu5XWmAghjyuqMv/2N/Hc+juh4iODpYMD9aiarXa63Kr2W4eA1svIXZJn5IbjduYnWOawOrudTcil7KMaBssjZgAAABQkGax0moQWyZTAhv//6nhAAAAwAkpgvwCEbIYbtvGvfBhC9h4nFkJ+kvBD+8gTGNBO/as/W8iufDmXhwM6F/+B5fnkyrjXhpOgO7m3DvkGZH/CR2cTxT7/9Z8gYEJVrlahLyYyvmXE2aoU32xHvCboEAwc8fDbwWGv7xNX3nAscORTUR0/+u6KSqJLC+CzCMwKf1VYhzVgEBhNwMwK4PtcJGY02vMudaXFW0x3mj1ev+A+7z087Oy42mVGrmMNEUfBhb2djghX38CKpkLZ0F8YijZ7yi2jr9kRPliwgrmYybPNJipPhDQEN3vBcseM/paXY7JqIj4tYrkzlFN0ikR//Ev/bM9F5y+dZeAv6oTaa0fUhrBAP46Epdio0ha7RPcsVq13tT0uVIAYkNU5xkn+nYP/1X2/vb4zAtj5QKnc0ApuEAAACMQZ7lRRUsK/8AqHJkRK6k3yhK7r4kCEH8cSmWqy1g/xDxCEgBmXtZ2y7WXoqy5X87tbJ/9JACN8PILflhGtX2k8GJhtcn8TDNFGfq3kcsSufbxWHtMpton2IiHERAAOi0hK2CKT2FRPRhcfKzxeNRVUgfYPuRSeb1wrwnO5wg98SYW9OXaLXocUOwAfMAAACMAZ8EdEJ/AAsSMw20UE6PtWWOd7DwOSPpyO/gN6YTAd/umwBonozuaL2jtbIAzOWzC1v0zuf8dse+VOVhFm79HubbcmAS1JMLaEdR9UbnGlNtHwrJqAVSQ4NKoyoyEbcs3g3RA2WXrGMUajibGYR/2By4T4tQ65mjyktsrYlKmrC5AAj3p5PknVPMdMEAAACXAZ8GakJ/AAsVwK1KUFPiOQfKwztTHGhvwSypUfQDEdCEPuEJypYAEZHTFrIjU5SR4i45hCwcKXGYmWDcG9vUX1KltzfbL7TErEYLL6nL32MicR3/V3QClANTLImBQpuUOZrzadOcQHw/HpLXfNbOKa6MSHYZr+kzzytbRfbvVp43MUkFVPZiwWsBOsHBH3Yhd0a9ENbikwAAANtBmwtJqEFsmUwIb//+p4QAAAMAI9/WSK71JCv6ydrczra+1PFcGhHRv/ekAN7uVsNnbZpbz/FnOeFq4ovV6zT/ehEB9hsArKzEAuzw6vjz+KvAIBcF0lwbqsZS/LLMEmoYB/bFh0xgjX+07niOYzvH6D1owD6SXV8usAmmWBYsKsADrpEaSHRkP14QePOV5GgFUMdlyHtKVir8unWqgJAxopflJVRLLMB4BTMjg3X6NfHp7PMg2zXbsGYzSpj8/SlyfHLsJKUjuw2405JTlCL5ekFpnyPi8EaZFFkAAACtQZ8pRRUsK/8AqHJkRK6k3yhK7r4kCEH8cSmWqy1g/xDxCEgBj6+OT507mxBDUoZz7wQn5qGbIY9pOQXc5pKczo+VsU7/OxrI4P8CKsJ11p8TK1mEhu5/BDrJynR8vUCF91t851PfwzuoUGJenB09Pijrji0CJPskl2S8yMhzh4aMevHxExj772d0jvyRuqe/7eRgJI2Bh6p7ORC7DxsDh8JgvJvhdNYp1zSAGLAAAACZAZ9IdEJ/AAsSMw20UE6PtWWOd7DwOSPpyO/gTn/B3YFiRkUABBJ7Z52rvq8Ac6ZjnfubbVqHtix5IPkQW0OIn/f2kbXZPCuMl+U7s53icBeG/3ISfmkNHJXV4ZNdWIi+mMqocYepLCMugUsmmt+Fq5jBKrbk7s+4OOIJCN56E/5B0c9eftx7m5/ZO2X8TClb2n7jQsgWKoL3AAAAjwGfSmpCfwALFcCtSlBT4jkHysM7Uxxob8EspsWq/HAUMjbxMcwOTqijoChfTMJA+lzvh25iTcWORKIobDsHJwHCyZ6sHDNyPfnGK76j7HMFSmOEqucww9eMRoNov++VoJFyqmt6J6ltEGYa/FAbi/T28DV//mi87qNyoTT7OjEgfayFweq763cdxBxhtkScAAABBUGbT0moQWyZTAhv//6nhAAAAwAOj7J0yZEQBw+CiTpD3+5bVpaxbTs3oR4nIN+0mx0SCKAeWLVHp6ZLcYmZSksX/4lpLrjv1j6MI282vImyiUBacvIPPVjqNw4bF26tVI/w7xdSdfQpiIIE5YP/iQFhr7MtbgkWY0C+ueGA5ehJDG6c/UxQBYLQc1+gtl2BLuEnKk1zYueFrlSYpH+hbNf8whXWpky/oXemh94aWvN+6xRhUhMT/40m9VXYJJ3GTYrQEzQjSph759aVqcpdPVbwhSTCQZrNirBj+HpmGZ3WJv/56OfIumzRzljpEsuWhqySd5lNHIcuKYVngdSaQenwb3aM+AAAAJtBn21FFSwr/wCocmRErqTfKEruviQIQfxxKZarLWD/EPEISAGPGXl+nw6tDcGtqwEi8VKhXdOKcZZumuQ1QAJ23rT0/2NTDOn5p029P6z/kcgytM1oYiK5tbIIgZd3Ef4erPlrq9Gy5RKRiMowk5BaUMNY3JiT8eA2hmbXpN+KhhsGwoG/JKgo3cHfi36esCh60zYz5ubtwTA/IQAAAG8Bn4x0Qn8ACxIzDbRQTo+1ZY53sPA5I+nI78pu1iGcHa6OYAE6xxXimG0PkYqHoQr6sDS8LdwJTFUmEdMbryCnHVMjlnTFxBmXoZfm/ScgkTDs3o7XknmRLM91PsCiVv0WHRmx1HNG9+USBCIgIeEAAACEAZ+OakJ/AAsVwK1KUFPiOQfKwztTHGhvwSndm9d3+BOwIEnodVH0L/N5hazPHEklPOFUABwLq3uMb0h2G5i5YI266MB/8anJjx7KgKpTcTLKHmQQyA/MCZx7i3+i9TETzdv2EHF/udLt53Uk+99zQ9QzCevZb09zauia5jl121/A6gW1AAAA8EGbk0moQWyZTAhv//6nhAAAAwAN2KMOR4Ace5BN6HJWCsiffeU8i/HLHleY65RneW8ULT0T1IqAnHERpKo2d3wVCXuVb7ihahHkt3QjwDOIXizGl4uktAk+AxCYWq8Ur55vzx3heJK7ciJkEiEKDA724xxe27Ji9I+aWtjpzxc061k9xa1OtJDlHdHrLM6fDUasCZ0tnggUy50epaP8hUMQqaWZyKuYSaLSa2YA4cHiF3E3AV5u1wdUtfe6Ctfogaxx5RZZw89K5dGgYSf29cLVOW+omvcbfj8YAFSzrF8uQDvheg5k1DP8KIUprxEQIAAAAJRBn7FFFSwr/wCocmRErqTfKEruviQIQfxxKZarLWD/EPEISAGFyiuZvIi7JcAAujmuR8tjYZnX5SKn9d/LGPL0fj705pCtRGPA1Db35A8FU9cK6TbQXYx7JabRcIN+I7YzTBAhGY50sy1m4pqY/wUV4tp5c3XboBQh6/QBvhI7rbiNTqt23npOmSN/DgOfwU7xCgZcAAAAcgGf0HRCfwALEjMNtFBOj7Vljnew8Dkj6cjv4N1j5ixugCbIACdvY8eNXys+e9BQGMYCWynBZEwgETCjo7ONBUxSifrgDO9ggEqcMMRdqwbAzpw+OsJjye7bbxQD8UQHyNBqLxjc0HqvRgaa+b8vTwCCPwAAAGUBn9JqQn8ACxXArUpQU+I5B8rDO1McaG/BKd2YNM0lgCJP5OXu+E+g79X+OjBwr/UuLgeOVkv3bkzW9voCAZbrOsXE8j4dWjDYhOs8Ra/2/BDwZ/wJhYXna0qE2HGTH7cK6hg44AAAAQZBm9dJqEFsmUwIb//+p4QAAAMAIqoc5AFb6hglBv/wlvAt+Op/Kv5xFBIYJB+TRNaRucVGoFmEdL8YSRH5gqb+hSyVN0IC+/bl0onZ+t1g2uvsbwc9tmHSYBotXI0sVMTTQL+ibUuuRGKo74b7t3uMTFX5ukzUcJHt7TLNfWsli+NsZ2wXEXeAsSAn4RiVlcXORQcUcrnGv3jhCrtxzW8FkL/3CKfQL4cQf4t/k/aJQLjMrAdaE7dkb/zjMHMMjkf/BKjPKhWwYtTCfu3Ge0jC/aDISH7ToKbQABMdYOuVamfxmzp/7IBdmKzRtUVMG35cgwJn6rKE/1DVxaWvWeFyfLDcHQrAAAAAgEGf9UUVLCv/AKhyZESupN8oSu6+JAhB/HEplqstYP8Q8QhIAY2TQ3HP7oXe+CRRW6xvACaZe/3c+eeG12sLGG8fjW/vCfQu4X0hqNiOC15ZBIjG9/kWcuzp2ua8nUIgR49wktdV6qjreKeVkGIc65gh5BqMlUd9cwdEBpt5pGBBAAAAXwGeFHRCfwALEjMNtFBOj7Vljnew8Dkj6cju2OipIqtKSGYIAPot8m8Df27llxEPojZhOwtoruiqy06vm6ge6Wl5DIzqor8jabP7ZRPJYCirZaNcClV94QPsMAsKREPmAAAAjAGeFmpCfwALFcCtSlBT4jkHysM7Uxxob8Esn+cJ27G7k/UxjmAB+4llFQj9SgjBLHCwv/9RJi7+L7zO9IPKsfJxDNu8oEmqRVal+Zc0mWdIyob+i5b0eZpBU+9HvZbzolWlhhPztQNJSfe8gAZU4DK2cCQm47lnqMKkr8lFhQvXB67dUUbaozf7gKmBAAAAs0GaGUmoQWyZTBRMK//+OEAAAAMCDfBDieED/ZgCwTOdHO+89gXEkfpMAyRnHgsWEbqWie/Muxw/f+YF2ExVacDuSXf3Js3fFnGgqYXT9UYrdvFW/4Y1suhdbr/35fjnRZVcS5UznE7RXN1FgRdH4/SOqK21VoSCXHGm3x2yx2rQUX6Sh9GOUqxhWkdPCO84RAIG1OjV0HLmKp1/ODY4giYSgr6C0O3O20tzYeZlcXQ0PFwRAAAAkwGeOGpCfwAMlfGn1S6iy+GWvuPmkOfwl6rp9Nicw6QAeqHpgGchOqDg1WjcHAbV4AHHsZZairnr4tt8Wmco/3TNFNY/Qxef9vM70soSMrvlsvaDCpk0sflkgYPa0GextzGyDyDa/+Td2XjqNuymbaZ/xHcgJSNCXUmKqnCiDyPZ/P/QTnB31UY6HMLEO+GQ8KwpIAAACZdliIIABD/+94G/MstkP6rJcfnnfSyszzzkPHJdia640AAAAwAAAwABR4e1643dg1tJ0AAAGsADpB/BeRgx0CPj5HCOgcBEi8AtxX2CwzFBAAZZu0pCbCmFV6iRrvvx+LayOlauEHUBX2uqYaKTiqbF3B3IyGdtHUooeqskXZciVNhIpYID69PP5hFHhqSTAHvl/Uo8DS09b7Ic2u+M91wJNt7ql2cBLG0a+yijk25cmGQrZ8CPdZtpbTjRV98Q35qUHx6kwMq6hHOD1egKfEaiDRkgDjnpGoj/mN8axKZ0KbAhXr9XR7isOk9+aGDCVtHKLRG8lRrC2UeN7Ih/Daff7mhMgxQyH0VHtfeVswd/cb3JMcO6Hw3LDKyCVhEl1DES0zhtZIXLeZb4eXnIND/GtipG35N0GIcd59BcDQPNOWRSRLNkQEg8gRuPni/ZzfB3cgT6umSm3Rpko1EGCANLds2Vu5rwVxNsPuVpayg0DXT4Yi5s3U6qLuHRF35iwWMraGIcxZA6dKCNGD9jhm0OoTJt8RsL3Y4KEGZxMo63piM7wWkkoeddvgvRauGkb5W4GRB0wkPOK3N0vOZxhCh72DRHr9+NBhuuKe6D0UENsSzRGFHiXUU4puMvm8Th1ntSzhjGJyDBW+QTY37BZX8H2sXyy18BtuyCGaxrhenc3ihYlEikilaV8w92AviwlTUhYQ6Am2BfY7Tld2uqdGn+2+ZX7PmAEzOMCMXtx2H1dndb3Or2pcg6dqpzqmzQjmQrKxxE/CsSW52iG3/hb5uV2w6Nru1f4l1ffiSFEAes3rPX4sPj0TrXFYDK3m63tsdd2rO19H1G38gFlwhQwEef9c98L9DDZub9OiqvzK+DZRy2zcMHUwt16fooWEKOE+D6LM9vtOJOdn31lZDlGGZuSQbYkCOmlCkZOqsSHgtkW+Nt+mUDdDXgS09/ub9nv+s4+lnVtBFzdHVWubWBALp5DFxIS1WMMCyzQ8dvRRzddjEenfAiUlYyIC2hbA2UqLn2LnaRvH3U6hLvEQS0aPtIvzcGciSewYle5gZHi0pdtqGRM8serr0/y/FirNxlcQnSfImIPBgmSg49LyCPMoB1yEdIoBgZgO7UIk/L5dBDsHi730vEhrgoQiTWgdsHOkUy/tCXvKbf6885IIW58pSppxJmWe9isamuI4OKPUg0z/DxjctDBChD1FpDJVVkfksWpxrLp+r/UvsPbu6RjCjWBjQaiRLhb5/mXaecsTSS2OZC9S/pNGdYuG4XVQd3QyUhvLw5wqLZlybjLGcXt34iDr5yeBr9j1HRadyudLC+ScHob1Rc3FVOLBl0BXQ9kSs8Mp6HohKA8fFc4JCBk4aZmNHqzYI5AkzeDSIOjrtaIgMXe6uc9VRFzoPzv+sNJjdpfQBToKZyDZ0cbBEupPMNcswgmg56NjuRVsKvar3JA9Qwj3ecvpO3RGo5MY6s4mAtBT9N10qMMBK/hwZKwe8q7HJyR2wZYlt9QdOr2Zf9mmPLcHwKxXGFV9mgos6uozmqDyEJeRwhfyAtGxaJWi/Y5TKb5Wo6sGyU1k6vG8Q0TtOjPAvDJRA+d2QtfM/jL3we06Ofi8So0eAJaygSXkdzaBjBgzglTluQ7ODPrefmAeaUDY9qiWFDlbmr5MW4OQW44ZVjb78gIwWE2yl0oMcTQqbTygKZ+KqaYSb+iMOkzScE8XVmHw2hCYbmc1PJ3LBnt+Ramyk9GqAbfT7MhK4tCFa/e3Qe01aLFaSAiP1ztFYUzm5cazn3GRQzoUkNRO7NbWGdNV753rqUtuy29XeDQhX/S7Bb/Fc2fFfBJVtgxRo2oanNo2o9GcN7mHD2stmRsq2IH4sEAJZURkxaLrf+C2oFwCCCDm3AHdeD+vP+avR3tlRR4YsJbdcmYO3N+pkavd5n6T1/c/9yJP9JXrfq5fHhKiq/yNSWKOiAdHY3FYvMaLIKX7TgvQACLpOq8ksmFZl3hYncb2OOs0o3eN2C6CI/znXWJLRTGKTDb/Z9T5hYjYYFDf+TtVLakkzxTf9Q2D7k0FpSw61r7voiI9XBn3Pj4f7X/8cMGaadLQKS1er0w2TQ+SNVEhxG3AZDTJSQEnMoUXeoriSADs1U40xz0OzjS/Y5D6zHkkVh67Z0ZzRNb8yXiHzTG5SyRQk90KLjQd5mG0ZYzv/awbdQb8Ef6Mhjs/GxdKT5zlD1jTrYV7A7ouCdGkoS0f+/6R/pBiN6DwNqx9QyHFaGNzJv3qcg//+jfz/t1a8i8wSk76RrkJIyUIluciXgtcCYnh1KuMFj99gpiR5rwbYHOHQTsYEgQO52kmryKd/kQHC78/1UtVA7toIQkAJ1dmcgdMOIVw+6hC1vtFyy7keDSVNOvBMktufzu1Pv/NKzG9oxApaufNle1PaBe97nIKCaDNLvX8NSYbDexf1uVem6I4+j3D9VqC4He/w7OLLCnJJWd2e43ohD8Y+BGAqYbbJOMgyFF/qwfDUxUzpaa1A2UBDPLQGFYwwPD7/E6iyAT0+yc6ihhmP9TuHshD6N5TN4SNEGHM/DaHaTQ3/3vCxE5YEye0P34egIS33qphVipgC6wbNtt419C5HU8KmpiZJk8m/fVwSzGtwX0G906GM6MHJCdj2NPxarsxqB9x5V9t7gRDFbAmZ+Wnp7rvXk4qTlnFt9YUCM4tXRcYmX/p2NAQ+23XKD6vj2oyynjYXaHFD4ywBqJIwv1egDqHBH8xZy5r7sVB3+vk50LXKtExdm/GEGHorFdLaWCoZID0fM8dm93RbmLjtb7KkVHh01VqI6ivPee1FSQl3FabRPeMERCL0sJl2P/xY5V4w67J8BZA0v9JuWoRY+L8rwwjie2OwX8u9UQNjZZBf4VJ8i2eCz3JYsrVXhwNtQFpDTY0Ty+xQbt4QH9hf9yY/IWxiv2uOfUjQdOMtzlrBM+DD9HTLCFCutYoerFHSv7uLX+4PdQIRhPjL1tL1LGyfmUPW2r64YADRGsozd3VHqL8tSco0ZuvPiYwNbsazANsqanCV8WXqSvVgKgJzCheL0afh9v/8S2O3qHU6GB2t8PaO9ZkcwEOm/vee3AHedaZKFHRqn8ouJ8TX4tySV2iVgV+CBTrLsw+gAiph1myyphsi/ZlBTtucfNrlnTrn4yvRyAJQFlJtoduqoF/X8Flvi7bLyspJu3xd4yDoEVR6xmK+9U+US/i+2YoVNXw9BoxmWCFPJsIII4KD+7ryN/0MjJam1GgAHpgWVgBp0B+YEQwSFAAABqUGaJGxDf/6nhAAAAwAOIyckAW6otWiBF/nEM4Ib2F1g//vR1FHOMwO/8Cow7gH6ki9Mu5W0n6QE3Xh+rAb5DWX0Ginop1oU+1KXux8wgNhq3ScML0uiMdZIx2DWcj74M9Be3NWxyrnWmJ33zd4MP/6tGLRZmOAfvnHiTCH4w08ZQWJ2r5Zfwc33LGCXYs1OgA0jk3q5EaCoCTKVH2+Lt95Ntgjc166c1ki1Y/TEErU+aH60p0mo5oiqEal1ztb56s4mFdN9C7uzr+qX3XTiVbhYEL0/8vEzwKo2rV/PsIw7MOcYTJunZ8YlVyrpofuXMcJTHVsp8QSg+FR0eVwro/SP17mWQbUH7mhqOCkB8XQxp7AseMTZpNIxCNGBTgNpiEA8nnExVAiXx1VsSuXgjbbJP6jo+P42QVjMZKpbnkYPPLNtXfLstRrsXQpkgErZLyZfi2jiHzkxhwD85b6M4oPPET0vGihsYRxwECZ3TQpFL1aUS/r/AKmFZvfMaaGnIk79rTCQMH9Wwj0VB2WhoziFVge4z4uZ2BWMgK1Ln/rbsElO4+uLygD/AAAAkEGeQniFfwAAAwALR7vYqd9c6CLHJziW8AJZKgZPJZPDKFgjNOiRjhRX2OItWnnDIrID6hsFM40Nu5fDZXOlfSPQeDA7vkr6lAXyM3YLPXe9S5rHc/x8lpdfFXbktLQpf22DrNc3+fB9DaXUrFgsVrlxNY2AaKvX4YFaX9dC2mVvqCzGdwYGHgN3jdbRpdtjMQAAAGEBnmF0Qn8AAAMADn7Z+E5gAATV49g99PeJD4oDOfbJmBVkgpuq7HyBUbq/aXSgDdGlvX6/TA1i+IIev7ZA+A4mR+e279vs/R1HtGsEk1QqawqT/b+75yuKFty17FGp/SZVAAAAbQGeY2pCfwAAAwAOUNWw4eIx1hUnyLHpbb1QBGR0UlEQ9Dz3ONjMWDgannEVhZZ/P0r/R9pTHRPwkDSqTGHZJbk9ZTT1xFhGpVFkNghwews+H54P2numiURS7Zl17GZBOsfNSBCURUZZ6OLtZWUAAAD7QZpoSahBaJlMCG///qeEAAADAA3KCjuETsvAAVYyGtIzK5H2787Gl9T5vG9oa9pWgEKDAgKmVlbhI9z6oOJlvIhF/laj8lHA4Fo14bl7YCt+SnoVeH1GHz1JTf/OcOT36/U5Hg1UVhAsssHMjP80nhQz/dPlyrHYkHDH9ZlnG19Lo8/0zPcw4eUgp66ylmDI66M8+5FR+nMka+NlWNSQSn1t9pWGqk5JP5XtVu847cKG2ANYbEAu9zLIWL9Pl8BSZp0L4El9sYuv9qJdrJpFCFHaEyJsZTKBwBzbfiDv1cAVEA/KH5LVtssq/nyToZbLTyiefQcLxVuqdvwAAABRQZ6GRREsK/8AAAMACza1Ha3giudYaXPSm4/IAAgzKeNDuixh85jTiysr9jkh02qgDogCYqQ5wi1LT6F5VTNQYvsyYNZBVsaWNWyLCo1QnJk3AAAAdAGepXRCfwAAAwAOfr78HABO2/6Ua9YD8O8edSB6WpyZC5zoAZFoc6xGJ99XT8wnVB2xDo0A2GtgJPMDWaVzhPs16hkWAuFQVoVXPRAwHGj948WkOS2/c5qjHGbR1u+qneGxNaRsTXQKiBFyIeKtIIxyaQHTAAAAawGep2pCfwAAAwAOdOKtgOI4TSGyfABX0ETIccrycDFbwSCTqpY8OEADWPrZIjf1kJGSd9OItqcGrBHZOaUp6V/9dtY6UIWo8C/kGUlkilhEL6GYS5JI7BEIJh2si0POvi6AUdPNw/SykqqRAAAA30GarEmoQWyZTAhv//6nhAAAAwAN2OKdIgBYdktMPMSljuGhInh6iJkHnIsEg+q+gt5PZM9tABwCPth7IeQ/Gw/ZECs/1wJCdhlUeUwdRGwJNGhW0cEx95o1bsOJiGboSE2w98rFPT2+6jf5PKrktLmXULNAxyCsN6ySgMlT0wNGRHp5Jm5wafjhAD/Hwr0HEQCCUHnH1Zjc8uLtYWHhhxu8o+OYp1CfqwFznZRHjbx7k7eAWET+tNP6g4jjJvZZwC0jBdkQk3JP1dmhW58GMPve6gXmCanWTxNfCJvu3oAAAABfQZ7KRRUsK/8AAAMAC1taUhSO0AVvjyvaMXAn6meMZZYGwI+YsurNkH7syxl1i/08wHZWEz2lW7mJYrNf3s6ehRN3BLvmJj4yYTieaGHDADEt3+TQEsyL/AcLBP/Pk7sAAABpAZ7pdEJ/AAADAA43fqAB/O4oYsy/ceTTWKPrIcVpCSs9434HfIqY0lId6ottm5V2lFTtrLL4gdRmnYoQFMLxyuLZLdqEOplrWL04Htt4Uv5sZ2TrYXKrHQ4rf/dSJs8DRmX8EHwHuCghAAAAawGe62pCfwAAAwAN072vhFu4ArfldWBCbeX7Pibx9oy5IHSQY9sjD0jcif2hNEbjXFkdAb1vf0AnCFxFFijQz+M+OpdmgLgDPbwhJYSJJLztKkOBk/0F8+5c/WOCzwsOl4RgHwB+3R4gCKItAAAAxUGa70moQWyZTAhv//6nhAAAAwANyauDvSAK3r2FaCNgmpkHaHDOZ1NNaMsQMVBZT4c9JRgocbFZhzUBwYyXozzaVA5BtrYtCDd5K2OHADCawgKPqCkOF8t3nxmyOsLzzMKwku/2JySLy53/+YPxvHRm75a1Pt2Pf9tgyw8/E3YbRZMGCcu1J2r7FnvwxZ7n005CMpCQIs546VwRIZWctu9ptLBcb2rVkj2V/lzxSGNBhzDiZ/DHSDiM3QjdWQIxFlK+bNSBAAAAY0GfDUUVLCv/AAADABxkCwA6P2a6nytAgFRclAup5gUzsTUT4MKXYsroyJCtPw0SaJ9a+S68DK00NgcTKXRZYKHnymqG/P7g+FM3msOA28qhjw3RTIgvpHI62TN2eDOH0TfwdwAAAFsBny5qQn8AAAMAJLEYei9KcAFoTbxNzztj/PvMO6yT4pjalUudBmYhA9OmS3Sz7mwwXmLQyj2YiAlkn7nOgspzbeVulClT8CM8/aSE7MRfReYfRFSXPiE8Vr5QAAAAxkGbM0moQWyZTAhv//6nhAAAAwAOeRoFACE4djh6G8lHGwoAqajgzFO1demtT/nv3Y8/Xt9pDWSGr4FX9cfF+r3I+MprwywxhzWOsYKR/kZ+slewEou6JuLNabJMZxxZJLP1jeD07B8SumNlqtOiQ4p/OVRkgfl/3mkwcu0fx8SMoR/6n4nJs8cZnX9s1Xl3KwYucYUj3sYvyjUSlvQaqyEveKZhzcTE84+Cyah3/edhngh7odiaWrk3iR8sgg3uijy4HytNoQAAAHBBn1FFFSwr/wAAAwAL86NdiAB1n9htaugS5dKRVxOdtuBqLTNNrAV3+Mv24IItIRPu3wdOof0dDnmSTc5O5+4LHlmkhbD8IYGJhG0PlpKum0h7SWp/QzteiPMnAebpaQAg5MBRs5D/gWWHv9D/lXMWAAAASQGfcHRCfwAAAwAPNL8F8U0WSnexydao9wAIwJnaeHzHe79rFQ+6+rffdF90E0F24Tq21ud0tBauHqjLlfs0xEdkzzrmM1Be4EAAAABoAZ9yakJ/AAADACXVHcAcnm7srZuAkTXtaAM/5RuEfCgMlpIjqyV0MbwN/zKVpqemri1J6nJw7cQ1DBrsAXXfuq3/G7uZxm8eeNchA3SPo1VtOi8Jy0Cs31b5uKQtQD0FP9WvO8euycEAAAD6QZt3SahBbJlMCG///qeEAAADAA6OvfhRxwOADlm2OIJA7FZHyfV9TRfl9V+vUAMpPtORHSxOifSZaz3yI7K5h0+W8njrDCirGiMS4I3/ZcNVM/MV6nAH3mASXgXmwylezPROcKfTj7G5+Us/xZricj5U7dJlN7qCNEoZQ4BWCRlzSF/kl+qt6AnAy8mt9OiJpEKJAI/eNZ5HrVIGWGNyT3QJbF0TAEyVjFe2DKXJLbx2qj5qXU1Udqc4piJWG2jxkeLjKqT3mc0PysK3NiHVZHeP6x3GtA7beypjJdu/a8ni2y3dS0EQABtZZ2nyAlUuRI6KoianIZ+kIQAAAGpBn5VFFSwr/wAAAwAMmvmAFh84VKxpbNK2Gctht8ffj/eOryMi27NYIjanG9oQI6uVa3He71dT7Vijw9XS3+jeHdt0aNA8TXvHCpNHMPgkYJnadqhb63vzHW/3HT8jd9QZYF6QLWBBQAtpAAAAZAGftHRCfwAAAwAP5MLkaAK35XS5UgdYP7YxcGa4qJBmfwq7k4tqHdD/hB6gqbg8bdiV8D+OnymsDYeQdJva5hXnjEuJza5Xrf966X2rJUKFTNUx9UzOvtLgdDMqswo6Bk3QR8AAAABlAZ+2akJ/AAADABBoXgBaSr1PXHbSjhf/ZK87yz7h4vZbusA3u+K1/iYG3eJKlaaHJmGo0IoCiGsCiNAgrpWlDgIvSKGgkN09r9NG+z9plZoIkgNxzBkQPmqvOkI1LJ+qUkBCmpAAAAFLQZu7SahBbJlMCG///qeEAAADACLcg+ElxgAEZXISj04f8wOR2KRKcndp66OmnFM4WtYNoju4i63rwiErNo1TETL5UDKILNPKeNACAbGRb7V+MTaFtQ1ZeUUhRn2Jy50TI8bVYvYPDPdTjQB9cFm/7WbDwlHL0fibc7MG2ROp4ovmfxo9hfQsGyNeFniJtlsu0RZgGdKlU7Dl0aDpH5JQmkEaDVEzQnROfJMujsq5Mg4VcptguvTCDzuKjDHNLW1EX0SVwYXneGFG23sHg2gfUuZBFA2ZDTVmNRDz1lfd8hy3cPB9/BdQ4/POYDs6Hj6YQo0kNf6oouADzbq4HyZt610Mn6ZeJo2gaRD9gzleCynGnhVgZM4JkmwT1oHT1weLS/nh0OkePEqg8hxBb2yXxCE7YDkcYbXybphqz7LkhnFWOChwStQOvFC+YQAAALdBn9lFFSwr/wAAAwAcVklYoKeaTOqYXRsgOAHHtOZ15eAV4rZUIjW2rziR3/Ot3Td8rAZTXdjNEeftfRlpO//VhwVI8voyhCwaYbxS0qrcT4l4CPSycCzhIYUMrSYAmr6jv/tFx7PTRb3O3fqrSXf8Em1VyA4P7Bz+gFmmdqhZ3xyRtZLs4pnC4Z/7OC2aZwd6swTcso7aLhkpCKwb7jGv676Jpv06YIWlo9wlb7yFVXeXbVyKbAgAAAB2AZ/4dEJ/AAADAA/knQUtoRPsEADj2fwxAn5ATjsj/997zEXUne/XXeEXm7wjsXEYkGXSPSEjoawcj/weVFx6nGjgzO9a9/PMOtE2FIwJW7mn+ryPFBhOY+/IE81FdztGaUcn88jfpsFHKhcIOSapUVVmDtJTUgAAAHkBn/pqQn8AAAMAJLtrToNHA424AVvyr2CONqQqTKsX+EsJ//7ndMp9kAGZGG5EpT4W3TPWSY8nFLqU6azcgcE+t1qQpnoqi5l0oQ9n/TlBA7+bCIakqY/rnryX5J2wELrcbTJ5B0TOAdvph6P1VgxyfUPQEz8xyHpBAAAAikGb/0moQWyZTAhv//6nhAAAAwAi3yNhT670KzfbhBhwAukQc+KYkBpBeO5xrkSeAgKGSgqKnUAQtZI9VSHn3eEZk+0t0sL58TTqTDFHvosuUBhmPAKgWHF8USl8kL03QoagWnhCf6aPwePubm6uj22GZC1Xl3l59as/4VM6RFfw0gQTqZV+oMAr4AAAAHdBnh1FFSwr/wAAAwAcUCexrGhGeeurzOltQ8AOPaDCMo+KepecEHJSENTL0Z9ziIG2gLmpZunrmN9Bl1ystRXornp1ydSXAJQJiMZ2jK46Vpr6v+FFBwntBaCIrz4xmy3Pp/V2CrQ5q1CipmnJailqXndd4gAKCQAAAIEBnjx0Qn8AAAMAJNaOAF9gjc4syOr9GH2UUvKAvh1fjxw1ibQLfY5JFN96sOAFlRh2rHmdD0zm0kvQB/RktoFaMMcvV7qZcWNCTWmvl+dpMiRJCpOxjjUpxxfKhfvM1VRZmvx3MhV8Mv14TG0zG0qlY5nCFRmUnt6Se2QvCBVMAlcAAABDAZ4+akJ/AAADACO7gm0XJncAVpqaXT6BhF7d12nSezoVfz7KDVxbX39tL/dDwj8WStml2TZ3ebegaJgVWRW5dgJakAAAAIxBmiNJqEFsmUwIb//+p4QAAAMAJbTBkgAV0+fUg3NZF9/VBxwLkrPpKNy4jVLT7vSnZtIc4DzYmZjdeBDsq1uxC4E+h8SE2lO5OU43Roem8RMhjr/VF8DOA3yJjpord7umjRXVKpz0iiz39w04SyfyWnij7gg0tAf7wEwRkQqpFD3nCasjKiOdAUCHgQAAAChBnkFFFSwr/wAAAwAbqw0NQkd6+ve2sKrjJ+fkSjUPFi48MnhHAErAAAAAMQGeYHRCfwAAAwAmrWc2z1FndgAQecojZ3/L8qdd/iJZ9f4Q49jo1LjYmV6x9+AA6YEAAAAeAZ5iakJ/AAADACaxgithMjEvpwTxP9ck+3urwFpBAAAAGkGaZ0moQWyZTAhv//6nhAAAAwAB5U8VxDugAAAAHUGehUUVLCv/AAADABurDGg7T1HUGDemGdiT/fFTAAAAGAGepHRCfwAAAwAjrUTkQ8HreWBMVQ0HLQAAABcBnqZqQn8AAAMAI7t9M+I2De1XxkrswAAAABhBmqtJqEFsmUwIb//+p4QAAAMAAAMA1IEAAAAcQZ7JRRUsK/8AAAMAG6sMaDtPUZ4Vsl1HtyDtoAAAABcBnuh0Qn8AAAMAI61E5EPB1HotG5fjgQAAABcBnupqQn8AAAMAI7t9M+I2De1XxkrswQAAABhBmu9JqEFsmUwIb//+p4QAAAMAAAMA1IEAAAAcQZ8NRRUsK/8AAAMAG6sMaDtPUZ4Vsl1HtyDtoQAAABcBnyx0Qn8AAAMAI61E5EPB1HotG5fjgAAAABcBny5qQn8AAAMAI7t9M+I2De1XxkrswAAAABhBmzNJqEFsmUwIb//+p4QAAAMAAAMA1IEAAAAcQZ9RRRUsK/8AAAMAG6sMaDtPUZ4Vsl1HtyDtoAAAABcBn3B0Qn8AAAMAI61E5EPB1HotG5fjgAAAABcBn3JqQn8AAAMAI7t9M+I2De1XxkrswQAAABdBm3dJqEFsmUwIZ//+nhAAAAMAAAMDPwAAABxBn5VFFSwr/wAAAwAbqwxoO09RnhWyXUe3IO2hAAAAFwGftHRCfwAAAwAjrUTkQ8HUei0bl+OAAAAAFwGftmpCfwAAAwAju30z4jYN7VfGSuzAAAAAF0Gbu0moQWyZTAhf//6MsAAAAwAAAwNDAAAAHEGf2UUVLCv/AAADABurDGg7T1GeFbJdR7cg7aAAAAAXAZ/4dEJ/AAADACOtRORDwdR6LRuX44AAAAAXAZ/6akJ/AAADACO7fTPiNg3tV8ZK7MEAAAAYQZv9SahBbJlMFEwn//3xAAADAAADAB6QAAAAGQGeHGpCfwAAAwANhe9MGwPT9BlROTYF1IEAABF2bW9vdgAAAGxtdmhkAAAAAAAAAAAAAAAAAAAD6AAAKKAAAQAAAQAAAAAAAAAAAAAAAAEAAAAAAAAAAAAAAAAAAAABAAAAAAAAAAAAAAAAAABAAAAAAAAAAAAAAAAAAAAAAAAAAAAAAAAAAAAAAAAAAgAAEKB0cmFrAAAAXHRraGQAAAADAAAAAAAAAAAAAAABAAAAAAAAKKAAAAAAAAAAAAAAAAAAAAAAAAEAAAAAAAAAAAAAAAAAAAABAAAAAAAAAAAAAAAAAABAAAAAAmAAAAGQAAAAAAAkZWR0cwAAABxlbHN0AAAAAAAAAAEAACigAAAEAAABAAAAABAYbWRpYQAAACBtZGhkAAAAAAAAAAAAAAAAAAA8AAACcABVxAAAAAAALWhkbHIAAAAAAAAAAHZpZGUAAAAAAAAAAAAAAABWaWRlb0hhbmRsZXIAAAAPw21pbmYAAAAUdm1oZAAAAAEAAAAAAAAAAAAAACRkaW5mAAAAHGRyZWYAAAAAAAAAAQAAAAx1cmwgAAAAAQAAD4NzdGJsAAAAl3N0c2QAAAAAAAAAAQAAAIdhdmMxAAAAAAAAAAEAAAAAAAAAAAAAAAAAAAAAAmABkABIAAAASAAAAAAAAAABAAAAAAAAAAAAAAAAAAAAAAAAAAAAAAAAAAAAAAAAAAAAGP//AAAAMWF2Y0MBZAAe/+EAGGdkAB6s2UCYM6EAAAMAAQAAAwA8DxYtlgEABmjr48siwAAAABhzdHRzAAAAAAAAAAEAAAE4AAACAAAAABhzdHNzAAAAAAAAAAIAAAABAAAA+wAACZBjdHRzAAAAAAAAATAAAAABAAAEAAAAAAEAAAYAAAAAAQAAAgAAAAABAAAGAAAAAAEAAAIAAAAAAQAABgAAAAABAAACAAAAAAEAAAgAAAAAAgAAAgAAAAABAAAGAAAAAAEAAAIAAAAAAQAABgAAAAABAAACAAAAAAEAAAYAAAAAAQAAAgAAAAABAAAGAAAAAAEAAAIAAAAAAQAACgAAAAABAAAEAAAAAAEAAAAAAAAAAQAAAgAAAAABAAAGAAAAAAEAAAIAAAAAAQAACAAAAAACAAACAAAAAAEAAAYAAAAAAQAAAgAAAAABAAAKAAAAAAEAAAQAAAAAAQAAAAAAAAABAAACAAAAAAEAAAoAAAAAAQAABAAAAAABAAAAAAAAAAEAAAIAAAAAAQAACgAAAAABAAAEAAAAAAEAAAAAAAAAAQAAAgAAAAABAAAKAAAAAAEAAAQAAAAAAQAAAAAAAAABAAACAAAAAAEAAAoAAAAAAQAABAAAAAABAAAAAAAAAAEAAAIAAAAAAQAACgAAAAABAAAEAAAAAAEAAAAAAAAAAQAAAgAAAAABAAAKAAAAAAEAAAQAAAAAAQAAAAAAAAABAAACAAAAAAEAAAoAAAAAAQAABAAAAAABAAAAAAAAAAEAAAIAAAAAAQAACgAAAAABAAAEAAAAAAEAAAAAAAAAAQAAAgAAAAABAAAKAAAAAAEAAAQAAAAAAQAAAAAAAAABAAACAAAAAAEAAAoAAAAAAQAABAAAAAABAAAAAAAAAAEAAAIAAAAAAQAACgAAAAABAAAEAAAAAAEAAAAAAAAAAQAAAgAAAAABAAAKAAAAAAEAAAQAAAAAAQAAAAAAAAABAAACAAAAAAEAAAoAAAAAAQAABAAAAAABAAAAAAAAAAEAAAIAAAAAAQAACgAAAAABAAAEAAAAAAEAAAAAAAAAAQAAAgAAAAABAAAKAAAAAAEAAAQAAAAAAQAAAAAAAAABAAACAAAAAAEAAAgAAAAAAgAAAgAAAAABAAAKAAAAAAEAAAQAAAAAAQAAAAAAAAABAAACAAAAAAEAAAgAAAAAAgAAAgAAAAABAAAIAAAAAAIAAAIAAAAAAQAACgAAAAABAAAEAAAAAAEAAAAAAAAAAQAAAgAAAAABAAAKAAAAAAEAAAQAAAAAAQAAAAAAAAABAAACAAAAAAEAAAoAAAAAAQAABAAAAAABAAAAAAAAAAEAAAIAAAAAAQAACgAAAAABAAAEAAAAAAEAAAAAAAAAAQAAAgAAAAABAAAKAAAAAAEAAAQAAAAAAQAAAAAAAAABAAACAAAAAAEAAAoAAAAAAQAABAAAAAABAAAAAAAAAAEAAAIAAAAAAQAACgAAAAABAAAEAAAAAAEAAAAAAAAAAQAAAgAAAAABAAAKAAAAAAEAAAQAAAAAAQAAAAAAAAABAAACAAAAAAEAAAoAAAAAAQAABAAAAAABAAAAAAAAAAEAAAIAAAAAAQAACgAAAAABAAAEAAAAAAEAAAAAAAAAAQAAAgAAAAABAAAKAAAAAAEAAAQAAAAAAQAAAAAAAAABAAACAAAAAAEAAAoAAAAAAQAABAAAAAABAAAAAAAAAAEAAAIAAAAAAQAACgAAAAABAAAEAAAAAAEAAAAAAAAAAQAAAgAAAAABAAAKAAAAAAEAAAQAAAAAAQAAAAAAAAABAAACAAAAAAEAAAoAAAAAAQAABAAAAAABAAAAAAAAAAEAAAIAAAAAAQAACgAAAAABAAAEAAAAAAEAAAAAAAAAAQAAAgAAAAABAAAKAAAAAAEAAAQAAAAAAQAAAAAAAAABAAACAAAAAAEAAAgAAAAAAgAAAgAAAAABAAAKAAAAAAEAAAQAAAAAAQAAAAAAAAABAAACAAAAAAEAAAoAAAAAAQAABAAAAAABAAAAAAAAAAEAAAIAAAAAAQAACgAAAAABAAAEAAAAAAEAAAAAAAAAAQAAAgAAAAABAAAKAAAAAAEAAAQAAAAAAQAAAAAAAAABAAACAAAAAAEAAAoAAAAAAQAABAAAAAABAAAAAAAAAAEAAAIAAAAAAQAACgAAAAABAAAEAAAAAAEAAAAAAAAAAQAAAgAAAAABAAAKAAAAAAEAAAQAAAAAAQAAAAAAAAABAAACAAAAAAEAAAoAAAAAAQAABAAAAAABAAAAAAAAAAEAAAIAAAAAAQAACgAAAAABAAAEAAAAAAEAAAAAAAAAAQAAAgAAAAABAAAKAAAAAAEAAAQAAAAAAQAAAAAAAAABAAACAAAAAAEAAAgAAAAAAgAAAgAAAAABAAAKAAAAAAEAAAQAAAAAAQAAAAAAAAABAAACAAAAAAEAAAoAAAAAAQAABAAAAAABAAAAAAAAAAEAAAIAAAAAAQAACgAAAAABAAAEAAAAAAEAAAAAAAAAAQAAAgAAAAABAAAKAAAAAAEAAAQAAAAAAQAAAAAAAAABAAACAAAAAAEAAAoAAAAAAQAABAAAAAABAAAAAAAAAAEAAAIAAAAAAQAACgAAAAABAAAEAAAAAAEAAAAAAAAAAQAAAgAAAAABAAAKAAAAAAEAAAQAAAAAAQAAAAAAAAABAAACAAAAAAEAAAYAAAAAAQAAAgAAAAABAAAEAAAAAAEAAAoAAAAAAQAABAAAAAABAAAAAAAAAAEAAAIAAAAAAQAACgAAAAABAAAEAAAAAAEAAAAAAAAAAQAAAgAAAAABAAAKAAAAAAEAAAQAAAAAAQAAAAAAAAABAAACAAAAAAEAAAgAAAAAAgAAAgAAAAABAAAKAAAAAAEAAAQAAAAAAQAAAAAAAAABAAACAAAAAAEAAAoAAAAAAQAABAAAAAABAAAAAAAAAAEAAAIAAAAAAQAACgAAAAABAAAEAAAAAAEAAAAAAAAAAQAAAgAAAAABAAAKAAAAAAEAAAQAAAAAAQAAAAAAAAABAAACAAAAAAEAAAoAAAAAAQAABAAAAAABAAAAAAAAAAEAAAIAAAAAAQAACgAAAAABAAAEAAAAAAEAAAAAAAAAAQAAAgAAAAABAAAKAAAAAAEAAAQAAAAAAQAAAAAAAAABAAACAAAAAAEAAAoAAAAAAQAABAAAAAABAAAAAAAAAAEAAAIAAAAAAQAACgAAAAABAAAEAAAAAAEAAAAAAAAAAQAAAgAAAAABAAAKAAAAAAEAAAQAAAAAAQAAAAAAAAABAAACAAAAAAEAAAoAAAAAAQAABAAAAAABAAAAAAAAAAEAAAIAAAAAAQAABgAAAAABAAACAAAAABxzdHNjAAAAAAAAAAEAAAABAAABOAAAAAEAAAT0c3RzegAAAAAAAAAAAAABOAAACgUAAAFFAAAAWQAAAOUAAAA1AAABOwAAAEsAAADaAAAAhAAAAIUAAADlAAAAcAAAAQEAAACZAAABWQAAAKYAAAFuAAAAzgAAAVQAAAEIAAAAywAAAMwAAAEPAAAArQAAAREAAAClAAAAwgAAANUAAADJAAABagAAALgAAADSAAAA4QAAASoAAADlAAAAyAAAAM8AAAEkAAAA5gAAALEAAACZAAABVwAAAMoAAADEAAAAxwAAAXQAAADeAAAArQAAAPIAAAFPAAAAwgAAALIAAADQAAABcQAAANMAAADYAAAA4AAAAX8AAAEOAAAAtAAAALkAAAE9AAAA2wAAALgAAADSAAABXgAAAOEAAADiAAAAzAAAAT0AAACpAAAAswAAANcAAAFcAAAA2QAAAMsAAAC+AAABBgAAAM8AAADQAAAA5gAAAWkAAADiAAAA6wAAAM8AAAErAAAAqAAAALMAAADCAAABJQAAALkAAADLAAAAlAAAAMMAAAB8AAAAdwAAAMoAAADFAAAAmgAAAHwAAACpAAAAdgAAAGoAAAFKAAAAfQAAAHoAAADwAAAAmgAAAGUAAABqAAAAkwAAAHIAAABwAAAAbQAAAVoAAADIAAAAbQAAAI0AAADdAAAAzwAAAJ8AAACOAAAA1gAAAH8AAACMAAAAngAAASIAAACKAAAAfQAAAKwAAAD0AAAAhwAAAKsAAACSAAABAAAAAL4AAACAAAAAlAAAASAAAADnAAAAoQAAAMsAAAEdAAAA1gAAALMAAAChAAAA2QAAALoAAACmAAAAdwAAAQUAAAC1AAAAjAAAAJUAAAEHAAAApgAAAKUAAACOAAABMQAAAJ4AAACAAAAAowAAATQAAAC4AAAAmAAAAMoAAADOAAAAzQAAALMAAACPAAABGAAAAJwAAABzAAAAmAAAATsAAADQAAAAmAAAAOgAAAD3AAAAzgAAAOQAAAECAAAAnwAAAHkAAACRAAAA9wAAANMAAACXAAAAqAAAAVwAAAC+AAAAiAAAAHcAAAEpAAAA4wAAAIoAAACMAAABFgAAAJkAAAB9AAAAigAAAVEAAACmAAAAbAAAAIIAAAE1AAAAugAAAHsAAAB4AAABHgAAAKYAAABtAAAAfwAAAXAAAADdAAAAnwAAAJMAAAFaAAAAhgAAAJYAAAElAAAAqAAAAIEAAACQAAABKAAAANIAAACOAAAAgQAAAUYAAACQAAAAkAAAAJsAAADfAAAAsQAAAJ0AAACTAAABCQAAAJ8AAABzAAAAiAAAAPQAAACYAAAAdgAAAGkAAAEKAAAAhAAAAGMAAACQAAAAtwAAAJcAAAmbAAABrQAAAJQAAABlAAAAcQAAAP8AAABVAAAAeAAAAG8AAADjAAAAYwAAAG0AAABvAAAAyQAAAGcAAABfAAAAygAAAHQAAABNAAAAbAAAAP4AAABuAAAAaAAAAGkAAAFPAAAAuwAAAHoAAAB9AAAAjgAAAHsAAACFAAAARwAAAJAAAAAsAAAANQAAACIAAAAeAAAAIQAAABwAAAAbAAAAHAAAACAAAAAbAAAAGwAAABwAAAAgAAAAGwAAABsAAAAcAAAAIAAAABsAAAAbAAAAGwAAACAAAAAbAAAAGwAAABsAAAAgAAAAGwAAABsAAAAcAAAAHQAAABRzdGNvAAAAAAAAAAEAAAAwAAAAYnVkdGEAAABabWV0YQAAAAAAAAAhaGRscgAAAAAAAAAAbWRpcmFwcGwAAAAAAAAAAAAAAAAtaWxzdAAAACWpdG9vAAAAHWRhdGEAAAABAAAAAExhdmY1OC4yOS4xMDA=\" type=\"video/mp4\">\n",
       "    Your browser does not support the video tag.\n",
       "    </video>"
      ],
      "text/plain": [
       "<IPython.core.display.HTML object>"
      ]
     },
     "execution_count": 26,
     "metadata": {},
     "output_type": "execute_result"
    }
   ],
   "source": [
    "filename = \"./videos/lunar_lander.mp4\"\n",
    "\n",
    "utils.create_video(filename, env, q_network)\n",
    "utils.embed_mp4(filename)"
   ]
  },
  {
   "cell_type": "markdown",
   "metadata": {},
   "source": [
    "<a name=\"11\"></a>\n",
    "## 11 - Congratulations!\n",
    "\n",
    "You have successfully used Deep Q-Learning with Experience Replay to train an agent to land a lunar lander safely on a landing pad on the surface of the moon. Congratulations!"
   ]
  },
  {
   "cell_type": "markdown",
   "metadata": {},
   "source": [
    "<a name=\"12\"></a>\n",
    "## 12 - References\n",
    "\n",
    "If you would like to learn more about Deep Q-Learning, we recommend you check out the following papers.\n",
    "\n",
    "\n",
    "* Mnih, V., Kavukcuoglu, K., Silver, D. et al. Human-level control through deep reinforcement learning. Nature 518, 529–533 (2015).\n",
    "\n",
    "\n",
    "* Lillicrap, T. P., Hunt, J. J., Pritzel, A., et al. Continuous Control with Deep Reinforcement Learning. ICLR (2016).\n",
    "\n",
    "\n",
    "* Mnih, V., Kavukcuoglu, K., Silver, D. et al. Playing Atari with Deep Reinforcement Learning. arXiv e-prints.  arXiv:1312.5602 (2013)."
   ]
  },
  {
   "cell_type": "markdown",
   "metadata": {},
   "source": [
    "<details>\n",
    "  <summary><font size=\"2\" color=\"darkgreen\"><b>Please click here if you want to experiment with any of the non-graded code.</b></font></summary>\n",
    "    <p><i><b>Important Note: Please only do this when you've already passed the assignment to avoid problems with the autograder.</b></i>\n",
    "    <ol>\n",
    "        <li> On the notebook’s menu, click “View” > “Cell Toolbar” > “Edit Metadata”</li>\n",
    "        <li> Hit the “Edit Metadata” button next to the code cell which you want to lock/unlock</li>\n",
    "        <li> Set the attribute value for “editable” to:\n",
    "            <ul>\n",
    "                <li> “true” if you want to unlock it </li>\n",
    "                <li> “false” if you want to lock it </li>\n",
    "            </ul>\n",
    "        </li>\n",
    "        <li> On the notebook’s menu, click “View” > “Cell Toolbar” > “None” </li>\n",
    "    </ol>\n",
    "    <p> Here's a short demo of how to do the steps above: \n",
    "        <br>\n",
    "        <img src=\"https://lh3.google.com/u/0/d/14Xy_Mb17CZVgzVAgq7NCjMVBvSae3xO1\" align=\"center\" alt=\"unlock_cells.gif\">\n",
    "</details>"
   ]
  }
 ],
 "metadata": {
  "accelerator": "GPU",
  "colab": {
   "collapsed_sections": [],
   "name": "TensorFlow - Lunar Lander.ipynb",
   "provenance": []
  },
  "kernelspec": {
   "display_name": "Python 3",
   "language": "python",
   "name": "python3"
  },
  "language_info": {
   "codemirror_mode": {
    "name": "ipython",
    "version": 3
   },
   "file_extension": ".py",
   "mimetype": "text/x-python",
   "name": "python",
   "nbconvert_exporter": "python",
   "pygments_lexer": "ipython3",
   "version": "3.7.6"
  }
 },
 "nbformat": 4,
 "nbformat_minor": 1
}
